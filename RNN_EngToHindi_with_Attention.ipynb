{
  "nbformat": 4,
  "nbformat_minor": 0,
  "metadata": {
    "colab": {
      "name": "AttentionA3BasicLstm.ipynb",
      "provenance": [],
      "collapsed_sections": []
    },
    "kernelspec": {
      "name": "python3",
      "display_name": "Python 3"
    },
    "accelerator": "GPU"
  },
  "cells": [
    {
      "cell_type": "code",
      "metadata": {
        "colab": {
          "base_uri": "https://localhost:8080/"
        },
        "id": "5N2E7YgD2tiq",
        "outputId": "570e4175-c1e0-40b0-bba5-1710c6dc026d"
      },
      "source": [
        "  ! pip install wandb"
      ],
      "execution_count": null,
      "outputs": [
        {
          "output_type": "stream",
          "text": [
            "Collecting wandb\n",
            "\u001b[?25l  Downloading https://files.pythonhosted.org/packages/98/5f/45439b4767334b868e1c8c35b1b0ba3747d8c21be77b79f09eed7aa3c72b/wandb-0.10.30-py2.py3-none-any.whl (1.8MB)\n",
            "\u001b[K     |████████████████████████████████| 1.8MB 7.1MB/s \n",
            "\u001b[?25hCollecting GitPython>=1.0.0\n",
            "\u001b[?25l  Downloading https://files.pythonhosted.org/packages/27/da/6f6224fdfc47dab57881fe20c0d1bc3122be290198ba0bf26a953a045d92/GitPython-3.1.17-py3-none-any.whl (166kB)\n",
            "\u001b[K     |████████████████████████████████| 174kB 36.4MB/s \n",
            "\u001b[?25hCollecting subprocess32>=3.5.3\n",
            "\u001b[?25l  Downloading https://files.pythonhosted.org/packages/32/c8/564be4d12629b912ea431f1a50eb8b3b9d00f1a0b1ceff17f266be190007/subprocess32-3.5.4.tar.gz (97kB)\n",
            "\u001b[K     |████████████████████████████████| 102kB 13.2MB/s \n",
            "\u001b[?25hCollecting configparser>=3.8.1\n",
            "  Downloading https://files.pythonhosted.org/packages/fd/01/ff260a18caaf4457eb028c96eeb405c4a230ca06c8ec9c1379f813caa52e/configparser-5.0.2-py3-none-any.whl\n",
            "Requirement already satisfied: Click>=7.0 in /usr/local/lib/python3.7/dist-packages (from wandb) (7.1.2)\n",
            "Collecting shortuuid>=0.5.0\n",
            "  Downloading https://files.pythonhosted.org/packages/25/a6/2ecc1daa6a304e7f1b216f0896b26156b78e7c38e1211e9b798b4716c53d/shortuuid-1.0.1-py3-none-any.whl\n",
            "Requirement already satisfied: requests<3,>=2.0.0 in /usr/local/lib/python3.7/dist-packages (from wandb) (2.23.0)\n",
            "Requirement already satisfied: psutil>=5.0.0 in /usr/local/lib/python3.7/dist-packages (from wandb) (5.4.8)\n",
            "Collecting sentry-sdk>=0.4.0\n",
            "\u001b[?25l  Downloading https://files.pythonhosted.org/packages/1c/4a/a54b254f67d8f4052338d54ebe90126f200693440a93ef76d254d581e3ec/sentry_sdk-1.1.0-py2.py3-none-any.whl (131kB)\n",
            "\u001b[K     |████████████████████████████████| 133kB 37.7MB/s \n",
            "\u001b[?25hRequirement already satisfied: python-dateutil>=2.6.1 in /usr/local/lib/python3.7/dist-packages (from wandb) (2.8.1)\n",
            "Requirement already satisfied: protobuf>=3.12.0 in /usr/local/lib/python3.7/dist-packages (from wandb) (3.12.4)\n",
            "Collecting pathtools\n",
            "  Downloading https://files.pythonhosted.org/packages/e7/7f/470d6fcdf23f9f3518f6b0b76be9df16dcc8630ad409947f8be2eb0ed13a/pathtools-0.1.2.tar.gz\n",
            "Requirement already satisfied: promise<3,>=2.0 in /usr/local/lib/python3.7/dist-packages (from wandb) (2.3)\n",
            "Requirement already satisfied: six>=1.13.0 in /usr/local/lib/python3.7/dist-packages (from wandb) (1.15.0)\n",
            "Requirement already satisfied: PyYAML in /usr/local/lib/python3.7/dist-packages (from wandb) (3.13)\n",
            "Collecting docker-pycreds>=0.4.0\n",
            "  Downloading https://files.pythonhosted.org/packages/f5/e8/f6bd1eee09314e7e6dee49cbe2c5e22314ccdb38db16c9fc72d2fa80d054/docker_pycreds-0.4.0-py2.py3-none-any.whl\n",
            "Requirement already satisfied: typing-extensions>=3.7.4.0; python_version < \"3.8\" in /usr/local/lib/python3.7/dist-packages (from GitPython>=1.0.0->wandb) (3.7.4.3)\n",
            "Collecting gitdb<5,>=4.0.1\n",
            "\u001b[?25l  Downloading https://files.pythonhosted.org/packages/ea/e8/f414d1a4f0bbc668ed441f74f44c116d9816833a48bf81d22b697090dba8/gitdb-4.0.7-py3-none-any.whl (63kB)\n",
            "\u001b[K     |████████████████████████████████| 71kB 10.6MB/s \n",
            "\u001b[?25hRequirement already satisfied: certifi>=2017.4.17 in /usr/local/lib/python3.7/dist-packages (from requests<3,>=2.0.0->wandb) (2020.12.5)\n",
            "Requirement already satisfied: urllib3!=1.25.0,!=1.25.1,<1.26,>=1.21.1 in /usr/local/lib/python3.7/dist-packages (from requests<3,>=2.0.0->wandb) (1.24.3)\n",
            "Requirement already satisfied: chardet<4,>=3.0.2 in /usr/local/lib/python3.7/dist-packages (from requests<3,>=2.0.0->wandb) (3.0.4)\n",
            "Requirement already satisfied: idna<3,>=2.5 in /usr/local/lib/python3.7/dist-packages (from requests<3,>=2.0.0->wandb) (2.10)\n",
            "Requirement already satisfied: setuptools in /usr/local/lib/python3.7/dist-packages (from protobuf>=3.12.0->wandb) (56.1.0)\n",
            "Collecting smmap<5,>=3.0.1\n",
            "  Downloading https://files.pythonhosted.org/packages/68/ee/d540eb5e5996eb81c26ceffac6ee49041d473bc5125f2aa995cf51ec1cf1/smmap-4.0.0-py2.py3-none-any.whl\n",
            "Building wheels for collected packages: subprocess32, pathtools\n",
            "  Building wheel for subprocess32 (setup.py) ... \u001b[?25l\u001b[?25hdone\n",
            "  Created wheel for subprocess32: filename=subprocess32-3.5.4-cp37-none-any.whl size=6489 sha256=aac6bd755c4812467e8d2268cbbe47e96979b522ee1d6e16b147d02416990f90\n",
            "  Stored in directory: /root/.cache/pip/wheels/68/39/1a/5e402bdfdf004af1786c8b853fd92f8c4a04f22aad179654d1\n",
            "  Building wheel for pathtools (setup.py) ... \u001b[?25l\u001b[?25hdone\n",
            "  Created wheel for pathtools: filename=pathtools-0.1.2-cp37-none-any.whl size=8786 sha256=20b90cc7eee65610f61452254eaa001c02b4c1ca8b8f85bff7ff6ea9aa15d460\n",
            "  Stored in directory: /root/.cache/pip/wheels/0b/04/79/c3b0c3a0266a3cb4376da31e5bfe8bba0c489246968a68e843\n",
            "Successfully built subprocess32 pathtools\n",
            "Installing collected packages: smmap, gitdb, GitPython, subprocess32, configparser, shortuuid, sentry-sdk, pathtools, docker-pycreds, wandb\n",
            "Successfully installed GitPython-3.1.17 configparser-5.0.2 docker-pycreds-0.4.0 gitdb-4.0.7 pathtools-0.1.2 sentry-sdk-1.1.0 shortuuid-1.0.1 smmap-4.0.0 subprocess32-3.5.4 wandb-0.10.30\n"
          ],
          "name": "stdout"
        }
      ]
    },
    {
      "cell_type": "code",
      "metadata": {
        "id": "uFD924Yn23QO"
      },
      "source": [
        "import wandb"
      ],
      "execution_count": null,
      "outputs": []
    },
    {
      "cell_type": "code",
      "metadata": {
        "id": "Pv3h-YQgMaai"
      },
      "source": [
        "import numpy as np\n",
        "import pandas as pd \n",
        "\n",
        "import tensorflow as tf\n",
        "from tensorflow import keras\n",
        "from keras.layers import Attention, Concatenate, TimeDistributed\n",
        "import math\n",
        "import random\n",
        "from keras import Input, regularizers, Model\n",
        "from keras.layers import Input\n",
        "from keras.layers import LSTM, SimpleRNN, GRU\n",
        "from keras.layers import Dense, Embedding\n",
        "from keras.utils.vis_utils import plot_model"
      ],
      "execution_count": null,
      "outputs": []
    },
    {
      "cell_type": "code",
      "metadata": {
        "colab": {
          "base_uri": "https://localhost:8080/"
        },
        "id": "KU_LciRLwbT6",
        "outputId": "234f1805-c258-4f87-c6c9-05f21cc9de76"
      },
      "source": [
        "from google.colab import drive\n",
        "drive.mount('/content/drive')"
      ],
      "execution_count": null,
      "outputs": [
        {
          "output_type": "stream",
          "text": [
            "Mounted at /content/drive\n"
          ],
          "name": "stdout"
        }
      ]
    },
    {
      "cell_type": "code",
      "metadata": {
        "id": "TkRUVRLCwm93"
      },
      "source": [
        "data = pd.read_csv (\"/content/drive/MyDrive/DLassignment3/hi.translit.sampled.train.tsv\", sep = '\\t')\n",
        "data.rename(columns = {'अं' : 'Hindi', 'an' : 'English'}, inplace = True)\n"
      ],
      "execution_count": null,
      "outputs": []
    },
    {
      "cell_type": "code",
      "metadata": {
        "colab": {
          "base_uri": "https://localhost:8080/",
          "height": 424
        },
        "id": "YRjrjwpY3QbM",
        "outputId": "c4b8bc29-f843-4073-f9d6-49063136d873"
      },
      "source": [
        "data"
      ],
      "execution_count": null,
      "outputs": [
        {
          "output_type": "execute_result",
          "data": {
            "text/html": [
              "<div>\n",
              "<style scoped>\n",
              "    .dataframe tbody tr th:only-of-type {\n",
              "        vertical-align: middle;\n",
              "    }\n",
              "\n",
              "    .dataframe tbody tr th {\n",
              "        vertical-align: top;\n",
              "    }\n",
              "\n",
              "    .dataframe thead th {\n",
              "        text-align: right;\n",
              "    }\n",
              "</style>\n",
              "<table border=\"1\" class=\"dataframe\">\n",
              "  <thead>\n",
              "    <tr style=\"text-align: right;\">\n",
              "      <th></th>\n",
              "      <th>Hindi</th>\n",
              "      <th>English</th>\n",
              "      <th>3</th>\n",
              "    </tr>\n",
              "  </thead>\n",
              "  <tbody>\n",
              "    <tr>\n",
              "      <th>0</th>\n",
              "      <td>अंकगणित</td>\n",
              "      <td>ankganit</td>\n",
              "      <td>3</td>\n",
              "    </tr>\n",
              "    <tr>\n",
              "      <th>1</th>\n",
              "      <td>अंकल</td>\n",
              "      <td>uncle</td>\n",
              "      <td>4</td>\n",
              "    </tr>\n",
              "    <tr>\n",
              "      <th>2</th>\n",
              "      <td>अंकुर</td>\n",
              "      <td>ankur</td>\n",
              "      <td>4</td>\n",
              "    </tr>\n",
              "    <tr>\n",
              "      <th>3</th>\n",
              "      <td>अंकुरण</td>\n",
              "      <td>ankuran</td>\n",
              "      <td>3</td>\n",
              "    </tr>\n",
              "    <tr>\n",
              "      <th>4</th>\n",
              "      <td>अंकुरित</td>\n",
              "      <td>ankurit</td>\n",
              "      <td>3</td>\n",
              "    </tr>\n",
              "    <tr>\n",
              "      <th>...</th>\n",
              "      <td>...</td>\n",
              "      <td>...</td>\n",
              "      <td>...</td>\n",
              "    </tr>\n",
              "    <tr>\n",
              "      <th>44198</th>\n",
              "      <td>ह्वेनसांग</td>\n",
              "      <td>hiuentsang</td>\n",
              "      <td>1</td>\n",
              "    </tr>\n",
              "    <tr>\n",
              "      <th>44199</th>\n",
              "      <td>ह्वेनसांग</td>\n",
              "      <td>hsuantsang</td>\n",
              "      <td>1</td>\n",
              "    </tr>\n",
              "    <tr>\n",
              "      <th>44200</th>\n",
              "      <td>ह्वेनसांग</td>\n",
              "      <td>hyensang</td>\n",
              "      <td>1</td>\n",
              "    </tr>\n",
              "    <tr>\n",
              "      <th>44201</th>\n",
              "      <td>ह्वेनसांग</td>\n",
              "      <td>xuanzang</td>\n",
              "      <td>1</td>\n",
              "    </tr>\n",
              "    <tr>\n",
              "      <th>44202</th>\n",
              "      <td>ॐ</td>\n",
              "      <td>om</td>\n",
              "      <td>3</td>\n",
              "    </tr>\n",
              "  </tbody>\n",
              "</table>\n",
              "<p>44203 rows × 3 columns</p>\n",
              "</div>"
            ],
            "text/plain": [
              "           Hindi     English  3\n",
              "0        अंकगणित    ankganit  3\n",
              "1           अंकल       uncle  4\n",
              "2          अंकुर       ankur  4\n",
              "3         अंकुरण     ankuran  3\n",
              "4        अंकुरित     ankurit  3\n",
              "...          ...         ... ..\n",
              "44198  ह्वेनसांग  hiuentsang  1\n",
              "44199  ह्वेनसांग  hsuantsang  1\n",
              "44200  ह्वेनसांग    hyensang  1\n",
              "44201  ह्वेनसांग    xuanzang  1\n",
              "44202          ॐ          om  3\n",
              "\n",
              "[44203 rows x 3 columns]"
            ]
          },
          "metadata": {
            "tags": []
          },
          "execution_count": 6
        }
      ]
    },
    {
      "cell_type": "code",
      "metadata": {
        "id": "AcR-j6BjwR0U"
      },
      "source": [
        "# batch_size = 64  # Batch size for training.\n",
        "# epochs = 10  # Number of epochs to train for.\n",
        "# latent_dim = 256  # Latent dimensionality of the encoding space.\n",
        "# num_samples = 10000  # Number of samples to train on."
      ],
      "execution_count": null,
      "outputs": []
    },
    {
      "cell_type": "code",
      "metadata": {
        "id": "GbKdNSp_wW2z"
      },
      "source": [
        ""
      ],
      "execution_count": null,
      "outputs": []
    },
    {
      "cell_type": "code",
      "metadata": {
        "id": "4jaggpAH2xtu",
        "colab": {
          "base_uri": "https://localhost:8080/"
        },
        "outputId": "eb152494-f97b-4bda-bdef-1b058a964002"
      },
      "source": [
        "input_texts = []\n",
        "target_texts = []\n",
        "input_characters = set()\n",
        "target_characters = set()\n",
        "for j in range(len(data)):\n",
        "  try:\n",
        "    input_text=data.iloc[j,1]\n",
        "    target_text=data.iloc[j,0]\n",
        "    target_text = \"\\t\" + target_text + \"\\n\"\n",
        "    if(len(input_text)>=1 and len(target_text)>=2):\n",
        "      input_texts.append(input_text)\n",
        "      target_texts.append(target_text)\n",
        "    for char in input_text:\n",
        "      if char not in input_characters:\n",
        "        input_characters.add(char)\n",
        "    for char in target_text:\n",
        "      if char not in target_characters:\n",
        "        target_characters.add(char)\n",
        "  except: print(\"error\")\n",
        "input_characters.add(' ')\n",
        "target_characters.add(' ')"
      ],
      "execution_count": null,
      "outputs": [
        {
          "output_type": "stream",
          "text": [
            "error\n",
            "error\n"
          ],
          "name": "stdout"
        }
      ]
    },
    {
      "cell_type": "code",
      "metadata": {
        "colab": {
          "base_uri": "https://localhost:8080/"
        },
        "id": "dcX-tYtdg4Fs",
        "outputId": "a671fb3e-c3d9-4ff1-8adf-6c9da287fadd"
      },
      "source": [
        "input_characters = sorted(list(input_characters))\n",
        "target_characters = sorted(list(target_characters))\n",
        "num_encoder_tokens = len(input_characters)\n",
        "num_decoder_tokens = len(target_characters)\n",
        "max_encoder_seq_length = max([len(txt) for txt in input_texts])\n",
        "max_decoder_seq_length = max([len(txt) for txt in target_texts])\n",
        "print(\"Number of samples:\", len(input_texts))\n",
        "print(\"Number of unique input tokens:\", num_encoder_tokens)\n",
        "print(\"Number of unique output tokens:\", num_decoder_tokens)\n",
        "print(\"Max sequence length for inputs:\", max_encoder_seq_length)\n",
        "print(\"Max sequence length for outputs:\", max_decoder_seq_length)"
      ],
      "execution_count": null,
      "outputs": [
        {
          "output_type": "stream",
          "text": [
            "Number of samples: 44201\n",
            "Number of unique input tokens: 27\n",
            "Number of unique output tokens: 66\n",
            "Max sequence length for inputs: 20\n",
            "Max sequence length for outputs: 21\n"
          ],
          "name": "stdout"
        }
      ]
    },
    {
      "cell_type": "code",
      "metadata": {
        "id": "hhMYyxVaXeSu"
      },
      "source": [
        "  tmp_x_train = []\n",
        "  tmp_x_train_index = random.sample([i for i in range(0,np.array(input_texts).shape[0])],math.ceil(np.array(input_texts).shape[0]*0.7))\n",
        "  tmp_x_val = []\n",
        "  tmp_y_train = []\n",
        "  tmp_y_val = []\n",
        "  for i in tmp_x_train_index:\n",
        "    tmp_x_train.append(input_texts[i])\n",
        "    tmp_y_train.append(target_texts[i])\n",
        "  for i in range(np.array(input_texts).shape[0]):\n",
        "    if i not in tmp_x_train_index:\n",
        "      tmp_x_val.append(input_texts[i])\n",
        "      tmp_y_val.append(target_texts[i])\n",
        "  # for val in tmp_x_train[0]:\n",
        "  #   print(input_characters[np.argmax(np.array(val))],end=\"\")\n",
        "  # print()\n",
        "  # for val in tmp_y_train[0]:\n",
        "  #   print(target_characters[np.argmax(np.array(val))],end=\"\")\n",
        "  # print()\n",
        "  # for val in tmp_x_val[0]:\n",
        "  #   print(input_characters[np.argmax(val)],end=\"\")\n",
        "  # print()\n",
        "  # for val in tmp_y_val[0]:\n",
        "  #   print(target_characters[np.argmax(val)],end=\"\")\n",
        "  # print()\n",
        "  lim=int(len(tmp_x_train)*0.9)\n",
        "  x_train = tmp_x_train[0:lim]\n",
        "  y_train = tmp_y_train[0:lim]\n",
        "  x_val = tmp_x_train[lim:]\n",
        "  y_val = tmp_y_train[lim:]\n",
        "  x_test = tmp_x_val\n",
        "  y_test = tmp_y_val\n",
        "\n",
        "  # x_train = np.array(sample_in[:math.ceil(np.array(sample_in).shape[0]*0.7)])\n",
        "  # y_train = np.array(sample_out[:math.ceil(np.array(sample_out).shape[0]*0.7)])\n",
        "  # x_val = np.array(sample_in[math.ceil(np.array(sample_in).shape[0]*0.7):])\n",
        "  # y_val = np.array(sample_out[math.ceil(np.array(sample_out).shape[0]*0.7):])\n",
        "  # x_train = np.array(sample_in)\n",
        "  # y_train = np.array(sample_out)"
      ],
      "execution_count": null,
      "outputs": []
    },
    {
      "cell_type": "code",
      "metadata": {
        "id": "P4ZCyJaNXkqx"
      },
      "source": [
        "input_token_index = dict([(char, i) for i, char in enumerate(input_characters)])\n",
        "target_token_index = dict([(char, i) for i, char in enumerate(target_characters)])"
      ],
      "execution_count": null,
      "outputs": []
    },
    {
      "cell_type": "code",
      "metadata": {
        "id": "CtxSPPV_Xm_z"
      },
      "source": [
        "reverse_input_char_index = dict((i, char) for char, i in input_token_index.items())\n",
        "reverse_target_char_index = dict((i, char) for char, i in target_token_index.items())"
      ],
      "execution_count": null,
      "outputs": []
    },
    {
      "cell_type": "code",
      "metadata": {
        "id": "qX8jR7qrYmME"
      },
      "source": [
        "m=max(max_encoder_seq_length, max_decoder_seq_length)"
      ],
      "execution_count": null,
      "outputs": []
    },
    {
      "cell_type": "code",
      "metadata": {
        "id": "i_9kkhdSXon7"
      },
      "source": [
        "\n",
        "\n",
        "encoder_input_data = np.zeros(\n",
        "    (len(x_train), m, num_encoder_tokens), dtype=\"float32\"\n",
        ")\n",
        "decoder_input_data = np.zeros(\n",
        "    (len(x_train), m, num_decoder_tokens), dtype=\"float32\"\n",
        ")\n",
        "decoder_target_data = np.zeros(\n",
        "    (len(x_train), m, num_decoder_tokens), dtype=\"float32\"\n",
        ")"
      ],
      "execution_count": null,
      "outputs": []
    },
    {
      "cell_type": "code",
      "metadata": {
        "id": "WjLynbTEXrFt"
      },
      "source": [
        "for i, (input_text, target_text) in enumerate(zip(x_train, y_train)):\n",
        "    for t, char in enumerate(input_text):\n",
        "        encoder_input_data[i, t, input_token_index[char]] = 1.0\n",
        "    encoder_input_data[i, t + 1 :, input_token_index[\" \"]] = 1.0\n",
        "    for t, char in enumerate(target_text):\n",
        "        # decoder_target_data is ahead of decoder_input_data by one timestep\n",
        "        decoder_input_data[i, t, target_token_index[char]] = 1.0\n",
        "        if t > 0:\n",
        "            # decoder_target_data will be ahead by one timestep\n",
        "            # and will not include the start character.\n",
        "            decoder_target_data[i, t - 1, target_token_index[char]] = 1.0\n",
        "    decoder_input_data[i, t + 1 :, target_token_index[\" \"]] = 1.0\n",
        "    decoder_target_data[i, t:, target_token_index[\" \"]] = 1.0"
      ],
      "execution_count": null,
      "outputs": []
    },
    {
      "cell_type": "code",
      "metadata": {
        "id": "lzEPx5ybXura"
      },
      "source": [
        "encoder_input_val = np.zeros(\n",
        "    (len(x_val), m, num_encoder_tokens), dtype=\"float32\"\n",
        ")\n",
        "decoder_input_val = np.zeros(\n",
        "    (len(x_val), m, num_decoder_tokens), dtype=\"float32\"\n",
        ")\n",
        "decoder_target_val = np.zeros(\n",
        "    (len(x_val), m, num_decoder_tokens), dtype=\"float32\"\n",
        ")"
      ],
      "execution_count": null,
      "outputs": []
    },
    {
      "cell_type": "code",
      "metadata": {
        "id": "NyvDWx9KXwuL"
      },
      "source": [
        "for i, (input_text, target_text) in enumerate(zip(x_val, y_val)):\n",
        "    for t, char in enumerate(input_text):\n",
        "        encoder_input_val[i, t, input_token_index[char]] = 1.0\n",
        "    encoder_input_val[i, t + 1 :, input_token_index[\" \"]] = 1.0\n",
        "    for t, char in enumerate(target_text):\n",
        "        # decoder_target_data is ahead of decoder_input_data by one timestep\n",
        "        decoder_input_val[i, t, target_token_index[char]] = 1.0\n",
        "        if t > 0:\n",
        "            # decoder_target_data will be ahead by one timestep\n",
        "            # and will not include the start character.\n",
        "            decoder_target_val[i, t - 1, target_token_index[char]] = 1.0\n",
        "    decoder_input_val[i, t + 1 :, target_token_index[\" \"]] = 1.0\n",
        "    decoder_target_val[i, t:, target_token_index[\" \"]] = 1.0"
      ],
      "execution_count": null,
      "outputs": []
    },
    {
      "cell_type": "code",
      "metadata": {
        "id": "ZlU8E2uSXywI"
      },
      "source": [
        "encoder_input_test = np.zeros(\n",
        "    (len(x_test), m, num_encoder_tokens), dtype=\"float32\"\n",
        ")\n",
        "decoder_input_test = np.zeros(\n",
        "    (len(x_test), m, num_decoder_tokens), dtype=\"float32\"\n",
        ")\n",
        "decoder_target_test = np.zeros(\n",
        "    (len(x_test), m, num_decoder_tokens), dtype=\"float32\"\n",
        ")"
      ],
      "execution_count": null,
      "outputs": []
    },
    {
      "cell_type": "code",
      "metadata": {
        "id": "iqjBASIhX3gA"
      },
      "source": [
        "for i, (input_text, target_text) in enumerate(zip(x_test, y_test)):\n",
        "    for t, char in enumerate(input_text):\n",
        "        encoder_input_test[i, t, input_token_index[char]] = 1.0\n",
        "    encoder_input_test[i, t + 1 :, input_token_index[\" \"]] = 1.0\n",
        "    for t, char in enumerate(target_text):\n",
        "        # decoder_target_data is ahead of decoder_input_data by one timestep\n",
        "        decoder_input_test[i, t, target_token_index[char]] = 1.0\n",
        "        if t > 0:\n",
        "            # decoder_target_data will be ahead by one timestep\n",
        "            # and will not include the start character.\n",
        "            decoder_target_test[i, t - 1, target_token_index[char]] = 1.0\n",
        "    decoder_input_test[i, t + 1 :, target_token_index[\" \"]] = 1.0\n",
        "    decoder_target_test[i, t:, target_token_index[\" \"]] = 1.0"
      ],
      "execution_count": null,
      "outputs": []
    },
    {
      "cell_type": "code",
      "metadata": {
        "id": "xPCC18VxYHeC",
        "colab": {
          "base_uri": "https://localhost:8080/"
        },
        "outputId": "a7b62511-a249-4074-9791-3b70dc398763"
      },
      "source": [
        "encoder_input_test.shape"
      ],
      "execution_count": null,
      "outputs": [
        {
          "output_type": "execute_result",
          "data": {
            "text/plain": [
              "(13260, 21, 27)"
            ]
          },
          "metadata": {
            "tags": []
          },
          "execution_count": 20
        }
      ]
    },
    {
      "cell_type": "code",
      "metadata": {
        "id": "TntDy4wFYJ9T"
      },
      "source": [
        "# Configure the sweep – specify the parameters to search through, the search strategy, the optimization metric et all.\n",
        "sweep_config = {\n",
        "    'method': 'random', #grid, random\n",
        "    'metric': {\n",
        "      'name': 'accuracy',\n",
        "      'goal': 'maximize'   \n",
        "    },\n",
        "    'parameters': {\n",
        "        'epochs': {\n",
        "            # 'values': [1,2,3]\n",
        "            # 'values': [5,7,9, 10,11]\n",
        "            'values':[50,60,70,80,90,100]\n",
        "        },\n",
        "        'weight_decay':{\n",
        "           #'values': [0, 1e-1, 1e-2, 1e-3,0.00099,0.00111]\n",
        "            'values':[0]\n",
        "          #  'values':[0.00099]\n",
        "        },\n",
        "         'batchSize':{\n",
        "            'values':[64]\n",
        "            # 'values':[8]\n",
        "            # 'values':[16]\n",
        "        },\n",
        "        'regular_dropout':{\n",
        "            #'values':[0.2,0.3,0.4]\n",
        "             'values':[0]\n",
        "            # 'values':[0.4]\n",
        "        },\n",
        "        'recurrent_dropout':{\n",
        "            #'values':[0.2,0.3,0.4]\n",
        "             'values':[0]\n",
        "            # 'values':[0.2]\n",
        "        },\n",
        "        'regular_activation':{\n",
        "            #'values': ['sigmoid','tanh','relu']\n",
        "             'values':['sigmoid']\n",
        "            # 'values':['relu']\n",
        "        },\n",
        "        'recurrent_activation':{\n",
        "            #'values': ['sigmoid','tanh','relu']\n",
        "            # 'values':['relu']\n",
        "             'values':['sigmoid']\n",
        "        },\n",
        "        'no_of_hidden_layers':{\n",
        "            'values':[1]\n",
        "            # 'values':[2]\n",
        "            # 'values':[3]\n",
        "        },\n",
        "        'hidden_layers_size':{\n",
        "            'values':[64,128,256]\n",
        "            # 'values':[256]\n",
        "            # 'values':[128]\n",
        "            # 'values':[16]\n",
        "        },\n",
        "        'cell_type':{\n",
        "            #'values':['RNN','GRU','LSTM']\n",
        "            'values':['RNN']\n",
        "            # 'values':['GRU']\n",
        "        }\n",
        "        # 'train_word_accuracy':{\n",
        "        #     'values':[0]\n",
        "        # }\n",
        "        # 'input_embedding_size':{\n",
        "        #     'values':[16,32,64,256]\n",
        "        # } \n",
        "        \n",
        "        #'activation': {\n",
        "            # 'values': ['relu', 'elu', 'selu', 'softmax']\n",
        "         #   'values': ['sigmoid','tanh','ReLu']\n",
        "        #}\n",
        "        \n",
        "        \n",
        "    }\n",
        "}"
      ],
      "execution_count": null,
      "outputs": []
    },
    {
      "cell_type": "code",
      "metadata": {
        "id": "ev-urkzWYLvM",
        "colab": {
          "base_uri": "https://localhost:8080/",
          "height": 86
        },
        "outputId": "80deecd6-c7e7-4974-d1dc-af3474a65366"
      },
      "source": [
        "sweep_id = wandb.sweep(sweep_config, entity=\"dl_45_47\", project=\"Attention_model\")\n",
        "#d7f2d3b3afd25dff68841ada514c88e687894723"
      ],
      "execution_count": null,
      "outputs": [
        {
          "output_type": "display_data",
          "data": {
            "application/javascript": [
              "\n",
              "        window._wandbApiKey = new Promise((resolve, reject) => {\n",
              "            function loadScript(url) {\n",
              "            return new Promise(function(resolve, reject) {\n",
              "                let newScript = document.createElement(\"script\");\n",
              "                newScript.onerror = reject;\n",
              "                newScript.onload = resolve;\n",
              "                document.body.appendChild(newScript);\n",
              "                newScript.src = url;\n",
              "            });\n",
              "            }\n",
              "            loadScript(\"https://cdn.jsdelivr.net/npm/postmate/build/postmate.min.js\").then(() => {\n",
              "            const iframe = document.createElement('iframe')\n",
              "            iframe.style.cssText = \"width:0;height:0;border:none\"\n",
              "            document.body.appendChild(iframe)\n",
              "            const handshake = new Postmate({\n",
              "                container: iframe,\n",
              "                url: 'https://wandb.ai/authorize'\n",
              "            });\n",
              "            const timeout = setTimeout(() => reject(\"Couldn't auto authenticate\"), 5000)\n",
              "            handshake.then(function(child) {\n",
              "                child.on('authorize', data => {\n",
              "                    clearTimeout(timeout)\n",
              "                    resolve(data)\n",
              "                });\n",
              "            });\n",
              "            })\n",
              "        });\n",
              "    "
            ],
            "text/plain": [
              "<IPython.core.display.Javascript object>"
            ]
          },
          "metadata": {
            "tags": []
          }
        },
        {
          "output_type": "stream",
          "text": [
            "\u001b[34m\u001b[1mwandb\u001b[0m: Appending key for api.wandb.ai to your netrc file: /root/.netrc\n"
          ],
          "name": "stderr"
        },
        {
          "output_type": "stream",
          "text": [
            "Create sweep with ID: 342sej37\n",
            "Sweep URL: https://wandb.ai/dl_45_47/Attention_model/sweeps/342sej37\n"
          ],
          "name": "stdout"
        }
      ]
    },
    {
      "cell_type": "code",
      "metadata": {
        "id": "M_OestCIY_F4"
      },
      "source": [
        ""
      ],
      "execution_count": null,
      "outputs": []
    },
    {
      "cell_type": "code",
      "metadata": {
        "id": "WwhTXahh7zfF"
      },
      "source": [
        "# target_characters"
      ],
      "execution_count": null,
      "outputs": []
    },
    {
      "cell_type": "code",
      "metadata": {
        "id": "rhczssup7k1a"
      },
      "source": [
        "# input_characters = sorted(list(input_characters))\n",
        "# target_characters = sorted(list(target_characters))\n",
        "# num_encoder_tokens = len(input_characters)\n",
        "# num_decoder_tokens = len(target_characters)\n",
        "# max_encoder_seq_length = max([len(txt) for txt in input_texts])\n",
        "# max_decoder_seq_length = max([len(txt) for txt in target_texts])\n",
        "# # print(\"Number of samples:\", len(input_texts)\n",
        "# print(\"Number of unique input tokens:\", num_encoder_tokens)\n",
        "# print(\"Number of unique output tokens:\", num_decoder_tokens)\n",
        "# print(\"Max sequence length for inputs:\", max_encoder_seq_length)\n",
        "# print(\"Max sequence length for outputs:\", max_decoder_seq_length)"
      ],
      "execution_count": null,
      "outputs": []
    },
    {
      "cell_type": "code",
      "metadata": {
        "id": "D-cPLBT75rVN"
      },
      "source": [
        "# target_texts[0]"
      ],
      "execution_count": null,
      "outputs": []
    },
    {
      "cell_type": "code",
      "metadata": {
        "id": "ivy10fgYA5MG"
      },
      "source": [
        "# m=max(max_encoder_seq_length, max_decoder_seq_length)"
      ],
      "execution_count": null,
      "outputs": []
    },
    {
      "cell_type": "code",
      "metadata": {
        "id": "z8DM0AjJxZEO"
      },
      "source": [
        "# ############## MADE A CHANGE AT MAX\n",
        "# input_token_index = dict([(char, i) for i, char in enumerate(input_characters)])\n",
        "# target_token_index = dict([(char, i) for i, char in enumerate(target_characters)])\n"
      ],
      "execution_count": null,
      "outputs": []
    },
    {
      "cell_type": "code",
      "metadata": {
        "id": "j5GsHdjNDwg8"
      },
      "source": [
        "\n",
        "# encoder_input_data = np.zeros(\n",
        "#     (len(input_texts), m, num_encoder_tokens), dtype=\"float32\"\n",
        "# )\n",
        "# decoder_input_data = np.zeros(\n",
        "#     (len(input_texts), m, num_decoder_tokens), dtype=\"float32\"\n",
        "# )\n",
        "# decoder_target_data = np.zeros(\n",
        "#     (len(input_texts), m, num_decoder_tokens), dtype=\"float32\"\n",
        "# )"
      ],
      "execution_count": null,
      "outputs": []
    },
    {
      "cell_type": "code",
      "metadata": {
        "id": "PEhzrDU-xdqV"
      },
      "source": [
        "# for i, (input_text, target_text) in enumerate(zip(input_texts, target_texts)):\n",
        "#     for t, char in enumerate(input_text):\n",
        "#         encoder_input_data[i, t, input_token_index[char]] = 1.0\n",
        "#     encoder_input_data[i, t + 1 :, input_token_index[\" \"]] = 1.0\n",
        "#     for t, char in enumerate(target_text):\n",
        "#         # decoder_target_data is ahead of decoder_input_data by one timestep\n",
        "#         decoder_input_data[i, t, target_token_index[char]] = 1.0\n",
        "#         if t > 0:\n",
        "#             # decoder_target_data will be ahead by one timestep\n",
        "#             # and will not include the start character.\n",
        "#             decoder_target_data[i, t - 1, target_token_index[char]] = 1.0\n",
        "#     decoder_input_data[i, t + 1 :, target_token_index[\" \"]] = 1.0\n",
        "#     decoder_target_data[i, t:, target_token_index[\" \"]] = 1.0"
      ],
      "execution_count": null,
      "outputs": []
    },
    {
      "cell_type": "code",
      "metadata": {
        "id": "MmWjMRMPlzsX"
      },
      "source": [
        "def RNN_model(config):\n",
        "  # Define an input sequence and process it.\n",
        "  encoder_inputs = keras.Input(shape=(None, num_encoder_tokens))\n",
        "  encoder = keras.layers.SimpleRNN(config.hidden_layers_size, return_sequences=True, return_state=True)\n",
        "  encoder_outputs, state_1 = encoder(encoder_inputs)\n",
        "\n",
        "  # We discard `encoder_outputs` and only keep the states.\n",
        "  encoder_states = [state_1]\n",
        "\n",
        "  # Set up the decoder, using `encoder_states` as initial state.\n",
        "  decoder_inputs = keras.Input(shape=(None, num_decoder_tokens))\n",
        "\n",
        "  # We set up our decoder to return full output sequences,\n",
        "  # and to return internal states as well. We don't use the\n",
        "  # return states in the training model, but we will use them in inference.\n",
        "  decoder_lstm = keras.layers.SimpleRNN(config.hidden_layers_size, return_sequences=True, return_state=True)\n",
        "  decoder_outputs, _ = decoder_lstm(decoder_inputs, initial_state=encoder_states)\n",
        "  # print(\"decoder_outputs : \",decoder_outputs.shape)\n",
        "\n",
        "  # Attention layer\n",
        "  attn_layer = Attention(name='attention_layer')\n",
        "  attn_out = attn_layer([decoder_outputs,encoder_outputs])\n",
        "  # print(\"attn_out : \",attn_out.shape)\n",
        "\n",
        "  # Concat attention input and decoder GRU output\n",
        "  decoder_concat_input = Concatenate(axis=-1, name='concat_layer')([decoder_outputs, attn_out])\n",
        "\n",
        "  decoder_dense = keras.layers.Dense(num_decoder_tokens, activation=\"softmax\")\n",
        "  # dense_time = TimeDistributed(decoder_dense, name='time_distributed_layer')\n",
        "  decoder_outputs = decoder_dense(decoder_concat_input)\n",
        "\n",
        "  # Define the model that will turn\n",
        "  # `encoder_input_data` & `decoder_input_data` into `decoder_target_data`\n",
        "  model = keras.Model([encoder_inputs, decoder_inputs], decoder_outputs)\n",
        "\n",
        "  encoder_model = keras.Model(encoder_inputs, [encoder_outputs, encoder_states])\n",
        "\n",
        "  decoder_states_inputs = keras.Input(shape=(config.hidden_layers_size,))\n",
        "  encoder_inf_output = keras.Input(shape=(None, config.hidden_layers_size))\n",
        "  decoder_states_inputs = [decoder_states_inputs]\n",
        "\n",
        "  decoder_outputs, state_1 = (keras.layers.SimpleRNN(config.hidden_layers_size, return_sequences=True, return_state=True))(decoder_inputs, initial_state=decoder_states_inputs)\n",
        "  decoder_states = [state_1]\n",
        "\n",
        "  attn_layer = Attention(name='attention_layer')\n",
        "  attn_inf_out = attn_layer([decoder_outputs, encoder_inf_output])\n",
        "  decoder_inf_concat = Concatenate(axis=-1, name='concat')([decoder_outputs, attn_inf_out])\n",
        "  # print(encoder_inf_output.shape)\n",
        "  # print(decoder_outputs.shape)\n",
        "  # print(attn_inf_out.shape)\n",
        "\n",
        "  decoder_dense = keras.layers.Dense(num_decoder_tokens, activation=\"softmax\")\n",
        "  decoder_outputs = decoder_dense(decoder_inf_concat)\n",
        "  decoder_model = keras.Model(\n",
        "      [decoder_inputs] + [encoder_inf_output] + decoder_states_inputs, [decoder_outputs] + decoder_states\n",
        "  )  \n",
        "\n",
        "  return model, encoder_model, decoder_model"
      ],
      "execution_count": null,
      "outputs": []
    },
    {
      "cell_type": "code",
      "metadata": {
        "id": "BPSZntx6Z88d"
      },
      "source": [
        "def LSTM_model(config):\n",
        "  # Define an input sequence and process it.\n",
        "  encoder_inputs = keras.Input(shape=(None, num_encoder_tokens))\n",
        "  encoder = keras.layers.LSTM(config.hidden_layers_size, return_sequences=True, return_state=True)\n",
        "  encoder_outputs, state_h, state_c = encoder(encoder_inputs)\n",
        "\n",
        "  # We discard `encoder_outputs` and only keep the states.\n",
        "  encoder_states = [state_h, state_c]\n",
        "\n",
        "  # Set up the decoder, using `encoder_states` as initial state.\n",
        "  decoder_inputs = keras.Input(shape=(None, num_decoder_tokens))\n",
        "\n",
        "  # We set up our decoder to return full output sequences,\n",
        "  # and to return internal states as well. We don't use the\n",
        "  # return states in the training model, but we will use them in inference.\n",
        "  decoder_lstm = keras.layers.LSTM(config.hidden_layers_size, return_sequences=True, return_state=True)\n",
        "  decoder_outputs, _, _ = decoder_lstm(decoder_inputs, initial_state=encoder_states)\n",
        "  # print(\"decoder_outputs : \",decoder_outputs.shape)\n",
        "\n",
        "  # Attention layer\n",
        "  attn_layer = Attention(name='attention_layer')\n",
        "  attn_out = attn_layer([decoder_outputs,encoder_outputs])\n",
        "  # print(\"attn_out : \",attn_out.shape)\n",
        "\n",
        "  # Concat attention input and decoder GRU output\n",
        "  decoder_concat_input = Concatenate(axis=-1, name='concat_layer')([decoder_outputs, attn_out])\n",
        "\n",
        "  decoder_dense = keras.layers.Dense(num_decoder_tokens, activation=\"softmax\")\n",
        "  # dense_time = TimeDistributed(decoder_dense, name='time_distributed_layer')\n",
        "  decoder_outputs = decoder_dense(decoder_concat_input)\n",
        "\n",
        "  # Define the model that will turn\n",
        "  # `encoder_input_data` & `decoder_input_data` into `decoder_target_data`\n",
        "  model = keras.Model([encoder_inputs, decoder_inputs], decoder_outputs)\n",
        "\n",
        "  encoder_model = keras.Model(encoder_inputs, [encoder_outputs, encoder_states])\n",
        "\n",
        "  decoder_state_input_h = keras.Input(shape=(config.hidden_layers_size,))\n",
        "  decoder_state_input_c = keras.Input(shape=(config.hidden_layers_size,))\n",
        "  encoder_inf_output = keras.Input(shape=(None, config.hidden_layers_size))\n",
        "  decoder_states_inputs = [decoder_state_input_h, decoder_state_input_c]\n",
        "\n",
        "  decoder_outputs, state_h_dec, state_c_dec = (keras.layers.LSTM(config.hidden_layers_size, return_sequences=True, return_state=True))(decoder_inputs, initial_state=decoder_states_inputs)\n",
        "  decoder_states = [state_h_dec, state_c_dec]\n",
        "\n",
        "  attn_layer = Attention(name='attention_layer')\n",
        "  attn_inf_out = attn_layer([decoder_outputs, encoder_inf_output])\n",
        "  decoder_inf_concat = Concatenate(axis=-1, name='concat')([decoder_outputs, attn_inf_out])\n",
        "  # print(encoder_inf_output.shape)\n",
        "  # print(decoder_outputs.shape)\n",
        "  # print(attn_inf_out.shape)\n",
        "\n",
        "  decoder_dense = keras.layers.Dense(num_decoder_tokens, activation=\"softmax\")\n",
        "  decoder_outputs = decoder_dense(decoder_inf_concat)\n",
        "  decoder_model = keras.Model(\n",
        "      [decoder_inputs] + [encoder_inf_output] + decoder_states_inputs, [decoder_outputs] + decoder_states\n",
        "  )  \n",
        "\n",
        "  return model, encoder_model, decoder_model"
      ],
      "execution_count": null,
      "outputs": []
    },
    {
      "cell_type": "code",
      "metadata": {
        "id": "19YtlE49nHPE"
      },
      "source": [
        "def GRU_model(config):\n",
        "  # Define an input sequence and process it.\n",
        "  encoder_inputs = keras.Input(shape=(None, num_encoder_tokens))\n",
        "  encoder = keras.layers.GRU(config.hidden_layers_size, return_sequences=True, return_state=True)\n",
        "  encoder_outputs, state_1 = encoder(encoder_inputs)\n",
        "\n",
        "  # We discard `encoder_outputs` and only keep the states.\n",
        "  encoder_states = [state_1]\n",
        "\n",
        "  # Set up the decoder, using `encoder_states` as initial state.\n",
        "  decoder_inputs = keras.Input(shape=(None, num_decoder_tokens))\n",
        "\n",
        "  # We set up our decoder to return full output sequences,\n",
        "  # and to return internal states as well. We don't use the\n",
        "  # return states in the training model, but we will use them in inference.\n",
        "  decoder_lstm = keras.layers.GRU(config.hidden_layers_size, return_sequences=True, return_state=True)\n",
        "  decoder_outputs, _ = decoder_lstm(decoder_inputs, initial_state=encoder_states)\n",
        "  # print(\"decoder_outputs : \",decoder_outputs.shape)\n",
        "\n",
        "  # Attention layer\n",
        "  attn_layer = Attention(name='attention_layer')\n",
        "  attn_out = attn_layer([decoder_outputs,encoder_outputs])\n",
        "  # print(\"attn_out : \",attn_out.shape)\n",
        "\n",
        "  # Concat attention input and decoder GRU output\n",
        "  decoder_concat_input = Concatenate(axis=-1, name='concat_layer')([decoder_outputs, attn_out])\n",
        "\n",
        "  decoder_dense = keras.layers.Dense(num_decoder_tokens, activation=\"softmax\")\n",
        "  # dense_time = TimeDistributed(decoder_dense, name='time_distributed_layer')\n",
        "  decoder_outputs = decoder_dense(decoder_concat_input)\n",
        "\n",
        "  # Define the model that will turn\n",
        "  # `encoder_input_data` & `decoder_input_data` into `decoder_target_data`\n",
        "  model = keras.Model([encoder_inputs, decoder_inputs], decoder_outputs)\n",
        "\n",
        "  encoder_model = keras.Model(encoder_inputs, [encoder_outputs, encoder_states])\n",
        "\n",
        "  decoder_states_inputs = keras.Input(shape=(config.hidden_layers_size,))\n",
        "  encoder_inf_output = keras.Input(shape=(None, config.hidden_layers_size))\n",
        "  decoder_states_inputs = [decoder_states_inputs]\n",
        "\n",
        "  decoder_outputs, state_1 = (keras.layers.GRU(config.hidden_layers_size, return_sequences=True, return_state=True))(decoder_inputs, initial_state=decoder_states_inputs)\n",
        "  decoder_states = [state_1]\n",
        "\n",
        "  attn_layer = Attention(name='attention_layer')\n",
        "  attn_inf_out = attn_layer([decoder_outputs, encoder_inf_output])\n",
        "  decoder_inf_concat = Concatenate(axis=-1, name='concat')([decoder_outputs, attn_inf_out])\n",
        "  # print(encoder_inf_output.shape)\n",
        "  # print(decoder_outputs.shape)\n",
        "  # print(attn_inf_out.shape)\n",
        "\n",
        "  decoder_dense = keras.layers.Dense(num_decoder_tokens, activation=\"softmax\")\n",
        "  decoder_outputs = decoder_dense(decoder_inf_concat)\n",
        "  decoder_model = keras.Model(\n",
        "      [decoder_inputs] + [encoder_inf_output] + decoder_states_inputs, [decoder_outputs] + decoder_states\n",
        "  )  \n",
        "\n",
        "  return model, encoder_model, decoder_model"
      ],
      "execution_count": null,
      "outputs": []
    },
    {
      "cell_type": "code",
      "metadata": {
        "id": "a6-l6Vx8bTPr"
      },
      "source": [
        "def decode_sequence(input_seq,encoder_model, decoder_model):\n",
        "    # Encode the input as state vectors.\n",
        "    encoder_outputs, states_value = encoder_model.predict(input_seq)\n",
        "    # enc_latent_dim = np.array(encoder_outputs).shape\n",
        "    # print(np.array(encoder_outputs).shape, np.array(states_value).shape)\n",
        "    # Generate empty target sequence of length 1.\n",
        "    target_seq = np.zeros((1, 1, num_decoder_tokens))\n",
        "    # Populate the first character of target sequence with the start character.\n",
        "    target_seq[0, 0, target_token_index[\"\\t\"]] = 1.0\n",
        "\n",
        "    # Sampling loop for a batch of sequences\n",
        "    # (to simplify, here we assume a batch of size 1).\n",
        "    stop_condition = False\n",
        "    decoded_sentence = \"\"\n",
        "    # cnt = 0\n",
        "    while not stop_condition:\n",
        "        returned = decoder_model.predict([target_seq] + [encoder_outputs] + states_value)\n",
        "        output_tokens = returned[0]\n",
        "        states_value = returned[1:]\n",
        "        # cnt += 1\n",
        "        # if(cnt == 20):\n",
        "        #   break\n",
        "\n",
        "        # Sample a token\n",
        "        sampled_token_index = np.argmax(output_tokens[0, -1, :])\n",
        "        sampled_char = reverse_target_char_index[sampled_token_index]\n",
        "        decoded_sentence += sampled_char\n",
        "\n",
        "        # Exit condition: either hit max length\n",
        "        # or find stop character.\n",
        "        if sampled_char == \"\\n\" or len(decoded_sentence) > max_decoder_seq_length:\n",
        "            stop_condition = True\n",
        "\n",
        "        # Update the target sequence (of length 1).\n",
        "        target_seq = np.zeros((1, 1, num_decoder_tokens))\n",
        "        target_seq[0, 0, sampled_token_index] = 1.0\n",
        "\n",
        "        # Update states\n",
        "        # states_value = [h, c]\n",
        "    return decoded_sentence"
      ],
      "execution_count": null,
      "outputs": []
    },
    {
      "cell_type": "code",
      "metadata": {
        "id": "IOXfGBlocuNG"
      },
      "source": [
        "def accuracy_train( encoder_model, decoder_model):\n",
        "  count_test=0\n",
        "  count_train=0\n",
        "  num_sam=100\n",
        "  for i in range(num_sam):\n",
        "    seq_index=random.randint(0,len(x_test))\n",
        "    # Take one sequence (part of the training set)\n",
        "    # for trying out decoding.\n",
        "    input_seq = encoder_input_test[seq_index : seq_index + 1]\n",
        "    decoded_sentence = decode_sequence(input_seq,encoder_model, decoder_model)\n",
        "    if(decoded_sentence[0:-1]==y_test[seq_index][1:-1]):\n",
        "      count_test=count_test+1\n",
        "    print(\"test_Input word:\", x_test[seq_index])\n",
        "    print(\"test_expected word:\", y_test[seq_index][1:-1])\n",
        "    print(\"test_predicted word:\", decoded_sentence[0:-1])\n",
        "    print(\" \")\n",
        "  for i in range(num_sam):\n",
        "    seq_index=random.randint(0,len(x_train))\n",
        "    # Take one sequence (part of the training set)\n",
        "    # for trying out decoding.\n",
        "    input_seq = encoder_input_data[seq_index : seq_index + 1]\n",
        "    decoded_sentence = decode_sequence(input_seq,encoder_model, decoder_model)\n",
        "    if(decoded_sentence[0:-1]==y_train[seq_index][1:-1]):\n",
        "      count_train=count_train+1\n",
        "    print(\"train_Input word:\", x_train[seq_index])\n",
        "    print(\"train_expected word:\", y_train[seq_index][1:-1])\n",
        "    print(\"train_predicted word:\", decoded_sentence[0:-1])\n",
        "    print(\" \")\n",
        "  return count_test/num_sam,count_train/num_sam"
      ],
      "execution_count": null,
      "outputs": []
    },
    {
      "cell_type": "code",
      "metadata": {
        "id": "LDxnUOGIZLid"
      },
      "source": [
        "# The sweep calls this function with each set of hyperparameters\n",
        "def train():\n",
        "  # Default values for hyper-parameters we're going to sweep over\n",
        "  #\n",
        "\n",
        "    config_defaults = {\n",
        "        'epochs': 5,\n",
        "        'weight_decay': 1e-2,\n",
        "         'batchSize':16,\n",
        "        'regular_dropout':0.2,\n",
        "        'recurrent_dropout':0.2,\n",
        "        'no_of_hidden_layers':1,\n",
        "        'hidden_layers_size':256,\n",
        "        'cell_type':'LSTM'\n",
        "    }\n",
        "\n",
        "    # SUFFLE TRAIN AND VAL INPUT\n",
        "    # tmp_x_train_index = random.sample([i for i in range(np.array(sample_in).shape[0])],math.ceil(np.array(sample_in).shape[0]*0.7))\n",
        "    # for i in tmp_x_train_index:\n",
        "    #   tmp_x_train.append(sample_in[i])\n",
        "    #   tmp_y_train.append(sample_out[i])\n",
        "    # for i in range(np.array(sample_in).shape[0]):\n",
        "    #   if i not in tmp_x_train_index:\n",
        "    #     tmp_x_val.append(sample_in[i])\n",
        "    #     tmp_y_val.append(sample_out[i])\n",
        "    # for val in tmp_x_train[0]:\n",
        "    #   print(alphabets[np.argmax(np.array(val))],end=\"\")\n",
        "    # print()\n",
        "    # for val in tmp_y_train[0]:\n",
        "    #   print(characters[np.argmax(np.array(val))],end=\"\")\n",
        "    # print()\n",
        "    # for val in tmp_x_val[0]:\n",
        "    #   print(alphabets[np.argmax(val)],end=\"\")\n",
        "    # print()\n",
        "    # for val in tmp_y_val[0]:\n",
        "    #   print(characters[np.argmax(val)],end=\"\")\n",
        "    # print()\n",
        "    # x_train = np.array(tmp_x_train)\n",
        "    # y_train = np.array(tmp_y_train)\n",
        "    # x_val = np.array(tmp_x_val)\n",
        "    # y_val = np.array(tmp_y_val)\n",
        "\n",
        "\n",
        "    # Initialize a new wandb run\n",
        "    wandb.init(config=config_defaults)\n",
        "    \n",
        "    # Config is a variable that holds and saves hyperparameters and inputs\n",
        "    config = wandb.config\n",
        "\n",
        "    if config.cell_type == 'RNN':\n",
        "      model, encoder_model, decoder_model = RNN_model(config)\n",
        "    elif config.cell_type == 'LSTM':\n",
        "      model, encoder_model, decoder_model = LSTM_model(config)\n",
        "    elif config.cell_type == 'GRU':\n",
        "      model, encoder_model, decoder_model = GRU_model(config)\n",
        "    \n",
        "    plot_model(model, to_file='model.png', show_shapes=True)\n",
        "    plot_model(encoder_model, to_file='encoder_model.png', show_shapes=True)\n",
        "    plot_model(decoder_model, to_file='decoder_model.png', show_shapes=True)\n",
        "\n",
        "\n",
        "\n",
        "    model.compile(optimizer='rmsprop', loss='categorical_crossentropy', metrics=['accuracy'])\n",
        "\n",
        "    history = model.fit([encoder_input_data, decoder_input_data],decoder_target_data, epochs=config.epochs,validation_data=([encoder_input_val, decoder_input_val],decoder_target_val), batch_size=config.batchSize)\n",
        "\n",
        "    acc_test,acc_train=accuracy_train( encoder_model, decoder_model)    \n",
        "\n",
        "    accuracy, loss, val_accuracy, val_loss = history.history['accuracy'], history.history['loss'], history.history['val_accuracy'], history.history['val_loss']\n",
        "\n",
        "    # wandb.log({'val_loss' : val_loss, 'val_accuracy': val_accuracy})\n",
        "\n",
        "    for i in range(config.epochs):\n",
        "      wandb.log({'val_loss' : val_loss[i], 'val_accuracy': val_accuracy[i],'loss' : loss[i], 'accuracy': accuracy[i], 'epoch': i})\n",
        "    # wandb.finish()\n",
        "    print(\"test word accuracy:\",acc_test)\n",
        "    print(\"train word accuracy:\",acc_train)\n",
        "\n",
        "    wandb.log({'test_accuracy': acc_test, 'train_accuracy': acc_train})\n",
        "    \n",
        "    "
      ],
      "execution_count": null,
      "outputs": []
    },
    {
      "cell_type": "code",
      "metadata": {
        "id": "tg_Qr4NFfZl6"
      },
      "source": [
        "wandb.agent(sweep_id, train)"
      ],
      "execution_count": null,
      "outputs": []
    },
    {
      "cell_type": "code",
      "metadata": {
        "id": "D7oO0b30Yljj"
      },
      "source": [
        "# num_encoder_tokens"
      ],
      "execution_count": null,
      "outputs": []
    },
    {
      "cell_type": "code",
      "metadata": {
        "id": "H90960L1xnOA"
      },
      "source": [
        "# # Define an input sequence and process it.\n",
        "# encoder_inputs = keras.Input(shape=(None, num_encoder_tokens))\n",
        "# encoder = keras.layers.LSTM(latent_dim, return_sequences=True, return_state=True)\n",
        "# encoder_outputs, state_h, state_c = encoder(encoder_inputs)\n",
        "\n",
        "# # We discard `encoder_outputs` and only keep the states.\n",
        "# encoder_states = [state_h, state_c]\n",
        "\n",
        "# # Set up the decoder, using `encoder_states` as initial state.\n",
        "# decoder_inputs = keras.Input(shape=(None, num_decoder_tokens))\n",
        "\n",
        "# # We set up our decoder to return full output sequences,\n",
        "# # and to return internal states as well. We don't use the\n",
        "# # return states in the training model, but we will use them in inference.\n",
        "# decoder_lstm = keras.layers.LSTM(latent_dim, return_sequences=True, return_state=True)\n",
        "# decoder_outputs, _, _ = decoder_lstm(decoder_inputs, initial_state=encoder_states)\n",
        "# print(\"decoder_outputs : \",decoder_outputs.shape)\n",
        "\n",
        "# # Attention layer\n",
        "# attn_layer = Attention(name='attention_layer')\n",
        "# attn_out = attn_layer([decoder_outputs,encoder_outputs])\n",
        "# print(\"attn_out : \",attn_out.shape)\n",
        "\n",
        "# # Concat attention input and decoder GRU output\n",
        "# decoder_concat_input = Concatenate(axis=-1, name='concat_layer')([decoder_outputs, attn_out])\n",
        "\n",
        "# decoder_dense = keras.layers.Dense(num_decoder_tokens, activation=\"softmax\")\n",
        "# # dense_time = TimeDistributed(decoder_dense, name='time_distributed_layer')\n",
        "# decoder_outputs = decoder_dense(decoder_concat_input)\n",
        "\n",
        "# # Define the model that will turn\n",
        "# # `encoder_input_data` & `decoder_input_data` into `decoder_target_data`\n",
        "# model = keras.Model([encoder_inputs, decoder_inputs], decoder_outputs)"
      ],
      "execution_count": null,
      "outputs": []
    },
    {
      "cell_type": "code",
      "metadata": {
        "id": "nDkcqeKQrtw0"
      },
      "source": [
        "# plot_model(model, to_file='model.png', show_shapes=True)"
      ],
      "execution_count": null,
      "outputs": []
    },
    {
      "cell_type": "code",
      "metadata": {
        "id": "1in3m-XJ8O11"
      },
      "source": [
        "# model.compile(\n",
        "#     optimizer=\"rmsprop\", loss=\"categorical_crossentropy\", metrics=[\"accuracy\"]\n",
        "# )\n",
        "# model.fit(\n",
        "#     [encoder_input_data, decoder_input_data],\n",
        "#     decoder_target_data,\n",
        "#     batch_size=batch_size,\n",
        "#     epochs=epochs,\n",
        "#     validation_split=0.2,\n",
        "# )"
      ],
      "execution_count": null,
      "outputs": []
    },
    {
      "cell_type": "code",
      "metadata": {
        "id": "_3dpLC8M8b7Y"
      },
      "source": [
        "  # encoder_model = keras.Model(encoder_inputs, [encoder_outputs, encoder_states])"
      ],
      "execution_count": null,
      "outputs": []
    },
    {
      "cell_type": "code",
      "metadata": {
        "id": "F9kWKDACTWCe"
      },
      "source": [
        "# plot_model(encoder_model, to_file='encoder_model.png', show_shapes=True)"
      ],
      "execution_count": null,
      "outputs": []
    },
    {
      "cell_type": "code",
      "metadata": {
        "id": "H-2YGAxW9Dm0"
      },
      "source": [
        "# decoder_state_input_h = keras.Input(shape=(latent_dim,))\n",
        "# decoder_state_input_c = keras.Input(shape=(latent_dim,))\n",
        "# encoder_inf_output = keras.Input(shape=(None, latent_dim))\n",
        "# decoder_states_inputs = [decoder_state_input_h, decoder_state_input_c]\n",
        "\n",
        "# decoder_outputs, state_h_dec, state_c_dec = (keras.layers.LSTM(latent_dim, return_sequences=True, return_state=True))(decoder_inputs, initial_state=decoder_states_inputs)\n",
        "# decoder_states = [state_h_dec, state_c_dec]\n",
        "\n",
        "# attn_layer = Attention(name='attention_layer')\n",
        "# attn_inf_out = attn_layer([decoder_outputs, encoder_inf_output])\n",
        "# decoder_inf_concat = Concatenate(axis=-1, name='concat')([decoder_outputs, attn_inf_out])\n",
        "# print(encoder_inf_output.shape)\n",
        "# print(decoder_outputs.shape)\n",
        "# print(attn_inf_out.shape)\n",
        "\n",
        "# decoder_dense = keras.layers.Dense(num_decoder_tokens, activation=\"softmax\")\n",
        "# decoder_outputs = decoder_dense(decoder_inf_concat)\n",
        "# decoder_model = keras.Model(\n",
        "#     [decoder_inputs] + [encoder_inf_output] + decoder_states_inputs, [decoder_outputs] + decoder_states\n",
        "# )"
      ],
      "execution_count": null,
      "outputs": []
    },
    {
      "cell_type": "code",
      "metadata": {
        "id": "s9tdnCaTT4SF"
      },
      "source": [
        "# plot_model(decoder_model, to_file='decoder_model.png', show_shapes=True)"
      ],
      "execution_count": null,
      "outputs": []
    },
    {
      "cell_type": "code",
      "metadata": {
        "id": "ulHv1mVg9J7F"
      },
      "source": [
        "# reverse_input_char_index = dict((i, char) for char, i in input_token_index.items())\n",
        "# reverse_target_char_index = dict((i, char) for char, i in target_token_index.items())"
      ],
      "execution_count": null,
      "outputs": []
    },
    {
      "cell_type": "code",
      "metadata": {
        "id": "xPDNo0n29LFb"
      },
      "source": [
        "# def decode_sequence(input_seq):\n",
        "#     # Encode the input as state vectors.\n",
        "#     encoder_outputs, states_value = encoder_model.predict(input_seq)\n",
        "#     # enc_latent_dim = np.array(encoder_outputs).shape\n",
        "#     # print(np.array(encoder_outputs).shape, np.array(states_value).shape)\n",
        "#     # Generate empty target sequence of length 1.\n",
        "#     target_seq = np.zeros((1, 1, num_decoder_tokens))\n",
        "#     # Populate the first character of target sequence with the start character.\n",
        "#     target_seq[0, 0, target_token_index[\"\\t\"]] = 1.0\n",
        "\n",
        "#     # Sampling loop for a batch of sequences\n",
        "#     # (to simplify, here we assume a batch of size 1).\n",
        "#     stop_condition = False\n",
        "#     decoded_sentence = \"\"\n",
        "#     # cnt = 0\n",
        "#     while not stop_condition:\n",
        "#         output_tokens, h, c = decoder_model.predict([target_seq] + [encoder_outputs] + states_value)\n",
        "#         # cnt += 1\n",
        "#         # if(cnt == 20):\n",
        "#         #   break\n",
        "\n",
        "#         # Sample a token\n",
        "#         sampled_token_index = np.argmax(output_tokens[0, -1, :])\n",
        "#         sampled_char = reverse_target_char_index[sampled_token_index]\n",
        "#         decoded_sentence += sampled_char\n",
        "\n",
        "#         # Exit condition: either hit max length\n",
        "#         # or find stop character.\n",
        "#         if sampled_char == \"\\n\" or len(decoded_sentence) > max_decoder_seq_length:\n",
        "#             stop_condition = True\n",
        "\n",
        "#         # Update the target sequence (of length 1).\n",
        "#         target_seq = np.zeros((1, 1, num_decoder_tokens))\n",
        "#         target_seq[0, 0, sampled_token_index] = 1.0\n",
        "\n",
        "#         # Update states\n",
        "#         states_value = [h, c]\n",
        "#     return decoded_sentence"
      ],
      "execution_count": null,
      "outputs": []
    },
    {
      "cell_type": "code",
      "metadata": {
        "id": "3SPn4Qag9ooN"
      },
      "source": [
        "# count=0\n",
        "# for seq_index in range(20):\n",
        "#     # Take one sequence (part of the training set)\n",
        "#     # for trying out decoding.\n",
        "#     input_seq = encoder_input_data[seq_index : seq_index + 1]\n",
        "#     decoded_sentence = decode_sequence(input_seq)\n",
        "#     if(decoded_sentence[0:-1]==data.iloc[seq_index,0]):\n",
        "#       count=count+1\n",
        "    \n",
        "#     print(\"-\",count)\n",
        "#     print(\"Input word:\", input_texts[seq_index])\n",
        "#     print(\"Input type:\", len(input_texts[seq_index]))\n",
        "#     print(\"expected word:\", data.iloc[seq_index,0])\n",
        "#     print(\"expected type:\", len(data.iloc[seq_index,0]))\n",
        "#     print(\"predicted word:\", decoded_sentence)\n",
        "#     print(\"predicted type:\", len(decoded_sentence))\n",
        "# print(\"word accuracy:\",count/20)"
      ],
      "execution_count": null,
      "outputs": []
    },
    {
      "cell_type": "code",
      "metadata": {
        "id": "EVclif1gGNnG"
      },
      "source": [
        "# count"
      ],
      "execution_count": null,
      "outputs": []
    },
    {
      "cell_type": "code",
      "metadata": {
        "id": "8LVoV0aFJAit"
      },
      "source": [
        ""
      ],
      "execution_count": null,
      "outputs": []
    }
  ]
}