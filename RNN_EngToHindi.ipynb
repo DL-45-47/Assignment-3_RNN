{
  "nbformat": 4,
  "nbformat_minor": 0,
  "metadata": {
    "colab": {
      "name": "RNN_EngToHindi.ipynb",
      "provenance": [],
      "collapsed_sections": []
    },
    "kernelspec": {
      "name": "python3",
      "display_name": "Python 3"
    },
    "accelerator": "GPU"
  },
  "cells": [
    {
      "cell_type": "code",
      "metadata": {
        "id": "GEOCrRZfUgB2"
      },
      "source": [
        "import pandas as pd\n",
        "import numpy as np\n",
        "import math\n",
        "import random\n",
        "from keras import Input, regularizers, Model\n",
        "from keras.layers import Input\n",
        "from keras.layers import LSTM\n",
        "from keras.layers import Dense, Embedding\n",
        "from keras.utils.vis_utils import plot_model"
      ],
      "execution_count": 3,
      "outputs": []
    },
    {
      "cell_type": "code",
      "metadata": {
        "id": "cSSsm3szUjbp",
        "colab": {
          "base_uri": "https://localhost:8080/"
        },
        "outputId": "5f07195d-213e-42fc-dc41-d4065fdd1ccc"
      },
      "source": [
        "from google.colab import drive\n",
        "drive.mount('/content/drive')"
      ],
      "execution_count": 4,
      "outputs": [
        {
          "output_type": "stream",
          "text": [
            "Mounted at /content/drive\n"
          ],
          "name": "stdout"
        }
      ]
    },
    {
      "cell_type": "code",
      "metadata": {
        "id": "wEpgUGP-MPLx",
        "colab": {
          "base_uri": "https://localhost:8080/"
        },
        "outputId": "72483914-7886-47bf-e4e9-7b385c337f47"
      },
      "source": [
        "!ls /content/drive/MyDrive/DLassignment3"
      ],
      "execution_count": 5,
      "outputs": [
        {
          "output_type": "stream",
          "text": [
            "hi.translit.sampled.train.tsv\n"
          ],
          "name": "stdout"
        }
      ]
    },
    {
      "cell_type": "code",
      "metadata": {
        "id": "i3iOpC6z_ljZ"
      },
      "source": [
        "data = pd.read_csv (\"/content/drive/MyDrive/DLassignment3/hi.translit.sampled.train.tsv\", sep = '\\t')"
      ],
      "execution_count": 6,
      "outputs": []
    },
    {
      "cell_type": "code",
      "metadata": {
        "id": "4_ZiFFts6Lpi"
      },
      "source": [
        "data.rename(columns = {'अं' : 'Hindi', 'an' : 'English'}, inplace = True)\n"
      ],
      "execution_count": 7,
      "outputs": []
    },
    {
      "cell_type": "code",
      "metadata": {
        "id": "-3CzVoypBZRk",
        "colab": {
          "base_uri": "https://localhost:8080/",
          "height": 402
        },
        "outputId": "b1394b85-a48e-451b-cdbd-0f25fffd9fa4"
      },
      "source": [
        "data"
      ],
      "execution_count": 8,
      "outputs": [
        {
          "output_type": "execute_result",
          "data": {
            "text/html": [
              "<div>\n",
              "<style scoped>\n",
              "    .dataframe tbody tr th:only-of-type {\n",
              "        vertical-align: middle;\n",
              "    }\n",
              "\n",
              "    .dataframe tbody tr th {\n",
              "        vertical-align: top;\n",
              "    }\n",
              "\n",
              "    .dataframe thead th {\n",
              "        text-align: right;\n",
              "    }\n",
              "</style>\n",
              "<table border=\"1\" class=\"dataframe\">\n",
              "  <thead>\n",
              "    <tr style=\"text-align: right;\">\n",
              "      <th></th>\n",
              "      <th>Hindi</th>\n",
              "      <th>English</th>\n",
              "      <th>3</th>\n",
              "    </tr>\n",
              "  </thead>\n",
              "  <tbody>\n",
              "    <tr>\n",
              "      <th>0</th>\n",
              "      <td>अंकगणित</td>\n",
              "      <td>ankganit</td>\n",
              "      <td>3</td>\n",
              "    </tr>\n",
              "    <tr>\n",
              "      <th>1</th>\n",
              "      <td>अंकल</td>\n",
              "      <td>uncle</td>\n",
              "      <td>4</td>\n",
              "    </tr>\n",
              "    <tr>\n",
              "      <th>2</th>\n",
              "      <td>अंकुर</td>\n",
              "      <td>ankur</td>\n",
              "      <td>4</td>\n",
              "    </tr>\n",
              "    <tr>\n",
              "      <th>3</th>\n",
              "      <td>अंकुरण</td>\n",
              "      <td>ankuran</td>\n",
              "      <td>3</td>\n",
              "    </tr>\n",
              "    <tr>\n",
              "      <th>4</th>\n",
              "      <td>अंकुरित</td>\n",
              "      <td>ankurit</td>\n",
              "      <td>3</td>\n",
              "    </tr>\n",
              "    <tr>\n",
              "      <th>...</th>\n",
              "      <td>...</td>\n",
              "      <td>...</td>\n",
              "      <td>...</td>\n",
              "    </tr>\n",
              "    <tr>\n",
              "      <th>44198</th>\n",
              "      <td>ह्वेनसांग</td>\n",
              "      <td>hiuentsang</td>\n",
              "      <td>1</td>\n",
              "    </tr>\n",
              "    <tr>\n",
              "      <th>44199</th>\n",
              "      <td>ह्वेनसांग</td>\n",
              "      <td>hsuantsang</td>\n",
              "      <td>1</td>\n",
              "    </tr>\n",
              "    <tr>\n",
              "      <th>44200</th>\n",
              "      <td>ह्वेनसांग</td>\n",
              "      <td>hyensang</td>\n",
              "      <td>1</td>\n",
              "    </tr>\n",
              "    <tr>\n",
              "      <th>44201</th>\n",
              "      <td>ह्वेनसांग</td>\n",
              "      <td>xuanzang</td>\n",
              "      <td>1</td>\n",
              "    </tr>\n",
              "    <tr>\n",
              "      <th>44202</th>\n",
              "      <td>ॐ</td>\n",
              "      <td>om</td>\n",
              "      <td>3</td>\n",
              "    </tr>\n",
              "  </tbody>\n",
              "</table>\n",
              "<p>44203 rows × 3 columns</p>\n",
              "</div>"
            ],
            "text/plain": [
              "           Hindi     English  3\n",
              "0        अंकगणित    ankganit  3\n",
              "1           अंकल       uncle  4\n",
              "2          अंकुर       ankur  4\n",
              "3         अंकुरण     ankuran  3\n",
              "4        अंकुरित     ankurit  3\n",
              "...          ...         ... ..\n",
              "44198  ह्वेनसांग  hiuentsang  1\n",
              "44199  ह्वेनसांग  hsuantsang  1\n",
              "44200  ह्वेनसांग    hyensang  1\n",
              "44201  ह्वेनसांग    xuanzang  1\n",
              "44202          ॐ          om  3\n",
              "\n",
              "[44203 rows x 3 columns]"
            ]
          },
          "metadata": {
            "tags": []
          },
          "execution_count": 8
        }
      ]
    },
    {
      "cell_type": "code",
      "metadata": {
        "colab": {
          "base_uri": "https://localhost:8080/"
        },
        "id": "sXtMBNYXU1sn",
        "outputId": "b339f756-b290-47e8-c518-3b94c41375d1"
      },
      "source": [
        "input_texts = []\n",
        "target_texts = []\n",
        "input_characters = set()\n",
        "target_characters = set()\n",
        "for j in range(len(data)):\n",
        "  try:\n",
        "    input_text=data.iloc[j,1]\n",
        "    target_text=data.iloc[j,0]\n",
        "    target_text = \"\\t\" + target_text + \"\\n\"\n",
        "    if(len(input_text)>=1 and len(target_text)>=2):\n",
        "      input_texts.append(input_text)\n",
        "      target_texts.append(target_text)\n",
        "    for char in input_text:\n",
        "      if char not in input_characters:\n",
        "        input_characters.add(char)\n",
        "    for char in target_text:\n",
        "      if char not in target_characters:\n",
        "        target_characters.add(char)\n",
        "  except: print(\"error\")\n",
        "input_characters.add(' ')\n",
        "target_characters.add(' ')"
      ],
      "execution_count": 9,
      "outputs": [
        {
          "output_type": "stream",
          "text": [
            "error\n",
            "error\n"
          ],
          "name": "stdout"
        }
      ]
    },
    {
      "cell_type": "code",
      "metadata": {
        "colab": {
          "base_uri": "https://localhost:8080/"
        },
        "id": "JqoZ7Ab1VA0I",
        "outputId": "df5cc8cd-8a92-4c8a-bb6e-d93f93ab0429"
      },
      "source": [
        "input_characters = sorted(list(input_characters))\n",
        "target_characters = sorted(list(target_characters))\n",
        "num_encoder_tokens = len(input_characters)\n",
        "num_decoder_tokens = len(target_characters)\n",
        "max_encoder_seq_length = max([len(txt) for txt in input_texts])\n",
        "max_decoder_seq_length = max([len(txt) for txt in target_texts])\n",
        "print(\"Number of samples:\", len(input_texts))\n",
        "print(\"Number of unique input tokens:\", num_encoder_tokens)\n",
        "print(\"Number of unique output tokens:\", num_decoder_tokens)\n",
        "print(\"Max sequence length for inputs:\", max_encoder_seq_length)\n",
        "print(\"Max sequence length for outputs:\", max_decoder_seq_length)"
      ],
      "execution_count": 10,
      "outputs": [
        {
          "output_type": "stream",
          "text": [
            "Number of samples: 44201\n",
            "Number of unique input tokens: 27\n",
            "Number of unique output tokens: 66\n",
            "Max sequence length for inputs: 20\n",
            "Max sequence length for outputs: 21\n"
          ],
          "name": "stdout"
        }
      ]
    },
    {
      "cell_type": "code",
      "metadata": {
        "id": "uy1XfFilVCUF"
      },
      "source": [
        "  tmp_x_train = []\n",
        "  tmp_x_train_index = random.sample([i for i in range(0,np.array(input_texts).shape[0])],math.ceil(np.array(input_texts).shape[0]*0.7))\n",
        "  tmp_x_val = []\n",
        "  tmp_y_train = []\n",
        "  tmp_y_val = []\n",
        "  for i in tmp_x_train_index:\n",
        "    tmp_x_train.append(input_texts[i])\n",
        "    tmp_y_train.append(target_texts[i])\n",
        "  for i in range(np.array(input_texts).shape[0]):\n",
        "    if i not in tmp_x_train_index:\n",
        "      tmp_x_val.append(input_texts[i])\n",
        "      tmp_y_val.append(target_texts[i])\n",
        "  \n",
        "  lim=int(len(tmp_x_train)*0.9)\n",
        "  x_train = tmp_x_train[0:lim]\n",
        "  y_train = tmp_y_train[0:lim]\n",
        "  x_val = tmp_x_train[lim:]\n",
        "  y_val = tmp_y_train[lim:]\n",
        "  x_test = tmp_x_val\n",
        "  y_test = tmp_y_val\n",
        "\n",
        "  # x_train = np.array(sample_in[:math.ceil(np.array(sample_in).shape[0]*0.7)])\n",
        "  # y_train = np.array(sample_out[:math.ceil(np.array(sample_out).shape[0]*0.7)])\n",
        "  # x_val = np.array(sample_in[math.ceil(np.array(sample_in).shape[0]*0.7):])\n",
        "  # y_val = np.array(sample_out[math.ceil(np.array(sample_out).shape[0]*0.7):])\n",
        "  # x_train = np.array(sample_in)\n",
        "  # y_train = np.array(sample_out)"
      ],
      "execution_count": 11,
      "outputs": []
    },
    {
      "cell_type": "code",
      "metadata": {
        "id": "bPTbm6GRVk0K"
      },
      "source": [
        "input_token_index = dict([(char, i) for i, char in enumerate(input_characters)])\n",
        "target_token_index = dict([(char, i) for i, char in enumerate(target_characters)])"
      ],
      "execution_count": 12,
      "outputs": []
    },
    {
      "cell_type": "code",
      "metadata": {
        "id": "LF0dzH0pVorf"
      },
      "source": [
        "reverse_input_char_index = dict((i, char) for char, i in input_token_index.items())\n",
        "reverse_target_char_index = dict((i, char) for char, i in target_token_index.items())"
      ],
      "execution_count": 13,
      "outputs": []
    },
    {
      "cell_type": "code",
      "metadata": {
        "id": "dEFlvrhGVste"
      },
      "source": [
        "encoder_input_data = np.zeros(\n",
        "    (len(x_train), max_encoder_seq_length, num_encoder_tokens), dtype=\"float32\"\n",
        ")\n",
        "decoder_input_data = np.zeros(\n",
        "    (len(x_train), max_decoder_seq_length, num_decoder_tokens), dtype=\"float32\"\n",
        ")\n",
        "decoder_target_data = np.zeros(\n",
        "    (len(x_train), max_decoder_seq_length, num_decoder_tokens), dtype=\"float32\"\n",
        ")"
      ],
      "execution_count": 14,
      "outputs": []
    },
    {
      "cell_type": "code",
      "metadata": {
        "id": "KlJXKEXhVxxz"
      },
      "source": [
        "for i, (input_text, target_text) in enumerate(zip(x_train, y_train)):\n",
        "    for t, char in enumerate(input_text):\n",
        "        encoder_input_data[i, t, input_token_index[char]] = 1.0\n",
        "    encoder_input_data[i, t + 1 :, input_token_index[\" \"]] = 1.0\n",
        "    for t, char in enumerate(target_text):\n",
        "        # decoder_target_data is ahead of decoder_input_data by one timestep\n",
        "        decoder_input_data[i, t, target_token_index[char]] = 1.0\n",
        "        if t > 0:\n",
        "            # decoder_target_data will be ahead by one timestep\n",
        "            # and will not include the start character.\n",
        "            decoder_target_data[i, t - 1, target_token_index[char]] = 1.0\n",
        "    decoder_input_data[i, t + 1 :, target_token_index[\" \"]] = 1.0\n",
        "    decoder_target_data[i, t:, target_token_index[\" \"]] = 1.0"
      ],
      "execution_count": 15,
      "outputs": []
    },
    {
      "cell_type": "code",
      "metadata": {
        "id": "X0ADLUVuWjAg"
      },
      "source": [
        "encoder_input_val = np.zeros(\n",
        "    (len(x_val), max_encoder_seq_length, num_encoder_tokens), dtype=\"float32\"\n",
        ")\n",
        "decoder_input_val = np.zeros(\n",
        "    (len(x_val), max_decoder_seq_length, num_decoder_tokens), dtype=\"float32\"\n",
        ")\n",
        "decoder_target_val = np.zeros(\n",
        "    (len(x_val), max_decoder_seq_length, num_decoder_tokens), dtype=\"float32\"\n",
        ")"
      ],
      "execution_count": 16,
      "outputs": []
    },
    {
      "cell_type": "code",
      "metadata": {
        "id": "PyesAT1-WnIw"
      },
      "source": [
        "for i, (input_text, target_text) in enumerate(zip(x_val, y_val)):\n",
        "    for t, char in enumerate(input_text):\n",
        "        encoder_input_val[i, t, input_token_index[char]] = 1.0\n",
        "    encoder_input_val[i, t + 1 :, input_token_index[\" \"]] = 1.0\n",
        "    for t, char in enumerate(target_text):\n",
        "        # decoder_target_data is ahead of decoder_input_data by one timestep\n",
        "        decoder_input_val[i, t, target_token_index[char]] = 1.0\n",
        "        if t > 0:\n",
        "            # decoder_target_data will be ahead by one timestep\n",
        "            # and will not include the start character.\n",
        "            decoder_target_val[i, t - 1, target_token_index[char]] = 1.0\n",
        "    decoder_input_val[i, t + 1 :, target_token_index[\" \"]] = 1.0\n",
        "    decoder_target_val[i, t:, target_token_index[\" \"]] = 1.0"
      ],
      "execution_count": 17,
      "outputs": []
    },
    {
      "cell_type": "code",
      "metadata": {
        "id": "iQARzSTqWqQw"
      },
      "source": [
        "encoder_input_test = np.zeros(\n",
        "    (len(x_test), max_encoder_seq_length, num_encoder_tokens), dtype=\"float32\"\n",
        ")\n",
        "decoder_input_test = np.zeros(\n",
        "    (len(x_test), max_decoder_seq_length, num_decoder_tokens), dtype=\"float32\"\n",
        ")\n",
        "decoder_target_test = np.zeros(\n",
        "    (len(x_test), max_decoder_seq_length, num_decoder_tokens), dtype=\"float32\"\n",
        ")"
      ],
      "execution_count": 18,
      "outputs": []
    },
    {
      "cell_type": "code",
      "metadata": {
        "id": "j526gZeqWskX"
      },
      "source": [
        "for i, (input_text, target_text) in enumerate(zip(x_test, y_test)):\n",
        "    for t, char in enumerate(input_text):\n",
        "        encoder_input_test[i, t, input_token_index[char]] = 1.0\n",
        "    encoder_input_test[i, t + 1 :, input_token_index[\" \"]] = 1.0\n",
        "    for t, char in enumerate(target_text):\n",
        "        # decoder_target_data is ahead of decoder_input_data by one timestep\n",
        "        decoder_input_test[i, t, target_token_index[char]] = 1.0\n",
        "        if t > 0:\n",
        "            # decoder_target_data will be ahead by one timestep\n",
        "            # and will not include the start character.\n",
        "            decoder_target_test[i, t - 1, target_token_index[char]] = 1.0\n",
        "    decoder_input_test[i, t + 1 :, target_token_index[\" \"]] = 1.0\n",
        "    decoder_target_test[i, t:, target_token_index[\" \"]] = 1.0"
      ],
      "execution_count": 19,
      "outputs": []
    },
    {
      "cell_type": "code",
      "metadata": {
        "colab": {
          "base_uri": "https://localhost:8080/"
        },
        "id": "LlV5AsOvWxPe",
        "outputId": "5844f35c-cbd1-4b04-ca56-035b7b918763"
      },
      "source": [
        "encoder_input_data.shape"
      ],
      "execution_count": 20,
      "outputs": [
        {
          "output_type": "execute_result",
          "data": {
            "text/plain": [
              "(27846, 20, 27)"
            ]
          },
          "metadata": {
            "tags": []
          },
          "execution_count": 20
        }
      ]
    },
    {
      "cell_type": "code",
      "metadata": {
        "id": "RFK6-lQmZ_-G"
      },
      "source": [
        "  # Define an input sequence and process it.\n",
        "  encoder_inputs = Input(shape=(None, num_encoder_tokens))\n",
        "  encoder_inputs_1 = encoder_inputs\n",
        "  encoder_states_1 = []\n",
        "  for i in range(1):\n",
        "    encoder_inputs_1, state_h_1, state_c_1 = (LSTM(128, return_sequences=True,return_state=True))(encoder_inputs_1)\n",
        "    encoder_state = [state_h_1, state_c_1]\n",
        "    encoder_states_1.append(encoder_state)\n",
        "  encoder_inputs_1, state_h_1, state_c_1 = (LSTM(128, return_state=True))(encoder_inputs_1)\n",
        "  encoder_state = [state_h_1, state_c_1]\n",
        "  encoder_states_1.append(encoder_state)\n",
        "\n",
        "  # Set up the decoder, using `encoder_states` as initial state.\n",
        "  decoder_inputs = Input(shape=(None, num_decoder_tokens))\n",
        "  decoder_inputs_1 = decoder_inputs\n",
        "  for i in range(2):\n",
        "    decoder_inputs_1, _, _ = (LSTM(128, return_sequences=True,return_state=True))(decoder_inputs_1, initial_state=encoder_states_1[i])\n",
        "  decoder_dense = Dense(num_decoder_tokens, activation='softmax', kernel_regularizer=regularizers.l2(0.01))\n",
        "  decoder_outputs = decoder_dense(decoder_inputs_1)\n",
        "\n",
        "  # Define the model that will turn\n",
        "  # `encoder_input_data` & `decoder_input_data` into `decoder_target_data`\n",
        "  model = Model([encoder_inputs, decoder_inputs], decoder_outputs)"
      ],
      "execution_count": 21,
      "outputs": []
    },
    {
      "cell_type": "code",
      "metadata": {
        "colab": {
          "base_uri": "https://localhost:8080/",
          "height": 533
        },
        "id": "UsFiC6u3eJ0T",
        "outputId": "d1433e4c-f4e7-4e78-9f82-fa35c85a7e06"
      },
      "source": [
        "plot_model(model, to_file='model.png', show_shapes=True)"
      ],
      "execution_count": 22,
      "outputs": [
        {
          "output_type": "execute_result",
          "data": {
            "image/png": "[encoded data removed]",
            "text/plain": [
              "<IPython.core.display.Image object>"
            ]
          },
          "metadata": {
            "tags": []
          },
          "execution_count": 22
        }
      ]
    },
    {
      "cell_type": "code",
      "metadata": {
        "id": "04CVepkWam6e"
      },
      "source": [
        "# define encoder inference model\n",
        "encoder_model = Model(encoder_inputs, encoder_states_1)"
      ],
      "execution_count": 23,
      "outputs": []
    },
    {
      "cell_type": "code",
      "metadata": {
        "id": "hZGi6OvDaoOk"
      },
      "source": [
        "  # define decoder inference model\n",
        "  # Below tensors will hold the states of the previous time step\n",
        "  decoder_states_inputs = [Input(shape=(128,)) for _ in range(2*2)]\n",
        "\n",
        "  # To predict the next word in the sequence, set the initial states to the states from the previous time step\n",
        "  decoder_states = []\n",
        "  decoder_outputs = decoder_inputs\n",
        "  for i in range(2):\n",
        "    decoder_outputs, state_h, state_c = (LSTM(128, return_sequences=True, return_state=True))(decoder_outputs, initial_state=decoder_states_inputs[2*i:2*(i+1)])\n",
        "    decoder_states.append(state_h)\n",
        "    decoder_states.append(state_c)\n",
        "  \n",
        "  decoder_outputs_2 = decoder_dense(decoder_outputs)\n",
        "  decoder_model = Model([decoder_inputs] + decoder_states_inputs, [decoder_outputs_2] + decoder_states)"
      ],
      "execution_count": 24,
      "outputs": []
    },
    {
      "cell_type": "code",
      "metadata": {
        "colab": {
          "base_uri": "https://localhost:8080/",
          "height": 312
        },
        "id": "PvDx3tf6jycs",
        "outputId": "0ab12edf-153f-4684-da9b-6d2a0600b299"
      },
      "source": [
        "plot_model(encoder_model, to_file='encoder_model.png', show_shapes=True)"
      ],
      "execution_count": 25,
      "outputs": [
        {
          "output_type": "execute_result",
          "data": {
            "image/png": "[encoded data removed]",
            "text/plain": [
              "<IPython.core.display.Image object>"
            ]
          },
          "metadata": {
            "tags": []
          },
          "execution_count": 25
        }
      ]
    },
    {
      "cell_type": "code",
      "metadata": {
        "colab": {
          "base_uri": "https://localhost:8080/",
          "height": 342
        },
        "id": "E6_qf4JBk4WM",
        "outputId": "c533e5e3-6b93-4a1b-b749-62518b25f3a9"
      },
      "source": [
        "plot_model(decoder_model, to_file='decoder_model.png', show_shapes=True)"
      ],
      "execution_count": 26,
      "outputs": [
        {
          "output_type": "execute_result",
          "data": {
            "image/png": "[encoded data removed]",
            "text/plain": [
              "<IPython.core.display.Image object>"
            ]
          },
          "metadata": {
            "tags": []
          },
          "execution_count": 26
        }
      ]
    },
    {
      "cell_type": "code",
      "metadata": {
        "id": "NX3xz_ibk5eF"
      },
      "source": [
        "model.compile(optimizer='rmsprop', loss='categorical_crossentropy', metrics=['accuracy'])"
      ],
      "execution_count": 27,
      "outputs": []
    },
    {
      "cell_type": "code",
      "metadata": {
        "colab": {
          "base_uri": "https://localhost:8080/"
        },
        "id": "ELrpJTDvk-CD",
        "outputId": "144b6a8b-ca24-4b91-9520-a41fcff1779e"
      },
      "source": [
        "history = model.fit([encoder_input_data, decoder_input_data],decoder_target_data, epochs=15,validation_data=([encoder_input_val, decoder_input_val],decoder_target_val), batch_size=32)"
      ],
      "execution_count": 28,
      "outputs": [
        {
          "output_type": "stream",
          "text": [
            "Epoch 1/15\n",
            "871/871 [==============================] - 36s 14ms/step - loss: 1.4688 - accuracy: 0.6947 - val_loss: 1.0219 - val_accuracy: 0.7454\n",
            "Epoch 2/15\n",
            "871/871 [==============================] - 11s 12ms/step - loss: 0.9865 - accuracy: 0.7544 - val_loss: 0.9778 - val_accuracy: 0.7582\n",
            "Epoch 3/15\n",
            "871/871 [==============================] - 11s 12ms/step - loss: 0.9185 - accuracy: 0.7742 - val_loss: 0.8977 - val_accuracy: 0.7816\n",
            "Epoch 4/15\n",
            "871/871 [==============================] - 11s 12ms/step - loss: 0.8671 - accuracy: 0.7916 - val_loss: 0.8444 - val_accuracy: 0.8005\n",
            "Epoch 5/15\n",
            "871/871 [==============================] - 11s 12ms/step - loss: 0.8165 - accuracy: 0.8103 - val_loss: 0.8002 - val_accuracy: 0.8197\n",
            "Epoch 6/15\n",
            "871/871 [==============================] - 11s 12ms/step - loss: 0.7707 - accuracy: 0.8284 - val_loss: 0.7586 - val_accuracy: 0.8346\n",
            "Epoch 7/15\n",
            "871/871 [==============================] - 11s 12ms/step - loss: 0.7324 - accuracy: 0.8426 - val_loss: 0.7390 - val_accuracy: 0.8409\n",
            "Epoch 8/15\n",
            "871/871 [==============================] - 11s 12ms/step - loss: 0.6955 - accuracy: 0.8561 - val_loss: 0.6836 - val_accuracy: 0.8591\n",
            "Epoch 9/15\n",
            "871/871 [==============================] - 11s 12ms/step - loss: 0.6640 - accuracy: 0.8674 - val_loss: 0.6711 - val_accuracy: 0.8647\n",
            "Epoch 10/15\n",
            "871/871 [==============================] - 11s 12ms/step - loss: 0.6337 - accuracy: 0.8770 - val_loss: 0.6408 - val_accuracy: 0.8773\n",
            "Epoch 11/15\n",
            "871/871 [==============================] - 11s 12ms/step - loss: 0.6107 - accuracy: 0.8849 - val_loss: 0.6171 - val_accuracy: 0.8841\n",
            "Epoch 12/15\n",
            "871/871 [==============================] - 11s 12ms/step - loss: 0.5926 - accuracy: 0.8914 - val_loss: 0.6057 - val_accuracy: 0.8885\n",
            "Epoch 13/15\n",
            "871/871 [==============================] - 11s 12ms/step - loss: 0.5742 - accuracy: 0.8977 - val_loss: 0.5844 - val_accuracy: 0.8941\n",
            "Epoch 14/15\n",
            "871/871 [==============================] - 11s 12ms/step - loss: 0.5575 - accuracy: 0.9027 - val_loss: 0.5715 - val_accuracy: 0.8988\n",
            "Epoch 15/15\n",
            "871/871 [==============================] - 11s 12ms/step - loss: 0.5456 - accuracy: 0.9066 - val_loss: 0.5615 - val_accuracy: 0.9000\n"
          ],
          "name": "stdout"
        }
      ]
    },
    {
      "cell_type": "code",
      "metadata": {
        "id": "fks5PMyKmfOp"
      },
      "source": [
        ""
      ],
      "execution_count": 28,
      "outputs": []
    },
    {
      "cell_type": "code",
      "metadata": {
        "id": "RC3x0jeNiHgy"
      },
      "source": [
        "def decode_sequence(input_seq):\n",
        "    # Encode the input as state vectors.\n",
        "    states_value = encoder_model.predict(input_seq)\n",
        "\n",
        "    # Generate empty target sequence of length 1.\n",
        "    target_seq = np.zeros((1, 1, num_decoder_tokens))\n",
        "    # Populate the first character of target sequence with the start character.\n",
        "    target_seq[0, 0, target_token_index[\"\\t\"]] = 1.0\n",
        "\n",
        "    # Sampling loop for a batch of sequences\n",
        "    # (to simplify, here we assume a batch of size 1).\n",
        "    stop_condition = False\n",
        "    decoded_sentence = \"\"\n",
        "    while not stop_condition:\n",
        "        returned = decoder_model.predict([target_seq] + states_value)\n",
        "        output_tokens = returned[0]\n",
        "        states_value = returned[1:]\n",
        "        # Sample a token\n",
        "        sampled_token_index = np.argmax(output_tokens[0, -1, :])\n",
        "        sampled_char = reverse_target_char_index[sampled_token_index]\n",
        "        decoded_sentence += sampled_char\n",
        "\n",
        "        # Exit condition: either hit max length\n",
        "        # or find stop character.\n",
        "        if sampled_char == \"\\n\" or len(decoded_sentence) > max_decoder_seq_length:\n",
        "            stop_condition = True\n",
        "\n",
        "        # Update the target sequence (of length 1).\n",
        "        target_seq = np.zeros((1, 1, num_decoder_tokens))\n",
        "        target_seq[0, 0, sampled_token_index] = 1.0\n",
        "\n",
        "        # Update states\n",
        "        \n",
        "    return decoded_sentence"
      ],
      "execution_count": 29,
      "outputs": []
    },
    {
      "cell_type": "code",
      "metadata": {
        "id": "Gwv6o0tWiLDp"
      },
      "source": [
        "def accuracy_train(  ):\n",
        "  count_test=0\n",
        "  count_train=0\n",
        "  num_sam=100\n",
        "  for i in range(num_sam):\n",
        "    seq_index=random.randint(0,len(x_test))\n",
        "    # Take one sequence (part of the training set)\n",
        "    # for trying out decoding.\n",
        "    input_seq = encoder_input_test[seq_index : seq_index + 1]\n",
        "    decoded_sentence = decode_sequence(input_seq)\n",
        "    if(decoded_sentence[0:-1]==y_test[seq_index][1:-1]):\n",
        "      count_test=count_test+1\n",
        "    print(\"test_Input word:\", x_test[seq_index])\n",
        "    print(\"test_expected word:\", y_test[seq_index][1:-1])\n",
        "    print(\"test_predicted word:\", decoded_sentence[0:-1])\n",
        "    print(\" \")\n",
        "  for i in range(num_sam):\n",
        "    seq_index=random.randint(0,len(x_train))\n",
        "    # Take one sequence (part of the training set)\n",
        "    # for trying out decoding.\n",
        "    input_seq = encoder_input_data[seq_index : seq_index + 1]\n",
        "    decoded_sentence = decode_sequence(input_seq)\n",
        "    if(decoded_sentence[0:-1]==y_train[seq_index][1:-1]):\n",
        "      count_train=count_train+1\n",
        "    print(\"train_Input word:\", x_train[seq_index])\n",
        "    print(\"train_expected word:\", y_train[seq_index][1:-1])\n",
        "    print(\"train_predicted word:\", decoded_sentence[0:-1])\n",
        "    print(\" \")\n",
        "  return count_test/num_sam,count_train/num_sam"
      ],
      "execution_count": 32,
      "outputs": []
    },
    {
      "cell_type": "code",
      "metadata": {
        "id": "5__NBApMiO8y",
        "colab": {
          "base_uri": "https://localhost:8080/",
          "height": 1000
        },
        "outputId": "a8c57fc4-ddb4-452e-c6f5-b894eb8814c7"
      },
      "source": [
        "x,y=accuracy_train()"
      ],
      "execution_count": 33,
      "outputs": [
        {
          "output_type": "stream",
          "text": [
            "test_Input word: on\n",
            "test_expected word: आन\n",
            "test_predicted word: अअअअअअ               \n",
            " \n",
            "test_Input word: bose\n",
            "test_expected word: बोस\n",
            "test_predicted word: बबबबबबबबबब           \n",
            " \n",
            "test_Input word: dalama\n",
            "test_expected word: दलमा\n",
            "test_predicted word: दददददजजज             \n",
            " \n",
            "test_Input word: aavashyak\n",
            "test_expected word: आवश्यक\n",
            "test_predicted word: अअअअअअअ              \n",
            " \n",
            "test_Input word: antargart\n",
            "test_expected word: अंतर्गत\n",
            "test_predicted word: अअअअअअ               \n",
            " \n",
            "test_Input word: lakadi\n",
            "test_expected word: लकड़ी\n",
            "test_predicted word: लललललललल             \n",
            " \n",
            "test_Input word: bhujaen\n",
            "test_expected word: भुजाएं\n",
            "test_predicted word: बबबबबबबब             \n",
            " \n",
            "test_Input word: adsens\n",
            "test_expected word: ऐडसेंस\n",
            "test_predicted word: अअअअअअ               \n",
            " \n",
            "test_Input word: sukhant\n",
            "test_expected word: सुखांत\n",
            "test_predicted word: सससससससससप           \n",
            " \n",
            "test_Input word: enamdar\n",
            "test_expected word: ईनामदार\n",
            "test_predicted word: अअअअअ                \n",
            " \n",
            "test_Input word: vishwavikhyaat\n",
            "test_expected word: विश्वविख्यात\n",
            "test_predicted word: वववववववववव           \n",
            " \n",
            "test_Input word: wisdom\n",
            "test_expected word: विजडम\n",
            "test_predicted word: ववववववववव            \n",
            " \n",
            "test_Input word: vikritiyan\n",
            "test_expected word: विकृतियां\n",
            "test_predicted word: वववववववववव           \n",
            " \n",
            "test_Input word: collectors\n",
            "test_expected word: कलेक्टर्स\n",
            "test_predicted word: कककककककककक           \n",
            " \n",
            "test_Input word: adhyayan\n",
            "test_expected word: अध्य्यन\n",
            "test_predicted word: अअअअअअअ              \n",
            " \n",
            "test_Input word: pustaken\n",
            "test_expected word: पुस्तकें\n",
            "test_predicted word: पपपपपपपपपप           \n",
            " \n",
            "test_Input word: rekhiy\n",
            "test_expected word: रेखीय\n",
            "test_predicted word: ररररररररररर          \n",
            " \n",
            "test_Input word: vasulane\n",
            "test_expected word: वसूलने\n",
            "test_predicted word: ववववववववव            \n",
            " \n",
            "test_Input word: jaanki\n",
            "test_expected word: जानकी\n",
            "test_predicted word: जजजजजजजजज            \n",
            " \n",
            "test_Input word: jhilmilate\n",
            "test_expected word: झिलमिलाते\n",
            "test_predicted word: जजजजजज               \n",
            " \n",
            "test_Input word: never\n",
            "test_expected word: नेवर\n",
            "test_predicted word: नननननननन             \n",
            " \n",
            "test_Input word: sketching\n",
            "test_expected word: स्केचिंग\n",
            "test_predicted word: सससससससससस           \n",
            " \n",
            "test_Input word: nukili\n",
            "test_expected word: नुकीली\n",
            "test_predicted word: ननननननननन            \n",
            " \n",
            "test_Input word: vohara\n",
            "test_expected word: वोहरा\n",
            "test_predicted word: ववववववववव            \n",
            " \n",
            "test_Input word: guangdong\n",
            "test_expected word: ग्वांगडोंग\n",
            "test_predicted word: गगगगजजजजजज           \n",
            " \n",
            "test_Input word: khaleelabaad\n",
            "test_expected word: खलीलाबाद\n",
            "test_predicted word: चचचचचकजजज            \n",
            " \n",
            "test_Input word: darshniya\n",
            "test_expected word: दर्शनीय\n",
            "test_predicted word: दददददजजजज            \n",
            " \n",
            "test_Input word: kripadrishti\n",
            "test_expected word: कृपादृष्टि\n",
            "test_predicted word: कककककककककक           \n",
            " \n",
            "test_Input word: vadyayantron\n",
            "test_expected word: वाद्ययंत्रों\n",
            "test_predicted word: ववववववववव            \n",
            " \n",
            "test_Input word: kherwada\n",
            "test_expected word: खेरवाड़ा\n",
            "test_predicted word: चचचचचज               \n",
            " \n",
            "test_Input word: mucus\n",
            "test_expected word: म्यूकस\n",
            "test_predicted word: मममममममममम           \n",
            " \n",
            "test_Input word: baaton\n",
            "test_expected word: बातों\n",
            "test_predicted word: बबबबबबबबबब           \n",
            " \n",
            "test_Input word: andaaz\n",
            "test_expected word: अंदाज\n",
            "test_predicted word: अअअअअअ               \n",
            " \n",
            "test_Input word: adhinsth\n",
            "test_expected word: अधिनस्थ\n",
            "test_predicted word: अअअअअअअ              \n",
            " \n",
            "test_Input word: sarvartha\n",
            "test_expected word: सर्वार्थ\n",
            "test_predicted word: सससससससससप           \n",
            " \n",
            "test_Input word: keetnashak\n",
            "test_expected word: कीटनाशक\n",
            "test_predicted word: कककककककककक           \n",
            " \n",
            "test_Input word: bhavpravan\n",
            "test_expected word: भावप्रवण\n",
            "test_predicted word: बबबबबबबब             \n",
            " \n",
            "test_Input word: resort\n",
            "test_expected word: रिसोर्ट\n",
            "test_predicted word: ररररररररररर          \n",
            " \n",
            "test_Input word: princes\n",
            "test_expected word: प्रिंसेस\n",
            "test_predicted word: पपपपपपपपपपप          \n",
            " \n",
            "test_Input word: abadiyon\n",
            "test_expected word: आबादियों\n",
            "test_predicted word: बबबबबबबबब            \n",
            " \n",
            "test_Input word: gagar\n",
            "test_expected word: गागर\n",
            "test_predicted word: गगगगगगजजज            \n",
            " \n",
            "test_Input word: koala\n",
            "test_expected word: कोआला\n",
            "test_predicted word: कककककककककक           \n",
            " \n",
            "test_Input word: janit\n",
            "test_expected word: जनित\n",
            "test_predicted word: जजजजजजजजज            \n",
            " \n",
            "test_Input word: chair\n",
            "test_expected word: चेयर\n",
            "test_predicted word: चचचचचजजज             \n",
            " \n",
            "test_Input word: samet\n",
            "test_expected word: समेत\n",
            "test_predicted word: सससससससससस           \n",
            " \n",
            "test_Input word: lomari\n",
            "test_expected word: लोमड़ी\n",
            "test_predicted word: लललललललल             \n",
            " \n",
            "test_Input word: ballam\n",
            "test_expected word: बल्लम\n",
            "test_predicted word: बबबबबबबबबब           \n",
            " \n",
            "test_Input word: dtc\n",
            "test_expected word: डीटीसी\n",
            "test_predicted word: दददददद               \n",
            " \n",
            "test_Input word: swachh\n",
            "test_expected word: स्वच्छ\n",
            "test_predicted word: सससससससससस           \n",
            " \n",
            "test_Input word: mazahab\n",
            "test_expected word: मजहब\n",
            "test_predicted word: मममममममममज           \n",
            " \n",
            "test_Input word: dheeredheere\n",
            "test_expected word: धीरेधीरे\n",
            "test_predicted word: दददद                 \n",
            " \n",
            "test_Input word: golaabaari\n",
            "test_expected word: गोलाबारी\n",
            "test_predicted word: गगगगगजजजज            \n",
            " \n",
            "test_Input word: dikhaavati\n",
            "test_expected word: दिखावटी\n",
            "test_predicted word: ददददददजज             \n",
            " \n",
            "test_Input word: vidhik\n",
            "test_expected word: विधिक\n",
            "test_predicted word: ववववववववव            \n",
            " \n",
            "test_Input word: durghtnagrast\n",
            "test_expected word: दुर्घटनाग्रस्त\n",
            "test_predicted word: दददददजजज             \n",
            " \n",
            "test_Input word: maanate\n",
            "test_expected word: मानते\n",
            "test_predicted word: मममममममममम           \n",
            " \n",
            "test_Input word: lache\n",
            "test_expected word: लच्छे\n",
            "test_predicted word: लललललललल             \n",
            " \n",
            "test_Input word: cool\n",
            "test_expected word: कूल\n",
            "test_predicted word: कककककककककक           \n",
            " \n",
            "test_Input word: bhagat\n",
            "test_expected word: भगत\n",
            "test_predicted word: बबबबबबबबब            \n",
            " \n",
            "test_Input word: dhamaaraa\n",
            "test_expected word: धमारा\n",
            "test_predicted word: ददददाा               \n",
            " \n",
            "test_Input word: prashasak\n",
            "test_expected word: प्रशासक\n",
            "test_predicted word: पपपपपपपपपपप          \n",
            " \n",
            "test_Input word: elizabeth\n",
            "test_expected word: एलिज़ाबेथ\n",
            "test_predicted word: अअअअअअ               \n",
            " \n",
            "test_Input word: daabhade\n",
            "test_expected word: दाभाड़े\n",
            "test_predicted word: दददददजजज             \n",
            " \n",
            "test_Input word: yudhh\n",
            "test_expected word: युद्ध\n",
            "test_predicted word: ययययययय              \n",
            " \n",
            "test_Input word: rat\n",
            "test_expected word: रात\n",
            "test_predicted word: ररररररररररर          \n",
            " \n",
            "test_Input word: koshon\n",
            "test_expected word: कोषों\n",
            "test_predicted word: कककककककककक           \n",
            " \n",
            "test_Input word: crease\n",
            "test_expected word: क्रीज\n",
            "test_predicted word: ककककककककक            \n",
            " \n",
            "test_Input word: shikshakon\n",
            "test_expected word: शिक्षकों\n",
            "test_predicted word: शशशशशशशपप            \n",
            " \n",
            "test_Input word: arddhasainik\n",
            "test_expected word: अर्द्धसैनिक\n",
            "test_predicted word: अअअअअअअ              \n",
            " \n",
            "test_Input word: aapatkalin\n",
            "test_expected word: आपातकालीन\n",
            "test_predicted word: अअअअअअ               \n",
            " \n",
            "test_Input word: botad\n",
            "test_expected word: बोटाद\n",
            "test_predicted word: बबबबबबबबब            \n",
            " \n",
            "test_Input word: pauranik\n",
            "test_expected word: पौराणिक\n",
            "test_predicted word: पपपपपपपपपप           \n",
            " \n",
            "test_Input word: turhi\n",
            "test_expected word: तुरही\n",
            "test_predicted word: तततततरररर            \n",
            " \n",
            "test_Input word: poeatic\n",
            "test_expected word: पोएटिक\n",
            "test_predicted word: पपपपपपपपपप           \n",
            " \n",
            "test_Input word: avtarit\n",
            "test_expected word: अवतरित\n",
            "test_predicted word: अअअअअअअ              \n",
            " \n",
            "test_Input word: all\n",
            "test_expected word: ऑल\n",
            "test_predicted word: अअअअअब               \n",
            " \n",
            "test_Input word: pratinidhi\n",
            "test_expected word: प्रतिनिधी\n",
            "test_predicted word: पपपपपपपपपपप          \n",
            " \n",
            "test_Input word: shuru\n",
            "test_expected word: शुरु\n",
            "test_predicted word: शशशससशशश             \n",
            " \n",
            "test_Input word: dhulne\n",
            "test_expected word: धुलने\n",
            "test_predicted word: दददददद               \n",
            " \n",
            "test_Input word: pachaa\n",
            "test_expected word: पचा\n",
            "test_predicted word: पपपपपपपपपप           \n",
            " \n",
            "test_Input word: paypar\n",
            "test_expected word: पेपर\n",
            "test_predicted word: पपपपपपपपपप           \n",
            " \n",
            "test_Input word: ayaaz\n",
            "test_expected word: अयाज\n",
            "test_predicted word: अअअअअअअ              \n",
            " \n",
            "test_Input word: burfi\n",
            "test_expected word: बर्फी\n",
            "test_predicted word: बबबबबबबबबब           \n",
            " \n",
            "test_Input word: dikhlaata\n",
            "test_expected word: दिखलाता\n",
            "test_predicted word: दददददजजज             \n",
            " \n",
            "test_Input word: lalitaditya\n",
            "test_expected word: ललितादित्य\n",
            "test_predicted word: ललललललललल            \n",
            " \n",
            "test_Input word: gyaarahavin\n",
            "test_expected word: ग्यारहवीं\n",
            "test_predicted word: जजजजजजजजज            \n",
            " \n",
            "test_Input word: darmyan\n",
            "test_expected word: दरम्यान\n",
            "test_predicted word: दददददजजज             \n",
            " \n",
            "test_Input word: nishaana\n",
            "test_expected word: निशाना\n",
            "test_predicted word: ननननननननन            \n",
            " \n",
            "test_Input word: graph\n",
            "test_expected word: ग्रेफ\n",
            "test_predicted word: गगगगगगग              \n",
            " \n",
            "test_Input word: filmy\n",
            "test_expected word: फिल्मी\n",
            "test_predicted word: चचचचचच               \n",
            " \n",
            "test_Input word: prashaasak\n",
            "test_expected word: प्रशासक\n",
            "test_predicted word: पपपपपपपपपपप          \n",
            " \n",
            "test_Input word: hills\n",
            "test_expected word: हिल्स\n",
            "test_predicted word: हहहहहह               \n",
            " \n",
            "test_Input word: shrimadbhagwat\n",
            "test_expected word: श्रीमद्भागवत\n",
            "test_predicted word: सशशशशशशप             \n",
            " \n",
            "test_Input word: pichhola\n",
            "test_expected word: पिछोला\n",
            "test_predicted word: पपपपपपपपपप           \n",
            " \n",
            "test_Input word: kanaad\n",
            "test_expected word: कणाद\n",
            "test_predicted word: कककककककककक           \n",
            " \n",
            "test_Input word: dakshinpanthi\n",
            "test_expected word: दक्षिणपंथी\n",
            "test_predicted word: ददददददजजज            \n",
            " \n",
            "test_Input word: tadnusar\n",
            "test_expected word: तदनुसार\n",
            "test_predicted word: ततततररररर            \n",
            " \n",
            "test_Input word: ichchuk\n",
            "test_expected word: इच्छुक\n",
            "test_predicted word: अअअअअअ               \n",
            " \n",
            "test_Input word: antibody\n",
            "test_expected word: एंटीबॉडी\n",
            "test_predicted word: अअअअअअअ              \n",
            " \n",
            "test_Input word: gorakhe\n",
            "test_expected word: गोरखे\n",
            "test_predicted word: गगगगगजजजज            \n",
            " \n",
            "train_Input word: sanjhedaari\n",
            "train_expected word: सांझेदारी\n",
            "train_predicted word: सससससससससस           \n",
            " \n",
            "train_Input word: udhyapan\n",
            "train_expected word: उद्यापन\n",
            "train_predicted word: अअअअअअ               \n",
            " \n",
            "train_Input word: end\n",
            "train_expected word: ऐंड\n",
            "train_predicted word: अअअअअ                \n",
            " \n",
            "train_Input word: baanaa\n",
            "train_expected word: बाना\n",
            "train_predicted word: बबबबबबबबबब           \n",
            " \n",
            "train_Input word: cheni\n",
            "train_expected word: चेनी\n",
            "train_predicted word: चचचचचजज              \n",
            " \n",
            "train_Input word: express\n",
            "train_expected word: एक्सप्रेस\n",
            "train_predicted word: बबबबबब               \n",
            " \n",
            "train_Input word: dhaarann\n",
            "train_expected word: धारण\n",
            "train_predicted word: ददददद                \n",
            " \n",
            "train_Input word: chalni\n",
            "train_expected word: चलनी\n",
            "train_predicted word: चचचचचकजजज            \n",
            " \n",
            "train_Input word: shahad\n",
            "train_expected word: शहद\n",
            "train_predicted word: शशशशशशशश             \n",
            " \n",
            "train_Input word: lagta\n",
            "train_expected word: लगता\n",
            "train_predicted word: लललललललल             \n",
            " \n",
            "train_Input word: shishe\n",
            "train_expected word: शीशे\n",
            "train_predicted word: शशशशशशशश             \n",
            " \n",
            "train_Input word: jupiter\n",
            "train_expected word: जुपीटर\n",
            "train_predicted word: जजजजजजजजज            \n",
            " \n",
            "train_Input word: mahagauri\n",
            "train_expected word: महागौरी\n",
            "train_predicted word: ममममममममजज           \n",
            " \n",
            "train_Input word: ciling\n",
            "train_expected word: सीलिंग\n",
            "train_predicted word: सससससबबबब            \n",
            " \n",
            "train_Input word: kannad\n",
            "train_expected word: कन्नड़\n",
            "train_predicted word: कककककककककक           \n",
            " \n",
            "train_Input word: antiviral\n",
            "train_expected word: एंटीवायरस\n",
            "train_predicted word: अअअअअअअ              \n",
            " \n",
            "train_Input word: naai\n",
            "train_expected word: नाई\n",
            "train_predicted word: ननननननननन            \n",
            " \n",
            "train_Input word: sameekshak\n",
            "train_expected word: समीक्षक\n",
            "train_predicted word: सससससससससस           \n",
            " \n",
            "train_Input word: manchestor\n",
            "train_expected word: मैनचेस्टर\n",
            "train_predicted word: मममममममममम           \n",
            " \n",
            "train_Input word: voice\n",
            "train_expected word: वॉइस\n",
            "train_predicted word: ववववववववव            \n",
            " \n",
            "train_Input word: syriaee\n",
            "train_expected word: सीरियाई\n",
            "train_predicted word: सससससससससस           \n",
            " \n",
            "train_Input word: aakshep\n",
            "train_expected word: आक्षेप\n",
            "train_predicted word: अअअअअअब              \n",
            " \n",
            "train_Input word: eyarlift\n",
            "train_expected word: एयरलिफ्ट\n",
            "train_predicted word: अअअअअअ               \n",
            " \n",
            "train_Input word: bikri\n",
            "train_expected word: बिक्री\n",
            "train_predicted word: बबबबबबबबबब           \n",
            " \n",
            "train_Input word: prayogtaon\n",
            "train_expected word: प्रयोक्ताओं\n",
            "train_predicted word: पपपपपपपपपपप          \n",
            " \n",
            "train_Input word: patiyali\n",
            "train_expected word: पटियाली\n",
            "train_predicted word: पपपपपपपपपपप          \n",
            " \n",
            "train_Input word: nalkup\n",
            "train_expected word: नलकूप\n",
            "train_predicted word: ननननननननन            \n",
            " \n",
            "train_Input word: jaamaa\n",
            "train_expected word: जामा\n",
            "train_predicted word: जजजजजजजजज            \n",
            " \n",
            "train_Input word: silsila\n",
            "train_expected word: सिलसिला\n",
            "train_predicted word: सससससससससप           \n",
            " \n",
            "train_Input word: pradhaancharya\n",
            "train_expected word: प्रधानाचार्य\n",
            "train_predicted word: पपपपपपपपपपप          \n",
            " \n",
            "train_Input word: pahnaane\n",
            "train_expected word: पहनाने\n",
            "train_predicted word: पपपपपपपपपप           \n",
            " \n"
          ],
          "name": "stdout"
        },
        {
          "output_type": "error",
          "ename": "KeyboardInterrupt",
          "evalue": "ignored",
          "traceback": [
            "\u001b[0;31m---------------------------------------------------------------------------\u001b[0m",
            "\u001b[0;31mKeyboardInterrupt\u001b[0m                         Traceback (most recent call last)",
            "\u001b[0;32m<ipython-input-33-9cbf84bdcab1>\u001b[0m in \u001b[0;36m<module>\u001b[0;34m()\u001b[0m\n\u001b[0;32m----> 1\u001b[0;31m \u001b[0mx\u001b[0m\u001b[0;34m,\u001b[0m\u001b[0my\u001b[0m\u001b[0;34m=\u001b[0m\u001b[0maccuracy_train\u001b[0m\u001b[0;34m(\u001b[0m\u001b[0;34m)\u001b[0m\u001b[0;34m\u001b[0m\u001b[0;34m\u001b[0m\u001b[0m\n\u001b[0m",
            "\u001b[0;32m<ipython-input-32-00c15818e886>\u001b[0m in \u001b[0;36maccuracy_train\u001b[0;34m()\u001b[0m\n\u001b[1;32m     20\u001b[0m     \u001b[0;31m# for trying out decoding.\u001b[0m\u001b[0;34m\u001b[0m\u001b[0;34m\u001b[0m\u001b[0;34m\u001b[0m\u001b[0m\n\u001b[1;32m     21\u001b[0m     \u001b[0minput_seq\u001b[0m \u001b[0;34m=\u001b[0m \u001b[0mencoder_input_data\u001b[0m\u001b[0;34m[\u001b[0m\u001b[0mseq_index\u001b[0m \u001b[0;34m:\u001b[0m \u001b[0mseq_index\u001b[0m \u001b[0;34m+\u001b[0m \u001b[0;36m1\u001b[0m\u001b[0;34m]\u001b[0m\u001b[0;34m\u001b[0m\u001b[0;34m\u001b[0m\u001b[0m\n\u001b[0;32m---> 22\u001b[0;31m     \u001b[0mdecoded_sentence\u001b[0m \u001b[0;34m=\u001b[0m \u001b[0mdecode_sequence\u001b[0m\u001b[0;34m(\u001b[0m\u001b[0minput_seq\u001b[0m\u001b[0;34m)\u001b[0m\u001b[0;34m\u001b[0m\u001b[0;34m\u001b[0m\u001b[0m\n\u001b[0m\u001b[1;32m     23\u001b[0m     \u001b[0;32mif\u001b[0m\u001b[0;34m(\u001b[0m\u001b[0mdecoded_sentence\u001b[0m\u001b[0;34m[\u001b[0m\u001b[0;36m0\u001b[0m\u001b[0;34m:\u001b[0m\u001b[0;34m-\u001b[0m\u001b[0;36m1\u001b[0m\u001b[0;34m]\u001b[0m\u001b[0;34m==\u001b[0m\u001b[0my_train\u001b[0m\u001b[0;34m[\u001b[0m\u001b[0mseq_index\u001b[0m\u001b[0;34m]\u001b[0m\u001b[0;34m[\u001b[0m\u001b[0;36m1\u001b[0m\u001b[0;34m:\u001b[0m\u001b[0;34m-\u001b[0m\u001b[0;36m1\u001b[0m\u001b[0;34m]\u001b[0m\u001b[0;34m)\u001b[0m\u001b[0;34m:\u001b[0m\u001b[0;34m\u001b[0m\u001b[0;34m\u001b[0m\u001b[0m\n\u001b[1;32m     24\u001b[0m       \u001b[0mcount_train\u001b[0m\u001b[0;34m=\u001b[0m\u001b[0mcount_train\u001b[0m\u001b[0;34m+\u001b[0m\u001b[0;36m1\u001b[0m\u001b[0;34m\u001b[0m\u001b[0;34m\u001b[0m\u001b[0m\n",
            "\u001b[0;32m<ipython-input-29-bed26657b7a9>\u001b[0m in \u001b[0;36mdecode_sequence\u001b[0;34m(input_seq)\u001b[0m\n\u001b[1;32m     13\u001b[0m     \u001b[0mdecoded_sentence\u001b[0m \u001b[0;34m=\u001b[0m \u001b[0;34m\"\"\u001b[0m\u001b[0;34m\u001b[0m\u001b[0;34m\u001b[0m\u001b[0m\n\u001b[1;32m     14\u001b[0m     \u001b[0;32mwhile\u001b[0m \u001b[0;32mnot\u001b[0m \u001b[0mstop_condition\u001b[0m\u001b[0;34m:\u001b[0m\u001b[0;34m\u001b[0m\u001b[0;34m\u001b[0m\u001b[0m\n\u001b[0;32m---> 15\u001b[0;31m         \u001b[0mreturned\u001b[0m \u001b[0;34m=\u001b[0m \u001b[0mdecoder_model\u001b[0m\u001b[0;34m.\u001b[0m\u001b[0mpredict\u001b[0m\u001b[0;34m(\u001b[0m\u001b[0;34m[\u001b[0m\u001b[0mtarget_seq\u001b[0m\u001b[0;34m]\u001b[0m \u001b[0;34m+\u001b[0m \u001b[0mstates_value\u001b[0m\u001b[0;34m)\u001b[0m\u001b[0;34m\u001b[0m\u001b[0;34m\u001b[0m\u001b[0m\n\u001b[0m\u001b[1;32m     16\u001b[0m         \u001b[0moutput_tokens\u001b[0m \u001b[0;34m=\u001b[0m \u001b[0mreturned\u001b[0m\u001b[0;34m[\u001b[0m\u001b[0;36m0\u001b[0m\u001b[0;34m]\u001b[0m\u001b[0;34m\u001b[0m\u001b[0;34m\u001b[0m\u001b[0m\n\u001b[1;32m     17\u001b[0m         \u001b[0mstates_value\u001b[0m \u001b[0;34m=\u001b[0m \u001b[0mreturned\u001b[0m\u001b[0;34m[\u001b[0m\u001b[0;36m1\u001b[0m\u001b[0;34m:\u001b[0m\u001b[0;34m]\u001b[0m\u001b[0;34m\u001b[0m\u001b[0;34m\u001b[0m\u001b[0m\n",
            "\u001b[0;32m/usr/local/lib/python3.7/dist-packages/keras/engine/training.py\u001b[0m in \u001b[0;36mpredict\u001b[0;34m(self, x, batch_size, verbose, steps, callbacks, max_queue_size, workers, use_multiprocessing)\u001b[0m\n\u001b[1;32m   1700\u001b[0m           \u001b[0;32mfor\u001b[0m \u001b[0mstep\u001b[0m \u001b[0;32min\u001b[0m \u001b[0mdata_handler\u001b[0m\u001b[0;34m.\u001b[0m\u001b[0msteps\u001b[0m\u001b[0;34m(\u001b[0m\u001b[0;34m)\u001b[0m\u001b[0;34m:\u001b[0m\u001b[0;34m\u001b[0m\u001b[0;34m\u001b[0m\u001b[0m\n\u001b[1;32m   1701\u001b[0m             \u001b[0mcallbacks\u001b[0m\u001b[0;34m.\u001b[0m\u001b[0mon_predict_batch_begin\u001b[0m\u001b[0;34m(\u001b[0m\u001b[0mstep\u001b[0m\u001b[0;34m)\u001b[0m\u001b[0;34m\u001b[0m\u001b[0;34m\u001b[0m\u001b[0m\n\u001b[0;32m-> 1702\u001b[0;31m             \u001b[0mtmp_batch_outputs\u001b[0m \u001b[0;34m=\u001b[0m \u001b[0mself\u001b[0m\u001b[0;34m.\u001b[0m\u001b[0mpredict_function\u001b[0m\u001b[0;34m(\u001b[0m\u001b[0miterator\u001b[0m\u001b[0;34m)\u001b[0m\u001b[0;34m\u001b[0m\u001b[0;34m\u001b[0m\u001b[0m\n\u001b[0m\u001b[1;32m   1703\u001b[0m             \u001b[0;32mif\u001b[0m \u001b[0mdata_handler\u001b[0m\u001b[0;34m.\u001b[0m\u001b[0mshould_sync\u001b[0m\u001b[0;34m:\u001b[0m\u001b[0;34m\u001b[0m\u001b[0;34m\u001b[0m\u001b[0m\n\u001b[1;32m   1704\u001b[0m               \u001b[0mcontext\u001b[0m\u001b[0;34m.\u001b[0m\u001b[0masync_wait\u001b[0m\u001b[0;34m(\u001b[0m\u001b[0;34m)\u001b[0m\u001b[0;34m\u001b[0m\u001b[0;34m\u001b[0m\u001b[0m\n",
            "\u001b[0;32m/usr/local/lib/python3.7/dist-packages/tensorflow/python/eager/def_function.py\u001b[0m in \u001b[0;36m__call__\u001b[0;34m(self, *args, **kwds)\u001b[0m\n\u001b[1;32m    887\u001b[0m \u001b[0;34m\u001b[0m\u001b[0m\n\u001b[1;32m    888\u001b[0m       \u001b[0;32mwith\u001b[0m \u001b[0mOptionalXlaContext\u001b[0m\u001b[0;34m(\u001b[0m\u001b[0mself\u001b[0m\u001b[0;34m.\u001b[0m\u001b[0m_jit_compile\u001b[0m\u001b[0;34m)\u001b[0m\u001b[0;34m:\u001b[0m\u001b[0;34m\u001b[0m\u001b[0;34m\u001b[0m\u001b[0m\n\u001b[0;32m--> 889\u001b[0;31m         \u001b[0mresult\u001b[0m \u001b[0;34m=\u001b[0m \u001b[0mself\u001b[0m\u001b[0;34m.\u001b[0m\u001b[0m_call\u001b[0m\u001b[0;34m(\u001b[0m\u001b[0;34m*\u001b[0m\u001b[0margs\u001b[0m\u001b[0;34m,\u001b[0m \u001b[0;34m**\u001b[0m\u001b[0mkwds\u001b[0m\u001b[0;34m)\u001b[0m\u001b[0;34m\u001b[0m\u001b[0;34m\u001b[0m\u001b[0m\n\u001b[0m\u001b[1;32m    890\u001b[0m \u001b[0;34m\u001b[0m\u001b[0m\n\u001b[1;32m    891\u001b[0m       \u001b[0mnew_tracing_count\u001b[0m \u001b[0;34m=\u001b[0m \u001b[0mself\u001b[0m\u001b[0;34m.\u001b[0m\u001b[0mexperimental_get_tracing_count\u001b[0m\u001b[0;34m(\u001b[0m\u001b[0;34m)\u001b[0m\u001b[0;34m\u001b[0m\u001b[0;34m\u001b[0m\u001b[0m\n",
            "\u001b[0;32m/usr/local/lib/python3.7/dist-packages/tensorflow/python/eager/def_function.py\u001b[0m in \u001b[0;36m_call\u001b[0;34m(self, *args, **kwds)\u001b[0m\n\u001b[1;32m    922\u001b[0m       \u001b[0;31m# In this case we have not created variables on the first call. So we can\u001b[0m\u001b[0;34m\u001b[0m\u001b[0;34m\u001b[0m\u001b[0;34m\u001b[0m\u001b[0m\n\u001b[1;32m    923\u001b[0m       \u001b[0;31m# run the first trace but we should fail if variables are created.\u001b[0m\u001b[0;34m\u001b[0m\u001b[0;34m\u001b[0m\u001b[0;34m\u001b[0m\u001b[0m\n\u001b[0;32m--> 924\u001b[0;31m       \u001b[0mresults\u001b[0m \u001b[0;34m=\u001b[0m \u001b[0mself\u001b[0m\u001b[0;34m.\u001b[0m\u001b[0m_stateful_fn\u001b[0m\u001b[0;34m(\u001b[0m\u001b[0;34m*\u001b[0m\u001b[0margs\u001b[0m\u001b[0;34m,\u001b[0m \u001b[0;34m**\u001b[0m\u001b[0mkwds\u001b[0m\u001b[0;34m)\u001b[0m\u001b[0;34m\u001b[0m\u001b[0;34m\u001b[0m\u001b[0m\n\u001b[0m\u001b[1;32m    925\u001b[0m       \u001b[0;32mif\u001b[0m \u001b[0mself\u001b[0m\u001b[0;34m.\u001b[0m\u001b[0m_created_variables\u001b[0m\u001b[0;34m:\u001b[0m\u001b[0;34m\u001b[0m\u001b[0;34m\u001b[0m\u001b[0m\n\u001b[1;32m    926\u001b[0m         raise ValueError(\"Creating variables on a non-first call to a function\"\n",
            "\u001b[0;32m/usr/local/lib/python3.7/dist-packages/tensorflow/python/eager/function.py\u001b[0m in \u001b[0;36m__call__\u001b[0;34m(self, *args, **kwargs)\u001b[0m\n\u001b[1;32m   3022\u001b[0m        filtered_flat_args) = self._maybe_define_function(args, kwargs)\n\u001b[1;32m   3023\u001b[0m     return graph_function._call_flat(\n\u001b[0;32m-> 3024\u001b[0;31m         filtered_flat_args, captured_inputs=graph_function.captured_inputs)  # pylint: disable=protected-access\n\u001b[0m\u001b[1;32m   3025\u001b[0m \u001b[0;34m\u001b[0m\u001b[0m\n\u001b[1;32m   3026\u001b[0m   \u001b[0;34m@\u001b[0m\u001b[0mproperty\u001b[0m\u001b[0;34m\u001b[0m\u001b[0;34m\u001b[0m\u001b[0m\n",
            "\u001b[0;32m/usr/local/lib/python3.7/dist-packages/tensorflow/python/eager/function.py\u001b[0m in \u001b[0;36m_call_flat\u001b[0;34m(self, args, captured_inputs, cancellation_manager)\u001b[0m\n\u001b[1;32m   1959\u001b[0m       \u001b[0;31m# No tape is watching; skip to running the function.\u001b[0m\u001b[0;34m\u001b[0m\u001b[0;34m\u001b[0m\u001b[0;34m\u001b[0m\u001b[0m\n\u001b[1;32m   1960\u001b[0m       return self._build_call_outputs(self._inference_function.call(\n\u001b[0;32m-> 1961\u001b[0;31m           ctx, args, cancellation_manager=cancellation_manager))\n\u001b[0m\u001b[1;32m   1962\u001b[0m     forward_backward = self._select_forward_and_backward_functions(\n\u001b[1;32m   1963\u001b[0m         \u001b[0margs\u001b[0m\u001b[0;34m,\u001b[0m\u001b[0;34m\u001b[0m\u001b[0;34m\u001b[0m\u001b[0m\n",
            "\u001b[0;32m/usr/local/lib/python3.7/dist-packages/tensorflow/python/eager/function.py\u001b[0m in \u001b[0;36mcall\u001b[0;34m(self, ctx, args, cancellation_manager)\u001b[0m\n\u001b[1;32m    594\u001b[0m               \u001b[0minputs\u001b[0m\u001b[0;34m=\u001b[0m\u001b[0margs\u001b[0m\u001b[0;34m,\u001b[0m\u001b[0;34m\u001b[0m\u001b[0;34m\u001b[0m\u001b[0m\n\u001b[1;32m    595\u001b[0m               \u001b[0mattrs\u001b[0m\u001b[0;34m=\u001b[0m\u001b[0mattrs\u001b[0m\u001b[0;34m,\u001b[0m\u001b[0;34m\u001b[0m\u001b[0;34m\u001b[0m\u001b[0m\n\u001b[0;32m--> 596\u001b[0;31m               ctx=ctx)\n\u001b[0m\u001b[1;32m    597\u001b[0m         \u001b[0;32melse\u001b[0m\u001b[0;34m:\u001b[0m\u001b[0;34m\u001b[0m\u001b[0;34m\u001b[0m\u001b[0m\n\u001b[1;32m    598\u001b[0m           outputs = execute.execute_with_cancellation(\n",
            "\u001b[0;32m/usr/local/lib/python3.7/dist-packages/tensorflow/python/eager/execute.py\u001b[0m in \u001b[0;36mquick_execute\u001b[0;34m(op_name, num_outputs, inputs, attrs, ctx, name)\u001b[0m\n\u001b[1;32m     58\u001b[0m     \u001b[0mctx\u001b[0m\u001b[0;34m.\u001b[0m\u001b[0mensure_initialized\u001b[0m\u001b[0;34m(\u001b[0m\u001b[0;34m)\u001b[0m\u001b[0;34m\u001b[0m\u001b[0;34m\u001b[0m\u001b[0m\n\u001b[1;32m     59\u001b[0m     tensors = pywrap_tfe.TFE_Py_Execute(ctx._handle, device_name, op_name,\n\u001b[0;32m---> 60\u001b[0;31m                                         inputs, attrs, num_outputs)\n\u001b[0m\u001b[1;32m     61\u001b[0m   \u001b[0;32mexcept\u001b[0m \u001b[0mcore\u001b[0m\u001b[0;34m.\u001b[0m\u001b[0m_NotOkStatusException\u001b[0m \u001b[0;32mas\u001b[0m \u001b[0me\u001b[0m\u001b[0;34m:\u001b[0m\u001b[0;34m\u001b[0m\u001b[0;34m\u001b[0m\u001b[0m\n\u001b[1;32m     62\u001b[0m     \u001b[0;32mif\u001b[0m \u001b[0mname\u001b[0m \u001b[0;32mis\u001b[0m \u001b[0;32mnot\u001b[0m \u001b[0;32mNone\u001b[0m\u001b[0;34m:\u001b[0m\u001b[0;34m\u001b[0m\u001b[0;34m\u001b[0m\u001b[0m\n",
            "\u001b[0;31mKeyboardInterrupt\u001b[0m: "
          ]
        }
      ]
    },
    {
      "cell_type": "code",
      "metadata": {
        "id": "TgEx9c0OrzRw"
      },
      "source": [
        ""
      ],
      "execution_count": null,
      "outputs": []
    }
  ]
}