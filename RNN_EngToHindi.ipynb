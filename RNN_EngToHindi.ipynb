{
  "nbformat": 4,
  "nbformat_minor": 0,
  "metadata": {
    "colab": {
      "name": "Untitled0.ipynb",
      "provenance": [],
      "collapsed_sections": []
    },
    "kernelspec": {
      "name": "python3",
      "display_name": "Python 3"
    }
  },
  "cells": [
    {
      "cell_type": "code",
      "metadata": {
        "id": "GEOCrRZfUgB2"
      },
      "source": [
        "import pandas as pd\n",
        "import numpy as np\n"
      ],
      "execution_count": 1,
      "outputs": []
    },
    {
      "cell_type": "code",
      "metadata": {
        "id": "cSSsm3szUjbp"
      },
      "source": [
        "from google.colab import drive\n",
        "drive.mount('/content/drive')"
      ],
      "execution_count": null,
      "outputs": []
    },
    {
      "cell_type": "code",
      "metadata": {
        "id": "wEpgUGP-MPLx"
      },
      "source": [
        ""
      ],
      "execution_count": null,
      "outputs": []
    },
    {
      "cell_type": "code",
      "metadata": {
        "id": "i3iOpC6z_ljZ"
      },
      "source": [
        "data = pd.read_csv (\"/content/drive/MyDrive/DLassignment3/hi.translit.sampled.train.tsv\", sep = '\\t')"
      ],
      "execution_count": null,
      "outputs": []
    },
    {
      "cell_type": "code",
      "metadata": {
        "id": "4_ZiFFts6Lpi"
      },
      "source": [
        "data.rename(columns = {'अं' : 'Hindi', 'an' : 'English'}, inplace = True)\n"
      ],
      "execution_count": null,
      "outputs": []
    },
    {
      "cell_type": "code",
      "metadata": {
        "id": "-3CzVoypBZRk",
        "colab": {
          "base_uri": "https://localhost:8080/",
          "height": 399
        },
        "outputId": "100c2c17-3d02-482f-c033-5e92a48b9f6c"
      },
      "source": [
        "data"
      ],
      "execution_count": null,
      "outputs": [
        {
          "output_type": "execute_result",
          "data": {
            "text/html": [
              "<div>\n",
              "<style scoped>\n",
              "    .dataframe tbody tr th:only-of-type {\n",
              "        vertical-align: middle;\n",
              "    }\n",
              "\n",
              "    .dataframe tbody tr th {\n",
              "        vertical-align: top;\n",
              "    }\n",
              "\n",
              "    .dataframe thead th {\n",
              "        text-align: right;\n",
              "    }\n",
              "</style>\n",
              "<table border=\"1\" class=\"dataframe\">\n",
              "  <thead>\n",
              "    <tr style=\"text-align: right;\">\n",
              "      <th></th>\n",
              "      <th>Hindi</th>\n",
              "      <th>English</th>\n",
              "      <th>3</th>\n",
              "    </tr>\n",
              "  </thead>\n",
              "  <tbody>\n",
              "    <tr>\n",
              "      <th>0</th>\n",
              "      <td>अंकगणित</td>\n",
              "      <td>ankganit</td>\n",
              "      <td>3</td>\n",
              "    </tr>\n",
              "    <tr>\n",
              "      <th>1</th>\n",
              "      <td>अंकल</td>\n",
              "      <td>uncle</td>\n",
              "      <td>4</td>\n",
              "    </tr>\n",
              "    <tr>\n",
              "      <th>2</th>\n",
              "      <td>अंकुर</td>\n",
              "      <td>ankur</td>\n",
              "      <td>4</td>\n",
              "    </tr>\n",
              "    <tr>\n",
              "      <th>3</th>\n",
              "      <td>अंकुरण</td>\n",
              "      <td>ankuran</td>\n",
              "      <td>3</td>\n",
              "    </tr>\n",
              "    <tr>\n",
              "      <th>4</th>\n",
              "      <td>अंकुरित</td>\n",
              "      <td>ankurit</td>\n",
              "      <td>3</td>\n",
              "    </tr>\n",
              "    <tr>\n",
              "      <th>...</th>\n",
              "      <td>...</td>\n",
              "      <td>...</td>\n",
              "      <td>...</td>\n",
              "    </tr>\n",
              "    <tr>\n",
              "      <th>44198</th>\n",
              "      <td>ह्वेनसांग</td>\n",
              "      <td>hiuentsang</td>\n",
              "      <td>1</td>\n",
              "    </tr>\n",
              "    <tr>\n",
              "      <th>44199</th>\n",
              "      <td>ह्वेनसांग</td>\n",
              "      <td>hsuantsang</td>\n",
              "      <td>1</td>\n",
              "    </tr>\n",
              "    <tr>\n",
              "      <th>44200</th>\n",
              "      <td>ह्वेनसांग</td>\n",
              "      <td>hyensang</td>\n",
              "      <td>1</td>\n",
              "    </tr>\n",
              "    <tr>\n",
              "      <th>44201</th>\n",
              "      <td>ह्वेनसांग</td>\n",
              "      <td>xuanzang</td>\n",
              "      <td>1</td>\n",
              "    </tr>\n",
              "    <tr>\n",
              "      <th>44202</th>\n",
              "      <td>ॐ</td>\n",
              "      <td>om</td>\n",
              "      <td>3</td>\n",
              "    </tr>\n",
              "  </tbody>\n",
              "</table>\n",
              "<p>44203 rows × 3 columns</p>\n",
              "</div>"
            ],
            "text/plain": [
              "           Hindi     English  3\n",
              "0        अंकगणित    ankganit  3\n",
              "1           अंकल       uncle  4\n",
              "2          अंकुर       ankur  4\n",
              "3         अंकुरण     ankuran  3\n",
              "4        अंकुरित     ankurit  3\n",
              "...          ...         ... ..\n",
              "44198  ह्वेनसांग  hiuentsang  1\n",
              "44199  ह्वेनसांग  hsuantsang  1\n",
              "44200  ह्वेनसांग    hyensang  1\n",
              "44201  ह्वेनसांग    xuanzang  1\n",
              "44202          ॐ          om  3\n",
              "\n",
              "[44203 rows x 3 columns]"
            ]
          },
          "metadata": {
            "tags": []
          },
          "execution_count": 6
        }
      ]
    },
    {
      "cell_type": "code",
      "metadata": {
        "id": "TBRyzG3rwBTj"
      },
      "source": [
        "input_texts=data['English']\n",
        "target_texts=data['Hindi']"
      ],
      "execution_count": null,
      "outputs": []
    },
    {
      "cell_type": "code",
      "metadata": {
        "id": "DpAcJjH51pyP"
      },
      "source": [
        "input_texts=list(input_texts)"
      ],
      "execution_count": null,
      "outputs": []
    },
    {
      "cell_type": "code",
      "metadata": {
        "id": "10gA73iR1uRN"
      },
      "source": [
        "target_texts=list(target_texts)"
      ],
      "execution_count": null,
      "outputs": []
    },
    {
      "cell_type": "code",
      "metadata": {
        "id": "jjAQv2qSxABU"
      },
      "source": [
        "input_chars=set()\n",
        "target_chars = set()"
      ],
      "execution_count": null,
      "outputs": []
    },
    {
      "cell_type": "code",
      "metadata": {
        "id": "y5PVlTHGwR6D",
        "colab": {
          "base_uri": "https://localhost:8080/"
        },
        "outputId": "32c8695b-176c-45e7-9010-1a31f36964eb"
      },
      "source": [
        "i=0\n",
        "for input_text in input_texts:\n",
        "  #print(input_text)\n",
        "  try:\n",
        "    for char in input_text:\n",
        "      if char not in input_chars:\n",
        "        input_chars.add(char)\n",
        "  except:\n",
        "    print(\"********************************************************************************************************************************\")\n",
        "    input_texts.remove(input_text)\n",
        "    target_texts.remove(target_texts[i])\n",
        "  i=i+1;"
      ],
      "execution_count": null,
      "outputs": [
        {
          "output_type": "stream",
          "text": [
            "********************************************************************************************************************************\n",
            "********************************************************************************************************************************\n"
          ],
          "name": "stdout"
        }
      ]
    },
    {
      "cell_type": "code",
      "metadata": {
        "id": "bhWgXwwSyvBl"
      },
      "source": [
        "len(input_chars)"
      ],
      "execution_count": null,
      "outputs": []
    },
    {
      "cell_type": "code",
      "metadata": {
        "id": "VetMzmHAMZNX"
      },
      "source": [
        ""
      ],
      "execution_count": null,
      "outputs": []
    },
    {
      "cell_type": "code",
      "metadata": {
        "id": "G-dNFbHGyuMn"
      },
      "source": [
        "for input_text in target_texts:\n",
        "  #print(input_text)\n",
        "  try:\n",
        "    for char in input_text:\n",
        "      if char not in target_chars:\n",
        "        target_chars.add(char)\n",
        "  except:print(input_text)"
      ],
      "execution_count": null,
      "outputs": []
    },
    {
      "cell_type": "code",
      "metadata": {
        "id": "-y8o0Saq0ZLU"
      },
      "source": [
        "input_chars = sorted(list(input_chars))\n",
        "target_chars = sorted(list(target_chars))"
      ],
      "execution_count": null,
      "outputs": []
    },
    {
      "cell_type": "code",
      "metadata": {
        "id": "vXzyTrb_0kxM"
      },
      "source": [
        "num_encoder_tokens = len(input_chars)+1\n",
        "num_decoder_tokens = len(target_chars)+1"
      ],
      "execution_count": null,
      "outputs": []
    },
    {
      "cell_type": "code",
      "metadata": {
        "id": "b04PCNPz0ktx"
      },
      "source": [
        "max_encoder_seq_length = max([len(txt) for txt in input_texts])\n",
        "max_decoder_seq_length = max([len(txt) for txt in target_texts])"
      ],
      "execution_count": null,
      "outputs": []
    },
    {
      "cell_type": "code",
      "metadata": {
        "id": "Jg0Q3eIb0kju"
      },
      "source": [
        "input_token_id = dict([(char, i+1) for i, char in enumerate(input_chars)])\n",
        "target_token_id = dict([(char, i+1) for i, char in enumerate(target_chars)])\n"
      ],
      "execution_count": null,
      "outputs": []
    },
    {
      "cell_type": "code",
      "metadata": {
        "id": "QSl8JQaF_h1F"
      },
      "source": [
        "input_token_id['_']=0"
      ],
      "execution_count": null,
      "outputs": []
    },
    {
      "cell_type": "code",
      "metadata": {
        "id": "Sm2Fy18-IKoC"
      },
      "source": [
        "target_token_id['_']=0"
      ],
      "execution_count": null,
      "outputs": []
    },
    {
      "cell_type": "code",
      "metadata": {
        "id": "amH8iOS-_seG"
      },
      "source": [
        "target_token_id"
      ],
      "execution_count": null,
      "outputs": []
    },
    {
      "cell_type": "code",
      "metadata": {
        "id": "cVGNjaNh45sY"
      },
      "source": [
        "\n",
        "encoder_in_data = np.zeros((len(input_texts), max_encoder_seq_length), dtype='float32')\n",
        "\n",
        "decoder_in_data = np.zeros((len(input_texts), max_decoder_seq_length), dtype='float32')\n",
        "\n",
        "decoder_target_data = np.zeros((len(input_texts), max_decoder_seq_length), dtype='float32')\n"
      ],
      "execution_count": null,
      "outputs": []
    },
    {
      "cell_type": "code",
      "metadata": {
        "id": "51OTEXvF5RFl"
      },
      "source": [
        "for i, (input_text, target_text) in enumerate(zip(input_texts, target_texts)):\n",
        "    for t, char in enumerate(input_text):\n",
        "        encoder_in_data[i, t ] = input_token_id[char]\n",
        "    for t, char in enumerate(target_text):\n",
        "        decoder_in_data[i, t] = target_token_id[char]\n",
        "        if t > 0:\n",
        "            decoder_target_data[i, t - 1] =target_token_id[char]"
      ],
      "execution_count": null,
      "outputs": []
    },
    {
      "cell_type": "code",
      "metadata": {
        "colab": {
          "base_uri": "https://localhost:8080/"
        },
        "id": "sqWAgt0W7uM_",
        "outputId": "e72e2f04-00f0-4e95-89c1-0cb8ab745f2d"
      },
      "source": [
        "#Model data Shape\n",
        "print(\"encoder_in_data shape:\",encoder_in_data.shape)\n",
        "print(\"decoder_in_data shape:\",decoder_in_data.shape)\n",
        "print(\"decoder_target_data shape:\",decoder_target_data.shape)"
      ],
      "execution_count": null,
      "outputs": [
        {
          "output_type": "stream",
          "text": [
            "encoder_in_data shape: (44201, 20)\n",
            "decoder_in_data shape: (44201, 19)\n",
            "decoder_target_data shape: (44201, 19)\n"
          ],
          "name": "stdout"
        }
      ]
    },
    {
      "cell_type": "code",
      "metadata": {
        "id": "yrrMLe879oGB"
      },
      "source": [
        "encoder_in_data=encoder_in_data.astype(int)\n",
        "decoder_in_data=decoder_in_data.astype(int)\n",
        "decoder_target_data=decoder_target_data.astype(int)"
      ],
      "execution_count": null,
      "outputs": []
    },
    {
      "cell_type": "code",
      "metadata": {
        "id": "OSoAeQyF53_1",
        "colab": {
          "base_uri": "https://localhost:8080/",
          "height": 36
        },
        "outputId": "50ba1960-716f-4e73-ca77-ed73fd56f3a2"
      },
      "source": [
        "input_texts[0]"
      ],
      "execution_count": null,
      "outputs": [
        {
          "output_type": "execute_result",
          "data": {
            "application/vnd.google.colaboratory.intrinsic+json": {
              "type": "string"
            },
            "text/plain": [
              "'ankganit'"
            ]
          },
          "metadata": {
            "tags": []
          },
          "execution_count": 51
        }
      ]
    }
  ]
}