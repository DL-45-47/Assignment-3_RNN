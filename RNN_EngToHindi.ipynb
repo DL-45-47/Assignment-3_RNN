{
  "nbformat": 4,
  "nbformat_minor": 0,
  "metadata": {
    "colab": {
      "name": "A3Q2.ipynb",
      "provenance": [],
      "collapsed_sections": []
    },
    "kernelspec": {
      "name": "python3",
      "display_name": "Python 3"
    },
    "language_info": {
      "name": "python"
    }
  },
  "cells": [
    {
      "cell_type": "code",
      "metadata": {
        "colab": {
          "base_uri": "https://localhost:8080/"
        },
        "id": "XGUzAjIutrIq",
        "outputId": "8ed86359-e6b0-4af8-e93c-3d35a316d481"
      },
      "source": [
        "  ! pip install wandb"
      ],
      "execution_count": 1,
      "outputs": [
        {
          "output_type": "stream",
          "text": [
            "Collecting wandb\n",
            "\u001b[?25l  Downloading https://files.pythonhosted.org/packages/98/5f/45439b4767334b868e1c8c35b1b0ba3747d8c21be77b79f09eed7aa3c72b/wandb-0.10.30-py2.py3-none-any.whl (1.8MB)\n",
            "\u001b[K     |████████████████████████████████| 1.8MB 2.9MB/s \n",
            "\u001b[?25hRequirement already satisfied: psutil>=5.0.0 in /usr/local/lib/python3.7/dist-packages (from wandb) (5.4.8)\n",
            "Requirement already satisfied: Click>=7.0 in /usr/local/lib/python3.7/dist-packages (from wandb) (7.1.2)\n",
            "Requirement already satisfied: requests<3,>=2.0.0 in /usr/local/lib/python3.7/dist-packages (from wandb) (2.23.0)\n",
            "Requirement already satisfied: six>=1.13.0 in /usr/local/lib/python3.7/dist-packages (from wandb) (1.15.0)\n",
            "Collecting pathtools\n",
            "  Downloading https://files.pythonhosted.org/packages/e7/7f/470d6fcdf23f9f3518f6b0b76be9df16dcc8630ad409947f8be2eb0ed13a/pathtools-0.1.2.tar.gz\n",
            "Requirement already satisfied: python-dateutil>=2.6.1 in /usr/local/lib/python3.7/dist-packages (from wandb) (2.8.1)\n",
            "Collecting sentry-sdk>=0.4.0\n",
            "\u001b[?25l  Downloading https://files.pythonhosted.org/packages/1c/4a/a54b254f67d8f4052338d54ebe90126f200693440a93ef76d254d581e3ec/sentry_sdk-1.1.0-py2.py3-none-any.whl (131kB)\n",
            "\u001b[K     |████████████████████████████████| 133kB 46.5MB/s \n",
            "\u001b[?25hCollecting docker-pycreds>=0.4.0\n",
            "  Downloading https://files.pythonhosted.org/packages/f5/e8/f6bd1eee09314e7e6dee49cbe2c5e22314ccdb38db16c9fc72d2fa80d054/docker_pycreds-0.4.0-py2.py3-none-any.whl\n",
            "Requirement already satisfied: promise<3,>=2.0 in /usr/local/lib/python3.7/dist-packages (from wandb) (2.3)\n",
            "Collecting shortuuid>=0.5.0\n",
            "  Downloading https://files.pythonhosted.org/packages/25/a6/2ecc1daa6a304e7f1b216f0896b26156b78e7c38e1211e9b798b4716c53d/shortuuid-1.0.1-py3-none-any.whl\n",
            "Collecting GitPython>=1.0.0\n",
            "\u001b[?25l  Downloading https://files.pythonhosted.org/packages/27/da/6f6224fdfc47dab57881fe20c0d1bc3122be290198ba0bf26a953a045d92/GitPython-3.1.17-py3-none-any.whl (166kB)\n",
            "\u001b[K     |████████████████████████████████| 174kB 33.6MB/s \n",
            "\u001b[?25hRequirement already satisfied: protobuf>=3.12.0 in /usr/local/lib/python3.7/dist-packages (from wandb) (3.12.4)\n",
            "Collecting subprocess32>=3.5.3\n",
            "\u001b[?25l  Downloading https://files.pythonhosted.org/packages/32/c8/564be4d12629b912ea431f1a50eb8b3b9d00f1a0b1ceff17f266be190007/subprocess32-3.5.4.tar.gz (97kB)\n",
            "\u001b[K     |████████████████████████████████| 102kB 11.5MB/s \n",
            "\u001b[?25hRequirement already satisfied: PyYAML in /usr/local/lib/python3.7/dist-packages (from wandb) (3.13)\n",
            "Collecting configparser>=3.8.1\n",
            "  Downloading https://files.pythonhosted.org/packages/fd/01/ff260a18caaf4457eb028c96eeb405c4a230ca06c8ec9c1379f813caa52e/configparser-5.0.2-py3-none-any.whl\n",
            "Requirement already satisfied: chardet<4,>=3.0.2 in /usr/local/lib/python3.7/dist-packages (from requests<3,>=2.0.0->wandb) (3.0.4)\n",
            "Requirement already satisfied: idna<3,>=2.5 in /usr/local/lib/python3.7/dist-packages (from requests<3,>=2.0.0->wandb) (2.10)\n",
            "Requirement already satisfied: certifi>=2017.4.17 in /usr/local/lib/python3.7/dist-packages (from requests<3,>=2.0.0->wandb) (2020.12.5)\n",
            "Requirement already satisfied: urllib3!=1.25.0,!=1.25.1,<1.26,>=1.21.1 in /usr/local/lib/python3.7/dist-packages (from requests<3,>=2.0.0->wandb) (1.24.3)\n",
            "Requirement already satisfied: typing-extensions>=3.7.4.0; python_version < \"3.8\" in /usr/local/lib/python3.7/dist-packages (from GitPython>=1.0.0->wandb) (3.7.4.3)\n",
            "Collecting gitdb<5,>=4.0.1\n",
            "\u001b[?25l  Downloading https://files.pythonhosted.org/packages/ea/e8/f414d1a4f0bbc668ed441f74f44c116d9816833a48bf81d22b697090dba8/gitdb-4.0.7-py3-none-any.whl (63kB)\n",
            "\u001b[K     |████████████████████████████████| 71kB 5.8MB/s \n",
            "\u001b[?25hRequirement already satisfied: setuptools in /usr/local/lib/python3.7/dist-packages (from protobuf>=3.12.0->wandb) (56.1.0)\n",
            "Collecting smmap<5,>=3.0.1\n",
            "  Downloading https://files.pythonhosted.org/packages/68/ee/d540eb5e5996eb81c26ceffac6ee49041d473bc5125f2aa995cf51ec1cf1/smmap-4.0.0-py2.py3-none-any.whl\n",
            "Building wheels for collected packages: pathtools, subprocess32\n",
            "  Building wheel for pathtools (setup.py) ... \u001b[?25l\u001b[?25hdone\n",
            "  Created wheel for pathtools: filename=pathtools-0.1.2-cp37-none-any.whl size=8786 sha256=02b43e16d7419c5c66ff1610df656e193ec6a1d965ffc4cf55449d5bd1e2ccb8\n",
            "  Stored in directory: /root/.cache/pip/wheels/0b/04/79/c3b0c3a0266a3cb4376da31e5bfe8bba0c489246968a68e843\n",
            "  Building wheel for subprocess32 (setup.py) ... \u001b[?25l\u001b[?25hdone\n",
            "  Created wheel for subprocess32: filename=subprocess32-3.5.4-cp37-none-any.whl size=6489 sha256=ce823ea8f952447eda46be40b3bb1404b10dda4606c17587b9abea33b59257fe\n",
            "  Stored in directory: /root/.cache/pip/wheels/68/39/1a/5e402bdfdf004af1786c8b853fd92f8c4a04f22aad179654d1\n",
            "Successfully built pathtools subprocess32\n",
            "Installing collected packages: pathtools, sentry-sdk, docker-pycreds, shortuuid, smmap, gitdb, GitPython, subprocess32, configparser, wandb\n",
            "Successfully installed GitPython-3.1.17 configparser-5.0.2 docker-pycreds-0.4.0 gitdb-4.0.7 pathtools-0.1.2 sentry-sdk-1.1.0 shortuuid-1.0.1 smmap-4.0.0 subprocess32-3.5.4 wandb-0.10.30\n"
          ],
          "name": "stdout"
        }
      ]
    },
    {
      "cell_type": "code",
      "metadata": {
        "id": "v2zI50UCt9iq"
      },
      "source": [
        "import wandb"
      ],
      "execution_count": 2,
      "outputs": []
    },
    {
      "cell_type": "code",
      "metadata": {
        "id": "DDiou8-duFuX"
      },
      "source": [
        "import pandas as pd\n",
        "import numpy as np\n",
        "import math\n",
        "import random\n",
        "from keras import Input, regularizers, Model\n",
        "from keras.layers import Input\n",
        "from keras.layers import LSTM, SimpleRNN, GRU\n",
        "from keras.layers import Dense, Embedding\n",
        "from keras.utils.vis_utils import plot_model"
      ],
      "execution_count": 3,
      "outputs": []
    },
    {
      "cell_type": "code",
      "metadata": {
        "colab": {
          "base_uri": "https://localhost:8080/"
        },
        "id": "r512JZakuAco",
        "outputId": "3b936ec3-a0bc-4ac4-cc65-f22ab76ffecb"
      },
      "source": [
        "from google.colab import drive\n",
        "drive.mount('/content/drive')"
      ],
      "execution_count": 4,
      "outputs": [
        {
          "output_type": "stream",
          "text": [
            "Mounted at /content/drive\n"
          ],
          "name": "stdout"
        }
      ]
    },
    {
      "cell_type": "code",
      "metadata": {
        "id": "dAlptuueuM2u"
      },
      "source": [
        "data = pd.read_csv (\"/content/drive/MyDrive/DLassignment3/hi.translit.sampled.train.tsv\", sep = '\\t')"
      ],
      "execution_count": 5,
      "outputs": []
    },
    {
      "cell_type": "code",
      "metadata": {
        "colab": {
          "base_uri": "https://localhost:8080/",
          "height": 402
        },
        "id": "LirBEof1uO3_",
        "outputId": "c3f0ed0e-2b9a-4d9e-959d-c6d6cc5e1fca"
      },
      "source": [
        "data.rename(columns = {'अं' : 'Hindi', 'an' : 'English'}, inplace = True)\n",
        "data"
      ],
      "execution_count": 6,
      "outputs": [
        {
          "output_type": "execute_result",
          "data": {
            "text/html": [
              "<div>\n",
              "<style scoped>\n",
              "    .dataframe tbody tr th:only-of-type {\n",
              "        vertical-align: middle;\n",
              "    }\n",
              "\n",
              "    .dataframe tbody tr th {\n",
              "        vertical-align: top;\n",
              "    }\n",
              "\n",
              "    .dataframe thead th {\n",
              "        text-align: right;\n",
              "    }\n",
              "</style>\n",
              "<table border=\"1\" class=\"dataframe\">\n",
              "  <thead>\n",
              "    <tr style=\"text-align: right;\">\n",
              "      <th></th>\n",
              "      <th>Hindi</th>\n",
              "      <th>English</th>\n",
              "      <th>3</th>\n",
              "    </tr>\n",
              "  </thead>\n",
              "  <tbody>\n",
              "    <tr>\n",
              "      <th>0</th>\n",
              "      <td>अंकगणित</td>\n",
              "      <td>ankganit</td>\n",
              "      <td>3</td>\n",
              "    </tr>\n",
              "    <tr>\n",
              "      <th>1</th>\n",
              "      <td>अंकल</td>\n",
              "      <td>uncle</td>\n",
              "      <td>4</td>\n",
              "    </tr>\n",
              "    <tr>\n",
              "      <th>2</th>\n",
              "      <td>अंकुर</td>\n",
              "      <td>ankur</td>\n",
              "      <td>4</td>\n",
              "    </tr>\n",
              "    <tr>\n",
              "      <th>3</th>\n",
              "      <td>अंकुरण</td>\n",
              "      <td>ankuran</td>\n",
              "      <td>3</td>\n",
              "    </tr>\n",
              "    <tr>\n",
              "      <th>4</th>\n",
              "      <td>अंकुरित</td>\n",
              "      <td>ankurit</td>\n",
              "      <td>3</td>\n",
              "    </tr>\n",
              "    <tr>\n",
              "      <th>...</th>\n",
              "      <td>...</td>\n",
              "      <td>...</td>\n",
              "      <td>...</td>\n",
              "    </tr>\n",
              "    <tr>\n",
              "      <th>44198</th>\n",
              "      <td>ह्वेनसांग</td>\n",
              "      <td>hiuentsang</td>\n",
              "      <td>1</td>\n",
              "    </tr>\n",
              "    <tr>\n",
              "      <th>44199</th>\n",
              "      <td>ह्वेनसांग</td>\n",
              "      <td>hsuantsang</td>\n",
              "      <td>1</td>\n",
              "    </tr>\n",
              "    <tr>\n",
              "      <th>44200</th>\n",
              "      <td>ह्वेनसांग</td>\n",
              "      <td>hyensang</td>\n",
              "      <td>1</td>\n",
              "    </tr>\n",
              "    <tr>\n",
              "      <th>44201</th>\n",
              "      <td>ह्वेनसांग</td>\n",
              "      <td>xuanzang</td>\n",
              "      <td>1</td>\n",
              "    </tr>\n",
              "    <tr>\n",
              "      <th>44202</th>\n",
              "      <td>ॐ</td>\n",
              "      <td>om</td>\n",
              "      <td>3</td>\n",
              "    </tr>\n",
              "  </tbody>\n",
              "</table>\n",
              "<p>44203 rows × 3 columns</p>\n",
              "</div>"
            ],
            "text/plain": [
              "           Hindi     English  3\n",
              "0        अंकगणित    ankganit  3\n",
              "1           अंकल       uncle  4\n",
              "2          अंकुर       ankur  4\n",
              "3         अंकुरण     ankuran  3\n",
              "4        अंकुरित     ankurit  3\n",
              "...          ...         ... ..\n",
              "44198  ह्वेनसांग  hiuentsang  1\n",
              "44199  ह्वेनसांग  hsuantsang  1\n",
              "44200  ह्वेनसांग    hyensang  1\n",
              "44201  ह्वेनसांग    xuanzang  1\n",
              "44202          ॐ          om  3\n",
              "\n",
              "[44203 rows x 3 columns]"
            ]
          },
          "metadata": {
            "tags": []
          },
          "execution_count": 6
        }
      ]
    },
    {
      "cell_type": "code",
      "metadata": {
        "colab": {
          "base_uri": "https://localhost:8080/"
        },
        "id": "oNu9EjGzPAY0",
        "outputId": "7a9e64f9-2ed0-4474-efc8-945e4ab48199"
      },
      "source": [
        "input_texts = []\n",
        "target_texts = []\n",
        "input_characters = set()\n",
        "target_characters = set()\n",
        "for j in range(len(data)):\n",
        "  try:\n",
        "    input_text=data.iloc[j,1]\n",
        "    target_text=data.iloc[j,0]\n",
        "    target_text = \"\\t\" + target_text + \"\\n\"\n",
        "    if(len(input_text)>=1 and len(target_text)>=2):\n",
        "      input_texts.append(input_text)\n",
        "      target_texts.append(target_text)\n",
        "    for char in input_text:\n",
        "      if char not in input_characters:\n",
        "        input_characters.add(char)\n",
        "    for char in target_text:\n",
        "      if char not in target_characters:\n",
        "        target_characters.add(char)\n",
        "  except: print(\"error\")\n",
        "input_characters.add(' ')\n",
        "target_characters.add(' ')"
      ],
      "execution_count": 7,
      "outputs": [
        {
          "output_type": "stream",
          "text": [
            "error\n",
            "error\n"
          ],
          "name": "stdout"
        }
      ]
    },
    {
      "cell_type": "code",
      "metadata": {
        "colab": {
          "base_uri": "https://localhost:8080/"
        },
        "id": "q1TgBHvXPZQW",
        "outputId": "43ea6fcf-abed-4909-ccd4-3ad80c37baff"
      },
      "source": [
        "input_characters = sorted(list(input_characters))\n",
        "target_characters = sorted(list(target_characters))\n",
        "num_encoder_tokens = len(input_characters)\n",
        "num_decoder_tokens = len(target_characters)\n",
        "max_encoder_seq_length = max([len(txt) for txt in input_texts])\n",
        "max_decoder_seq_length = max([len(txt) for txt in target_texts])\n",
        "print(\"Number of samples:\", len(input_texts))\n",
        "print(\"Number of unique input tokens:\", num_encoder_tokens)\n",
        "print(\"Number of unique output tokens:\", num_decoder_tokens)\n",
        "print(\"Max sequence length for inputs:\", max_encoder_seq_length)\n",
        "print(\"Max sequence length for outputs:\", max_decoder_seq_length)"
      ],
      "execution_count": 8,
      "outputs": [
        {
          "output_type": "stream",
          "text": [
            "Number of samples: 44201\n",
            "Number of unique input tokens: 27\n",
            "Number of unique output tokens: 66\n",
            "Max sequence length for inputs: 20\n",
            "Max sequence length for outputs: 21\n"
          ],
          "name": "stdout"
        }
      ]
    },
    {
      "cell_type": "code",
      "metadata": {
        "id": "kZRPfbkxuneL",
        "colab": {
          "base_uri": "https://localhost:8080/"
        },
        "outputId": "75e32a0c-f0c8-4037-8377-2c3458566c36"
      },
      "source": [
        "  tmp_x_train = []\n",
        "  tmp_x_train_index = random.sample([i for i in range(0,np.array(input_texts).shape[0])],math.ceil(np.array(input_texts).shape[0]*0.7))\n",
        "  tmp_x_val = []\n",
        "  tmp_y_train = []\n",
        "  tmp_y_val = []\n",
        "  for i in tmp_x_train_index:\n",
        "    tmp_x_train.append(input_texts[i])\n",
        "    tmp_y_train.append(target_texts[i])\n",
        "  for i in range(np.array(input_texts).shape[0]):\n",
        "    if i not in tmp_x_train_index:\n",
        "      tmp_x_val.append(input_texts[i])\n",
        "      tmp_y_val.append(target_texts[i])\n",
        "  for val in tmp_x_train[0]:\n",
        "    print(input_characters[np.argmax(np.array(val))],end=\"\")\n",
        "  print()\n",
        "  for val in tmp_y_train[0]:\n",
        "    print(target_characters[np.argmax(np.array(val))],end=\"\")\n",
        "  print()\n",
        "  for val in tmp_x_val[0]:\n",
        "    print(input_characters[np.argmax(val)],end=\"\")\n",
        "  print()\n",
        "  for val in tmp_y_val[0]:\n",
        "    print(target_characters[np.argmax(val)],end=\"\")\n",
        "  print()\n",
        "  lim=int(len(tmp_x_train)*0.9)\n",
        "  x_train = tmp_x_train[0:lim]\n",
        "  y_train = tmp_y_train[0:lim]\n",
        "  x_val = tmp_x_train[lim:]\n",
        "  y_val = tmp_y_train[lim:]\n",
        "  x_test = tmp_x_val\n",
        "  y_test = tmp_y_val\n",
        "\n",
        "  # x_train = np.array(sample_in[:math.ceil(np.array(sample_in).shape[0]*0.7)])\n",
        "  # y_train = np.array(sample_out[:math.ceil(np.array(sample_out).shape[0]*0.7)])\n",
        "  # x_val = np.array(sample_in[math.ceil(np.array(sample_in).shape[0]*0.7):])\n",
        "  # y_val = np.array(sample_out[math.ceil(np.array(sample_out).shape[0]*0.7):])\n",
        "  # x_train = np.array(sample_in)\n",
        "  # y_train = np.array(sample_out)"
      ],
      "execution_count": 9,
      "outputs": [
        {
          "output_type": "stream",
          "text": [
            "      \n",
            "\t\t\t\t\t\t\t\n",
            "        \n",
            "\t\t\t\t\t\t\t\t\t\n"
          ],
          "name": "stdout"
        }
      ]
    },
    {
      "cell_type": "code",
      "metadata": {
        "id": "Qng8IlRG5-00"
      },
      "source": [
        "input_token_index = dict([(char, i) for i, char in enumerate(input_characters)])\n",
        "target_token_index = dict([(char, i) for i, char in enumerate(target_characters)])"
      ],
      "execution_count": 10,
      "outputs": []
    },
    {
      "cell_type": "code",
      "metadata": {
        "id": "5rjwgu0qgbpd"
      },
      "source": [
        "reverse_input_char_index = dict((i, char) for char, i in input_token_index.items())\n",
        "reverse_target_char_index = dict((i, char) for char, i in target_token_index.items())"
      ],
      "execution_count": 11,
      "outputs": []
    },
    {
      "cell_type": "code",
      "metadata": {
        "id": "130LetV1RACp"
      },
      "source": [
        "\n",
        "\n",
        "encoder_input_data = np.zeros(\n",
        "    (len(x_train), max_encoder_seq_length, num_encoder_tokens), dtype=\"float32\"\n",
        ")\n",
        "decoder_input_data = np.zeros(\n",
        "    (len(x_train), max_decoder_seq_length, num_decoder_tokens), dtype=\"float32\"\n",
        ")\n",
        "decoder_target_data = np.zeros(\n",
        "    (len(x_train), max_decoder_seq_length, num_decoder_tokens), dtype=\"float32\"\n",
        ")"
      ],
      "execution_count": 12,
      "outputs": []
    },
    {
      "cell_type": "markdown",
      "metadata": {
        "id": "Bma1hZMkFgX-"
      },
      "source": [
        ""
      ]
    },
    {
      "cell_type": "code",
      "metadata": {
        "id": "Z1LKPyt3RJeP"
      },
      "source": [
        "for i, (input_text, target_text) in enumerate(zip(x_train, y_train)):\n",
        "    for t, char in enumerate(input_text):\n",
        "        encoder_input_data[i, t, input_token_index[char]] = 1.0\n",
        "    encoder_input_data[i, t + 1 :, input_token_index[\" \"]] = 1.0\n",
        "    for t, char in enumerate(target_text):\n",
        "        # decoder_target_data is ahead of decoder_input_data by one timestep\n",
        "        decoder_input_data[i, t, target_token_index[char]] = 1.0\n",
        "        if t > 0:\n",
        "            # decoder_target_data will be ahead by one timestep\n",
        "            # and will not include the start character.\n",
        "            decoder_target_data[i, t - 1, target_token_index[char]] = 1.0\n",
        "    decoder_input_data[i, t + 1 :, target_token_index[\" \"]] = 1.0\n",
        "    decoder_target_data[i, t:, target_token_index[\" \"]] = 1.0"
      ],
      "execution_count": 13,
      "outputs": []
    },
    {
      "cell_type": "code",
      "metadata": {
        "id": "k1klOilmmhl4"
      },
      "source": [
        "encoder_input_val = np.zeros(\n",
        "    (len(x_val), max_encoder_seq_length, num_encoder_tokens), dtype=\"float32\"\n",
        ")\n",
        "decoder_input_val = np.zeros(\n",
        "    (len(x_val), max_decoder_seq_length, num_decoder_tokens), dtype=\"float32\"\n",
        ")\n",
        "decoder_target_val = np.zeros(\n",
        "    (len(x_val), max_decoder_seq_length, num_decoder_tokens), dtype=\"float32\"\n",
        ")"
      ],
      "execution_count": 14,
      "outputs": []
    },
    {
      "cell_type": "code",
      "metadata": {
        "id": "6C60oiTim1TQ"
      },
      "source": [
        "for i, (input_text, target_text) in enumerate(zip(x_val, y_val)):\n",
        "    for t, char in enumerate(input_text):\n",
        "        encoder_input_val[i, t, input_token_index[char]] = 1.0\n",
        "    encoder_input_val[i, t + 1 :, input_token_index[\" \"]] = 1.0\n",
        "    for t, char in enumerate(target_text):\n",
        "        # decoder_target_data is ahead of decoder_input_data by one timestep\n",
        "        decoder_input_val[i, t, target_token_index[char]] = 1.0\n",
        "        if t > 0:\n",
        "            # decoder_target_data will be ahead by one timestep\n",
        "            # and will not include the start character.\n",
        "            decoder_target_val[i, t - 1, target_token_index[char]] = 1.0\n",
        "    decoder_input_val[i, t + 1 :, target_token_index[\" \"]] = 1.0\n",
        "    decoder_target_val[i, t:, target_token_index[\" \"]] = 1.0"
      ],
      "execution_count": 15,
      "outputs": []
    },
    {
      "cell_type": "code",
      "metadata": {
        "id": "g8mOmLdH64v0"
      },
      "source": [
        "encoder_input_test = np.zeros(\n",
        "    (len(x_test), max_encoder_seq_length, num_encoder_tokens), dtype=\"float32\"\n",
        ")\n",
        "decoder_input_test = np.zeros(\n",
        "    (len(x_test), max_decoder_seq_length, num_decoder_tokens), dtype=\"float32\"\n",
        ")\n",
        "decoder_target_test = np.zeros(\n",
        "    (len(x_test), max_decoder_seq_length, num_decoder_tokens), dtype=\"float32\"\n",
        ")"
      ],
      "execution_count": 16,
      "outputs": []
    },
    {
      "cell_type": "code",
      "metadata": {
        "id": "Al12TtdC7Zun"
      },
      "source": [
        "for i, (input_text, target_text) in enumerate(zip(x_test, y_test)):\n",
        "    for t, char in enumerate(input_text):\n",
        "        encoder_input_test[i, t, input_token_index[char]] = 1.0\n",
        "    encoder_input_test[i, t + 1 :, input_token_index[\" \"]] = 1.0\n",
        "    for t, char in enumerate(target_text):\n",
        "        # decoder_target_data is ahead of decoder_input_data by one timestep\n",
        "        decoder_input_test[i, t, target_token_index[char]] = 1.0\n",
        "        if t > 0:\n",
        "            # decoder_target_data will be ahead by one timestep\n",
        "            # and will not include the start character.\n",
        "            decoder_target_test[i, t - 1, target_token_index[char]] = 1.0\n",
        "    decoder_input_test[i, t + 1 :, target_token_index[\" \"]] = 1.0\n",
        "    decoder_target_test[i, t:, target_token_index[\" \"]] = 1.0"
      ],
      "execution_count": 17,
      "outputs": []
    },
    {
      "cell_type": "code",
      "metadata": {
        "colab": {
          "base_uri": "https://localhost:8080/"
        },
        "id": "7KOetQTjymcF",
        "outputId": "bf2ff9f6-2e61-41c2-eb06-0c8b5b367624"
      },
      "source": [
        "encoder_input_test.shape"
      ],
      "execution_count": 18,
      "outputs": [
        {
          "output_type": "execute_result",
          "data": {
            "text/plain": [
              "(13260, 20, 27)"
            ]
          },
          "metadata": {
            "tags": []
          },
          "execution_count": 18
        }
      ]
    },
    {
      "cell_type": "code",
      "metadata": {
        "id": "wzj-spBru8IY"
      },
      "source": [
        "# Configure the sweep – specify the parameters to search through, the search strategy, the optimization metric et all.\n",
        "sweep_config = {\n",
        "    'method': 'random', #grid, random\n",
        "    'metric': {\n",
        "      'name': 'accuracy',\n",
        "      'goal': 'maximize'   \n",
        "    },\n",
        "    'parameters': {\n",
        "        'epochs': {\n",
        "            'values': [1,2,3,5,7,9, 10,11,50,60,70,80,90,100]\n",
        "            #'values':[100,50]\n",
        "        },\n",
        "        'weight_decay':{\n",
        "           'values': [0, 1e-1, 1e-2, 1e-3,0.00099,0.00111]\n",
        "           # 'values':[1e-3]\n",
        "          #  'values':[0.00099]\n",
        "        },\n",
        "         'batchSize':{\n",
        "            'values':[64,128]\n",
        "            # 'values':[8]\n",
        "            # 'values':[16]\n",
        "        },\n",
        "        'regular_dropout':{\n",
        "            'values':[0.2,0.3,0.4]\n",
        "            # 'values':[0.2]\n",
        "            # 'values':[0.4]\n",
        "        },\n",
        "        'recurrent_dropout':{\n",
        "            'values':[0.2,0.3,0.4]\n",
        "            # 'values':[0.2]\n",
        "            # 'values':[0.2]\n",
        "        },\n",
        "        'regular_activation':{\n",
        "            'values': ['sigmoid','tanh','relu']\n",
        "            \n",
        "            # 'values':['sigmoid']\n",
        "            # 'values':['relu']\n",
        "        },\n",
        "        'recurrent_activation':{\n",
        "            'values': ['sigmoid','tanh','relu']\n",
        "            # 'values':['relu']\n",
        "            # 'values':['sigmoid']\n",
        "        },\n",
        "        'no_of_hidden_layers':{\n",
        "            'values':[1,2,3]\n",
        "            # 'values':[2]\n",
        "            # 'values':[3]\n",
        "        },\n",
        "        'hidden_layers_size':{\n",
        "            'values':[64,128,256]\n",
        "            #'values':[256]\n",
        "            # 'values':[128]\n",
        "            # 'values':[16]\n",
        "        },\n",
        "        'cell_type':{\n",
        "            'values':['RNN','GRU','LSTM']\n",
        "            #'values':['LSTM']\n",
        "            # 'values':['GRU']\n",
        "        }\n",
        "        # 'train_word_accuracy':{\n",
        "        #     'values':[0]\n",
        "        # }\n",
        "        # 'input_embedding_size':{\n",
        "        #     'values':[16,32,64,256]\n",
        "        # } \n",
        "        \n",
        "        #'activation': {\n",
        "            # 'values': ['relu', 'elu', 'selu', 'softmax']\n",
        "         #   'values': ['sigmoid','tanh','ReLu']\n",
        "        #}\n",
        "        \n",
        "        \n",
        "    }\n",
        "}"
      ],
      "execution_count": 34,
      "outputs": []
    },
    {
      "cell_type": "code",
      "metadata": {
        "colab": {
          "base_uri": "https://localhost:8080/"
        },
        "id": "mH418DvWv1XX",
        "outputId": "97f1df0e-6a59-4f7b-eff4-08db5e56aea8"
      },
      "source": [
        "  sweep_id = wandb.sweep(sweep_config, entity=\"dl_45_47\", project=\"Transliteration_model\")\n",
        "  #d7f2d3b3afd25dff68841ada514c88e687894723"
      ],
      "execution_count": 35,
      "outputs": [
        {
          "output_type": "stream",
          "text": [
            "Create sweep with ID: qdsd7hm1\n",
            "Sweep URL: https://wandb.ai/dl_45_47/Transliteration_model/sweeps/qdsd7hm1\n"
          ],
          "name": "stdout"
        }
      ]
    },
    {
      "cell_type": "markdown",
      "metadata": {
        "id": "IJ_LnCxy4JJ_"
      },
      "source": [
        "**REAL**"
      ]
    },
    {
      "cell_type": "code",
      "metadata": {
        "id": "UTSGllLk9T2D"
      },
      "source": [
        "def RNN_model(config):\n",
        "  # Define an input sequence and process it.\n",
        "  encoder_inputs = Input(shape=(None, num_encoder_tokens))\n",
        "  encoder_inputs_1 = encoder_inputs\n",
        "  encoder_states_1 = []\n",
        "  for i in range(config.no_of_hidden_layers-1):\n",
        "    encoder_inputs_1, state_1 = (SimpleRNN(config.hidden_layers_size, return_sequences=True,return_state=True,dropout=config.regular_dropout, recurrent_dropout=config.recurrent_dropout,activation=config.regular_activation))(encoder_inputs_1)\n",
        "    encoder_states_1.append(state_1)\n",
        "  encoder_inputs_1, state_1 = (SimpleRNN(config.hidden_layers_size, return_state=True,dropout=config.regular_dropout, recurrent_dropout=config.recurrent_dropout,activation=config.regular_activation))(encoder_inputs_1)\n",
        "  encoder_states_1.append(state_1)\n",
        "\n",
        "  # Set up the decoder, using `encoder_states` as initial state.\n",
        "  decoder_inputs = Input(shape=(None, num_decoder_tokens))\n",
        "  decoder_inputs_1 = decoder_inputs\n",
        "  for i in range(config.no_of_hidden_layers):\n",
        "    decoder_inputs_1, _ = (SimpleRNN(config.hidden_layers_size, return_sequences=True,return_state=True,dropout=config.regular_dropout, recurrent_dropout=config.recurrent_dropout,activation=config.regular_activation))(decoder_inputs_1, initial_state=encoder_states_1[i])\n",
        "  decoder_dense = Dense(num_decoder_tokens, activation='softmax', kernel_regularizer=regularizers.l2(config.weight_decay))\n",
        "  decoder_outputs = (decoder_dense)(decoder_inputs_1)\n",
        "\n",
        "  # Define the model that will turn\n",
        "  # `encoder_input_data` & `decoder_input_data` into `decoder_target_data`\n",
        "  model = Model([encoder_inputs, decoder_inputs], decoder_outputs)\n",
        "\n",
        "  # define encoder inference model\n",
        "  encoder_model = Model(encoder_inputs, encoder_states_1)\n",
        "  # define decoder inference model\n",
        "  # Below tensors will hold the states of the previous time step\n",
        "  decoder_states_inputs = [Input(shape=(config.hidden_layers_size,)) for _ in range(config.no_of_hidden_layers)]\n",
        "\n",
        "  # To predict the next word in the sequence, set the initial states to the states from the previous time step\n",
        "  decoder_states = []\n",
        "  decoder_outputs = decoder_inputs\n",
        "  for i in range(config.no_of_hidden_layers):\n",
        "    decoder_outputs, state_1 = (SimpleRNN(config.hidden_layers_size, return_sequences=True, return_state=True,dropout=config.regular_dropout, recurrent_dropout=config.recurrent_dropout,activation=config.regular_activation))(decoder_outputs, initial_state=decoder_states_inputs[i])\n",
        "    decoder_states.append(state_1)\n",
        "  \n",
        "  decoder_outputs_2 = decoder_dense(decoder_outputs)\n",
        "  decoder_model = Model([decoder_inputs] + decoder_states_inputs, [decoder_outputs_2] + decoder_states)\n",
        "\n",
        "  return model, encoder_model, decoder_model"
      ],
      "execution_count": 21,
      "outputs": []
    },
    {
      "cell_type": "code",
      "metadata": {
        "id": "XzIk0yd5yKG2"
      },
      "source": [
        "def LSTM_model(config):\n",
        "  # Define an input sequence and process it.\n",
        "  encoder_inputs = Input(shape=(None, num_encoder_tokens))\n",
        "  encoder_inputs_1 = encoder_inputs\n",
        "  encoder_states_1 = []\n",
        "  for i in range(config.no_of_hidden_layers-1):\n",
        "    encoder_inputs_1, state_h_1, state_c_1 = (LSTM(config.hidden_layers_size, return_sequences=True,return_state=True,dropout=config.regular_dropout, recurrent_dropout=config.recurrent_dropout,activation=config.regular_activation, recurrent_activation=config.recurrent_activation))(encoder_inputs_1)\n",
        "    encoder_state = [state_h_1, state_c_1]\n",
        "    encoder_states_1.append(encoder_state)\n",
        "  encoder_inputs_1, state_h_1, state_c_1 = (LSTM(config.hidden_layers_size, return_state=True,dropout=config.regular_dropout, recurrent_dropout=config.recurrent_dropout,activation=config.regular_activation, recurrent_activation=config.recurrent_activation))(encoder_inputs_1)\n",
        "  encoder_state = [state_h_1, state_c_1]\n",
        "  encoder_states_1.append(encoder_state)\n",
        "\n",
        "  # Set up the decoder, using `encoder_states` as initial state.\n",
        "  decoder_inputs = Input(shape=(None, num_decoder_tokens))\n",
        "  decoder_inputs_1 = decoder_inputs\n",
        "  for i in range(config.no_of_hidden_layers):\n",
        "    decoder_inputs_1, _, _ = (LSTM(config.hidden_layers_size, return_sequences=True,return_state=True,dropout=config.regular_dropout, recurrent_dropout=config.recurrent_dropout,activation=config.regular_activation, recurrent_activation=config.recurrent_activation))(decoder_inputs_1, initial_state=encoder_states_1[i])\n",
        "  decoder_dense = Dense(num_decoder_tokens, activation='softmax', kernel_regularizer=regularizers.l2(config.weight_decay))\n",
        "  decoder_outputs = decoder_dense(decoder_inputs_1)\n",
        "\n",
        "  # Define the model that will turn\n",
        "  # `encoder_input_data` & `decoder_input_data` into `decoder_target_data`\n",
        "  model = Model([encoder_inputs, decoder_inputs], decoder_outputs)\n",
        "\n",
        "  # define encoder inference model\n",
        "  encoder_model = Model(encoder_inputs, encoder_states_1)\n",
        "  # define decoder inference model\n",
        "  # Below tensors will hold the states of the previous time step\n",
        "  decoder_states_inputs = [Input(shape=(config.hidden_layers_size,)) for _ in range(2*config.no_of_hidden_layers)]\n",
        "\n",
        "  # To predict the next word in the sequence, set the initial states to the states from the previous time step\n",
        "  decoder_states = []\n",
        "  decoder_outputs = decoder_inputs\n",
        "  for i in range(config.no_of_hidden_layers):\n",
        "    decoder_outputs, state_h, state_c = (LSTM(config.hidden_layers_size, return_sequences=True, return_state=True,dropout=config.regular_dropout, recurrent_dropout=config.recurrent_dropout,activation=config.regular_activation, recurrent_activation=config.recurrent_activation))(decoder_outputs, initial_state=decoder_states_inputs[2*i:2*(i+1)])\n",
        "    decoder_states.append(state_h)\n",
        "    decoder_states.append(state_c)\n",
        "  \n",
        "  decoder_outputs_2 = decoder_dense(decoder_outputs)\n",
        "  decoder_model = Model([decoder_inputs] + decoder_states_inputs, [decoder_outputs_2] + decoder_states)\n",
        "\n",
        "  return model, encoder_model, decoder_model"
      ],
      "execution_count": 22,
      "outputs": []
    },
    {
      "cell_type": "code",
      "metadata": {
        "id": "flw3XWqY-E4S"
      },
      "source": [
        "def GRU_model(config):\n",
        "  # Define an input sequence and process it.\n",
        "  encoder_inputs = Input(shape=(None, num_encoder_tokens))\n",
        "  encoder_inputs_1 = encoder_inputs\n",
        "  encoder_states_1 = []\n",
        "  for i in range(config.no_of_hidden_layers-1):\n",
        "    encoder_inputs_1, state_1 = (GRU(config.hidden_layers_size, return_sequences=True,return_state=True,dropout=config.regular_dropout, recurrent_dropout=config.recurrent_dropout,activation=config.regular_activation))(encoder_inputs_1)\n",
        "    encoder_states_1.append(state_1)\n",
        "  encoder_inputs_1, state_1 = (GRU(config.hidden_layers_size, return_state=True,dropout=config.regular_dropout, recurrent_dropout=config.recurrent_dropout,activation=config.regular_activation))(encoder_inputs_1)\n",
        "  encoder_states_1.append(state_1)\n",
        "\n",
        "  # Set up the decoder, using `encoder_states` as initial state.\n",
        "  decoder_inputs = Input(shape=(None, num_decoder_tokens))\n",
        "  decoder_inputs_1 = decoder_inputs\n",
        "  for i in range(config.no_of_hidden_layers):\n",
        "    decoder_inputs_1, _ = (GRU(config.hidden_layers_size, return_sequences=True,return_state=True,dropout=config.regular_dropout, recurrent_dropout=config.recurrent_dropout,activation=config.regular_activation))(decoder_inputs_1, initial_state=encoder_states_1[i])\n",
        "  decoder_dense = Dense(num_decoder_tokens, activation='softmax', kernel_regularizer=regularizers.l2(config.weight_decay))\n",
        "  decoder_outputs = decoder_dense(decoder_inputs_1)\n",
        "\n",
        "   # Define the model that will turn\n",
        "  # `encoder_input_data` & `decoder_input_data` into `decoder_target_data`\n",
        "  model = Model([encoder_inputs, decoder_inputs], decoder_outputs)\n",
        "\n",
        "  # define encoder inference model\n",
        "  encoder_model = Model(encoder_inputs, encoder_states_1)\n",
        "  # define decoder inference model\n",
        "  # Below tensors will hold the states of the previous time step\n",
        "  decoder_states_inputs = [Input(shape=(config.hidden_layers_size,)) for _ in range(config.no_of_hidden_layers)]\n",
        "\n",
        "  # To predict the next word in the sequence, set the initial states to the states from the previous time step\n",
        "  decoder_states = []\n",
        "  decoder_outputs = decoder_inputs\n",
        "  for i in range(config.no_of_hidden_layers):\n",
        "    decoder_outputs, state_1 = (GRU(config.hidden_layers_size, return_sequences=True, return_state=True,dropout=config.regular_dropout, recurrent_dropout=config.recurrent_dropout,activation=config.regular_activation))(decoder_outputs, initial_state=decoder_states_inputs[i])\n",
        "    decoder_states.append(state_1)\n",
        "  \n",
        "  decoder_outputs_2 = decoder_dense(decoder_outputs)\n",
        "  decoder_model = Model([decoder_inputs] + decoder_states_inputs, [decoder_outputs_2] + decoder_states)\n",
        "\n",
        "  return model, encoder_model, decoder_model"
      ],
      "execution_count": 23,
      "outputs": []
    },
    {
      "cell_type": "code",
      "metadata": {
        "id": "J4dp4OKrgB7F"
      },
      "source": [
        "def decode_sequence(input_seq,encoder_model,decoder_model):\n",
        "    # Encode the input as state vectors.\n",
        "    states_value = encoder_model.predict(input_seq)\n",
        "\n",
        "    # Generate empty target sequence of length 1.\n",
        "    target_seq = np.zeros((1, 1, num_decoder_tokens))\n",
        "    # Populate the first character of target sequence with the start character.\n",
        "    target_seq[0, 0, target_token_index[\"\\t\"]] = 1.0\n",
        "\n",
        "    # Sampling loop for a batch of sequences\n",
        "    # (to simplify, here we assume a batch of size 1).\n",
        "    stop_condition = False\n",
        "    decoded_sentence = \"\"\n",
        "    while not stop_condition:\n",
        "        returned = decoder_model.predict([target_seq] + states_value)\n",
        "        output_tokens = returned[0]\n",
        "        states_value = returned[1:]\n",
        "        # Sample a token\n",
        "        sampled_token_index = np.argmax(output_tokens[0, -1, :])\n",
        "        sampled_char = reverse_target_char_index[sampled_token_index]\n",
        "        decoded_sentence += sampled_char\n",
        "\n",
        "        # Exit condition: either hit max length\n",
        "        # or find stop character.\n",
        "        if sampled_char == \"\\n\" or len(decoded_sentence) > max_decoder_seq_length:\n",
        "            stop_condition = True\n",
        "\n",
        "        # Update the target sequence (of length 1).\n",
        "        target_seq = np.zeros((1, 1, num_decoder_tokens))\n",
        "        target_seq[0, 0, sampled_token_index] = 1.0\n",
        "\n",
        "        # Update states\n",
        "        \n",
        "    return decoded_sentence"
      ],
      "execution_count": 24,
      "outputs": []
    },
    {
      "cell_type": "code",
      "metadata": {
        "id": "ejEZ-ueeghqL"
      },
      "source": [
        ""
      ],
      "execution_count": 24,
      "outputs": []
    },
    {
      "cell_type": "code",
      "metadata": {
        "id": "HppmlEZg3ZXJ"
      },
      "source": [
        "# def final_gru_rnn_predict_sequence(ienc, idec, source,dest, time_steps, dec_size):\n",
        "#   # encode\n",
        "#   state = ienc.predict(source)\n",
        " \n",
        "#   # # # start of sequence input\n",
        "#   # target_seq = np.array([0.0 for _ in range(dec_size)]).reshape(1, 1, dec_size)\n",
        "#   target_seq = dest[0][0].reshape(1, 1, dec_size)\n",
        "#   # collect predictions\n",
        "#   output = list()\n",
        "#   for t in range(time_steps-1):\n",
        "#     # predict next char\n",
        "#     returned = idec.predict([target_seq] + state)\n",
        "#     yhat = returned[0]\n",
        "#     state = returned[1:]\n",
        "#     # store prediction\n",
        "#     output.append(yhat[0,0,:])\n",
        "#     # update target sequence\n",
        "#     target_seq = dest[0][t+1].reshape(1, 1, dec_size)\n",
        "#     print(characters[np.argmax(dest[0][t])],end=\"\")\n",
        "#   return np.array(output)  "
      ],
      "execution_count": 25,
      "outputs": []
    },
    {
      "cell_type": "code",
      "metadata": {
        "id": "VG5HGn2z3hkH"
      },
      "source": [
        "# def final_lstm_predict_sequence(ienc, idec, source,dest, time_steps, dec_size):\n",
        "#   # encode\n",
        "#   state = ienc.predict(source)\n",
        " \n",
        "#   # # # start of sequence input\n",
        "#   # target_seq = np.array([0.0 for _ in range(dec_size)]).reshape(1, 1, dec_size)\n",
        "#   target_seq = dest[0][0].reshape(1, 1, dec_size)\n",
        "#   # collect predictions\n",
        "#   output = list()\n",
        "#   for t in range(time_steps-1):\n",
        "#     # predict next char\n",
        "#     returned = idec.predict([target_seq] + state)\n",
        "#     yhat = returned[0]\n",
        "#     state = returned[1:]\n",
        "#     # store prediction\n",
        "#     output.append(yhat[0,0,:])\n",
        "#     # update target sequence\n",
        "#     target_seq = dest[0][t+1].reshape(1, 1, dec_size)\n",
        "#     print(characters[np.argmax(dest[0][t])],end=\" \")\n",
        "#   return np.array(output)  "
      ],
      "execution_count": 26,
      "outputs": []
    },
    {
      "cell_type": "code",
      "metadata": {
        "colab": {
          "base_uri": "https://localhost:8080/",
          "height": 35
        },
        "id": "Onicy6Xwg3_H",
        "outputId": "68d58e7f-b41a-4bb9-c4f8-32c76e1f7403"
      },
      "source": [
        "tmp_y_val[0][1:-1]"
      ],
      "execution_count": 27,
      "outputs": [
        {
          "output_type": "execute_result",
          "data": {
            "application/vnd.google.colaboratory.intrinsic+json": {
              "type": "string"
            },
            "text/plain": [
              "'अंकगणित'"
            ]
          },
          "metadata": {
            "tags": []
          },
          "execution_count": 27
        }
      ]
    },
    {
      "cell_type": "code",
      "metadata": {
        "colab": {
          "base_uri": "https://localhost:8080/",
          "height": 35
        },
        "id": "cRQwMx732qv_",
        "outputId": "77c343f6-ae7b-4a92-d892-add214e2fcba"
      },
      "source": [
        "y_train[0][1:-1]"
      ],
      "execution_count": 28,
      "outputs": [
        {
          "output_type": "execute_result",
          "data": {
            "application/vnd.google.colaboratory.intrinsic+json": {
              "type": "string"
            },
            "text/plain": [
              "'बडौदा'"
            ]
          },
          "metadata": {
            "tags": []
          },
          "execution_count": 28
        }
      ]
    },
    {
      "cell_type": "code",
      "metadata": {
        "colab": {
          "base_uri": "https://localhost:8080/",
          "height": 35
        },
        "id": "RDdlFSPkcmQC",
        "outputId": "1dc29ae1-bc99-4a43-dd69-956bf5406e70"
      },
      "source": [
        "y_test[0]"
      ],
      "execution_count": 29,
      "outputs": [
        {
          "output_type": "execute_result",
          "data": {
            "application/vnd.google.colaboratory.intrinsic+json": {
              "type": "string"
            },
            "text/plain": [
              "'\\tअंकगणित\\n'"
            ]
          },
          "metadata": {
            "tags": []
          },
          "execution_count": 29
        }
      ]
    },
    {
      "cell_type": "code",
      "metadata": {
        "id": "qIG7LmGshKYs"
      },
      "source": [
        "def accuracy_train( encoder_model, decoder_model):\n",
        "  count_test=0\n",
        "  count_train=0\n",
        "  num_sam=100\n",
        "  for i in range(num_sam):\n",
        "    seq_index=random.randint(0,len(x_test))\n",
        "    # Take one sequence (part of the training set)\n",
        "    # for trying out decoding.\n",
        "    input_seq = encoder_input_test[seq_index : seq_index + 1]\n",
        "    decoded_sentence = decode_sequence(input_seq,encoder_model, decoder_model)\n",
        "    if(decoded_sentence[0:-1]==y_test[seq_index][1:-1]):\n",
        "      count_test=count_test+1\n",
        "    print(\"test_Input word:\", x_test[seq_index])\n",
        "    print(\"test_expected word:\", y_test[seq_index][1:-1])\n",
        "    print(\"test_predicted word:\", decoded_sentence[0:-1])\n",
        "    print(\" \")\n",
        "  for i in range(num_sam):\n",
        "    seq_index=random.randint(0,len(x_train))\n",
        "    # Take one sequence (part of the training set)\n",
        "    # for trying out decoding.\n",
        "    input_seq = encoder_input_data[seq_index : seq_index + 1]\n",
        "    decoded_sentence = decode_sequence(input_seq,encoder_model, decoder_model)\n",
        "    if(decoded_sentence[0:-1]==y_train[seq_index][1:-1]):\n",
        "      count_train=count_train+1\n",
        "    print(\"train_Input word:\", x_train[seq_index])\n",
        "    print(\"train_expected word:\", y_train[seq_index][1:-1])\n",
        "    print(\"train_predicted word:\", decoded_sentence[0:-1])\n",
        "    print(\" \")\n",
        "  return count_test/num_sam,count_train/num_sam"
      ],
      "execution_count": 30,
      "outputs": []
    },
    {
      "cell_type": "code",
      "metadata": {
        "id": "DNCAlXYPxaq5"
      },
      "source": [
        "# def accuracy_train( encoder_model, decoder_model):\n",
        "#   cnt=0\n",
        "#   for i in range(len(tmp_x_val)):\n",
        "#     # start of sequence input\n",
        "#     target_seq = np.array([0.0 for _ in range(num_decoder_tokens)]).reshape(1, 1, num_decoder_tokens)\n",
        "\n",
        "#     if cell_type == 'RNN':\n",
        "#       pred_val = final_gru_rnn_predict_sequence(encoder_model, decoder_model, np.array([x_train[i]]),np.array([y_train[i]]), time_step, num_decoder_tokens)\n",
        "#     elif cell_type == 'LSTM':\n",
        "#       pred_val = final_lstm_predict_sequence(encoder_model, decoder_model, np.array([x_train[i]]),np.array([y_train[i]]), time_step, num_decoder_tokens)\n",
        "#     elif cell_type == 'GRU':\n",
        "#       pred_val = final_gru_rnn_predict_sequence(encoder_model, decoder_model, np.array([x_train[i]]),np.array([y_train[i]]), time_step, num_decoder_tokens)\n",
        "#     print()\n",
        "#     print(\"Expected : \",end=\"\\n\")\n",
        "#     for val in y_train[i]:\n",
        "#       print(characters[np.argmax(val)],end =\" \")\n",
        "#     print()\n",
        "#     print(\"Predicted :\",end=\"\\n\")\n",
        "#     for val in pred_val:\n",
        "#       print(characters[np.argmax(val)],end =\" \")\n",
        "#     print()\n",
        "#   #   cntTemp = 0\n",
        "#   #   for j in range(max_decoder_seq_length):\n",
        "#   #     if characters[np.argmax(y_train[i][j])] == characters[np.argmax(pred_val[j])]:\n",
        "#   #        cntTemp+=1\n",
        "#   #   if cntTemp == max_decoder_seq_length:\n",
        "#   #     cnt+=1\n",
        "#   # return cnt/len(x_val)\n",
        "#     # print(cnt)\n"
      ],
      "execution_count": 31,
      "outputs": []
    },
    {
      "cell_type": "code",
      "metadata": {
        "id": "Kwqb9kkPwBeU"
      },
      "source": [
        "# The sweep calls this function with each set of hyperparameters\n",
        "def train():\n",
        "  # Default values for hyper-parameters we're going to sweep over\n",
        "  #\n",
        "\n",
        "    config_defaults = {\n",
        "        'epochs': 5,\n",
        "        'weight_decay': 1e-2,\n",
        "         'batchSize':16,\n",
        "        'regular_dropout':0.2,\n",
        "        'recurrent_dropout':0.2,\n",
        "        'no_of_hidden_layers':1,\n",
        "        'hidden_layers_size':256,\n",
        "        'cell_type':'LSTM'\n",
        "    }\n",
        "\n",
        "    # SUFFLE TRAIN AND VAL INPUT\n",
        "    # tmp_x_train_index = random.sample([i for i in range(np.array(sample_in).shape[0])],math.ceil(np.array(sample_in).shape[0]*0.7))\n",
        "    # for i in tmp_x_train_index:\n",
        "    #   tmp_x_train.append(sample_in[i])\n",
        "    #   tmp_y_train.append(sample_out[i])\n",
        "    # for i in range(np.array(sample_in).shape[0]):\n",
        "    #   if i not in tmp_x_train_index:\n",
        "    #     tmp_x_val.append(sample_in[i])\n",
        "    #     tmp_y_val.append(sample_out[i])\n",
        "    # for val in tmp_x_train[0]:\n",
        "    #   print(alphabets[np.argmax(np.array(val))],end=\"\")\n",
        "    # print()\n",
        "    # for val in tmp_y_train[0]:\n",
        "    #   print(characters[np.argmax(np.array(val))],end=\"\")\n",
        "    # print()\n",
        "    # for val in tmp_x_val[0]:\n",
        "    #   print(alphabets[np.argmax(val)],end=\"\")\n",
        "    # print()\n",
        "    # for val in tmp_y_val[0]:\n",
        "    #   print(characters[np.argmax(val)],end=\"\")\n",
        "    # print()\n",
        "    # x_train = np.array(tmp_x_train)\n",
        "    # y_train = np.array(tmp_y_train)\n",
        "    # x_val = np.array(tmp_x_val)\n",
        "    # y_val = np.array(tmp_y_val)\n",
        "\n",
        "\n",
        "    # Initialize a new wandb run\n",
        "    wandb.init(config=config_defaults)\n",
        "    \n",
        "    # Config is a variable that holds and saves hyperparameters and inputs\n",
        "    config = wandb.config\n",
        "\n",
        "    if config.cell_type == 'RNN':\n",
        "      model, encoder_model, decoder_model = RNN_model(config)\n",
        "    elif config.cell_type == 'LSTM':\n",
        "      model, encoder_model, decoder_model = LSTM_model(config)\n",
        "    elif config.cell_type == 'GRU':\n",
        "      model, encoder_model, decoder_model = GRU_model(config)\n",
        "    \n",
        "    # plot_model(encoder_model, to_file='encoder_model.png', show_shapes=True)\n",
        "    # plot_model(decoder_model, to_file='decoder_model.png', show_shapes=True)\n",
        "\n",
        "\n",
        "\n",
        "    model.compile(optimizer='rmsprop', loss='categorical_crossentropy', metrics=['accuracy'])\n",
        "\n",
        "    history = model.fit([encoder_input_data, decoder_input_data],decoder_target_data, epochs=config.epochs,validation_data=([encoder_input_val, decoder_input_val],decoder_target_val), batch_size=config.batchSize)\n",
        "\n",
        "    acc_test,acc_train=accuracy_train( encoder_model, decoder_model)    \n",
        "\n",
        "    accuracy, loss, val_accuracy, val_loss = history.history['accuracy'], history.history['loss'], history.history['val_accuracy'], history.history['val_loss']\n",
        "\n",
        "    # wandb.log({'val_loss' : val_loss, 'val_accuracy': val_accuracy})\n",
        "\n",
        "    for i in range(config.epochs):\n",
        "      wandb.log({'val_loss' : val_loss[i], 'val_accuracy': val_accuracy[i],'loss' : loss[i], 'accuracy': accuracy[i], 'epoch': i})\n",
        "    # wandb.finish()\n",
        "    print(\"test word accuracy:\",acc_test)\n",
        "    print(\"train word accuracy:\",acc_train)\n",
        "    \n",
        "    "
      ],
      "execution_count": 32,
      "outputs": []
    },
    {
      "cell_type": "code",
      "metadata": {
        "id": "oHh8tVDn6wXa"
      },
      "source": [
        "# 18 May\n",
        "wandb.agent(sweep_id, train)"
      ],
      "execution_count": null,
      "outputs": []
    },
    {
      "cell_type": "code",
      "metadata": {
        "id": "iYnxgDvHkxd0"
      },
      "source": [
        ""
      ],
      "execution_count": 34,
      "outputs": []
    }
  ]
}